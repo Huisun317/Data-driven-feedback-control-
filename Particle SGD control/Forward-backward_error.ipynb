{
 "cells": [
  {
   "cell_type": "code",
   "execution_count": 1,
   "id": "1fd3700a",
   "metadata": {},
   "outputs": [],
   "source": [
    "using Distributions\n",
    "using LinearAlgebra\n",
    "using Plots\n",
    "using Random\n",
    "using DelimitedFiles\n",
    "using ForwardDiff\n",
    "using HaltonSequences"
   ]
  },
  {
   "cell_type": "code",
   "execution_count": 2,
   "id": "de681d0e",
   "metadata": {},
   "outputs": [],
   "source": [
    "uniform=Uniform(0,1);"
   ]
  },
  {
   "cell_type": "code",
   "execution_count": 3,
   "id": "dbdaeaaf",
   "metadata": {},
   "outputs": [
    {
     "data": {
      "text/plain": [
       "denom (generic function with 1 method)"
      ]
     },
     "execution_count": 3,
     "metadata": {},
     "output_type": "execute_result"
    }
   ],
   "source": [
    "function Af(t)\n",
    "    temp=1.0/((1.0.+σ^2).+σ^2*(T.-t)); \n",
    "    return temp \n",
    "end\n",
    "function Xstar(t)\n",
    "    denfrac=(σ^2.0.+1.0.+σ^2*T)./(1.0.+σ^2.0.+σ^2*(T.-t))\n",
    "    temp=t.+(T.^2.0./(2*σ^2) -XT1./σ^2 )*log.(denfrac)\n",
    "    return temp\n",
    "end\n",
    "\n",
    "function rt1(tvec,deno)\n",
    "    return 0.5*(-tvec.^2).*deno\n",
    "end\n",
    "\n",
    "function rt1_v2(tvec)\n",
    "    return 0.5*(-tvec.^2).*1.0./(1.0.+σ^2.0.+σ^2*(T.-tvec))\n",
    "end\n",
    "\n",
    "function denom(tvec)\n",
    "    return 1.0./(1.0.+σ^2.0.+σ^2*(T.-tvec))\n",
    "end"
   ]
  },
  {
   "cell_type": "code",
   "execution_count": 4,
   "id": "e452f64e",
   "metadata": {},
   "outputs": [
    {
     "data": {
      "text/plain": [
       "ExactSol (generic function with 1 method)"
      ]
     },
     "execution_count": 4,
     "metadata": {},
     "output_type": "execute_result"
    }
   ],
   "source": [
    "# this matrix compute the inverse of the matrix of interest. \n",
    "function mainMat(x0,ntime)\n",
    "    Nn=length(ntime); \n",
    "    mat=zeros(Nn+1,Nn+1); \n",
    "    bVec=zeros(Nn+1); \n",
    "    \n",
    "    bprep=Xstar(ntime); \n",
    "    \n",
    "    denr1=denom(ntime); \n",
    "    rvec=rt1(ntime,denr1); \n",
    "    \n",
    "    tempX=zeros(Nn+1);\n",
    "    ucontrol=zeros(Nn);   \n",
    "    \n",
    "    for i in collect(1:1:Nn)\n",
    "        atemp=Af(ntime[i]);\n",
    "        mat[i,i]=1.0 \n",
    "        mat[i,i+1]=-1.0 \n",
    "        mat[i,i:Nn]=mat[i,i:Nn].-atemp*dt2*ones(Nn-i+1)\n",
    "        \n",
    "        mat[i,end]=mat[i,end]-atemp*Δt; \n",
    "        \n",
    "        bVec[i]=-(sum(bprep[i:Nn]))*atemp*dt2+rvec[i]*Δt\n",
    "    end\n",
    "    mat[Nn+1,1]=1.0;\n",
    "    bVec[end]=copy(x0); \n",
    "    \n",
    "    tempX=inv(mat)*bVec; \n",
    "    ucontrol=(tempX[2:end].-tempX[1:Nn])/Δt.+rvec[1:Nn] \n",
    "    return ucontrol\n",
    "end\n",
    "\n",
    "function ExactSol(x0,ntime)\n",
    "    Nn=length(ntime); \n",
    "    xtemp=copy(x0); \n",
    "    control_output=zeros(Nn); \n",
    "    xVec=zeros(Nn+1); xVec[1]=x0; \n",
    "    \n",
    "    \n",
    "    for i in collect(1:1:Nn)\n",
    "        timeloc=ntime[i:end];\n",
    "        controln=mainMat(xtemp,timeloc)\n",
    "        control_output[i]=controln[1]; \n",
    "        \n",
    "        rval=rt1_v2(ntime[i]);  \n",
    "        xtemp=xtemp.+ (controln[1]- rval) *Δt.+σ*controln[1].*Wfixed[i]*sqrtt;\n",
    "        xVec[i+1]=xtemp; \n",
    "    end\n",
    "    return control_output, xVec\n",
    "end"
   ]
  },
  {
   "cell_type": "markdown",
   "id": "cf647921",
   "metadata": {},
   "source": [
    "## Numerical Part of the problem "
   ]
  },
  {
   "cell_type": "code",
   "execution_count": 5,
   "id": "2f3ecc3a",
   "metadata": {},
   "outputs": [
    {
     "data": {
      "text/plain": [
       "particleDirect (generic function with 1 method)"
      ]
     },
     "execution_count": 5,
     "metadata": {},
     "output_type": "execute_result"
    }
   ],
   "source": [
    "function fx(x,xs)\n",
    "    l=x.-xs\n",
    "    return l\n",
    "end\n",
    "function Xtraj(xinit_cloud,ntime,nU) \n",
    "    #nU has dim  × nN\n",
    "    nN=length(ntime); \n",
    "    Xvec=zeros(nN+1);\n",
    "    \n",
    "    rp_index=rand(1:S)\n",
    "    Xvec[1]=xinit_cloud[rp_index]\n",
    "    Wvec=randn(nN);\n",
    "    \n",
    "    for i in collect(1:1:nN)\n",
    "       # den_temp=denom(ntime[i]); \n",
    "        rval=rt1_v2(ntime[i]);    \n",
    "        Xvec[i+1]=Xvec[i].+ (nU[i]-rval)*Δt.+σ*nU[i]*Wvec[i]*sqrtt; \n",
    "    end\n",
    "    return Xvec,Wvec\n",
    "end\n",
    "\n",
    "function YZ(xvec,uvec,wvec,ntime)\n",
    "    \"\"\"\n",
    "    Returns one backward sample according to the forward sample of X and the corresponding control. \n",
    "    \"\"\"\n",
    "    wvec_temp=wvec; \n",
    "    Nn=length(ntime);   #length(xvec); \n",
    "    \n",
    "    ytemp=zeros(Nn+1); ztemp=zeros(Nn);    \n",
    "    \" according to our scheme, the terminal condition of yT is not 0 anymore \"  \n",
    "    ytemp[end]=xvec[end]; \n",
    "       \n",
    "    for i in collect(Nn:-1:1)\n",
    "        ztemp[i]=ytemp[i+1].*wvec_temp[i]/sqrtt; \n",
    "        ytemp[i]=ytemp[i+1].+Δt*(fx(xvec[i],Xstar(ntime[i])))\n",
    "    end\n",
    "    return ytemp,ztemp\n",
    "end\n",
    "\n",
    "function jcp(yvec,zvec,xvec,Uvec)\n",
    "    Nn=length(Uvec);\n",
    "    temp=zeros(Nn); \n",
    "    for i in collect(1:1:Nn)\n",
    "        temp[i]=yvec[i]+σ*zvec[i]+Uvec[i]\n",
    "    end\n",
    "    return temp\n",
    "end\n",
    "    \n",
    "function optimize_loc(xinit_cloud,ntime)\n",
    "    nN=length(ntime); \n",
    "    Uvec=zeros(nN); \n",
    "# the threads are only distributed over the closest loop. \n",
    "Threads.@threads for i in collect(1:1:L) #  Threads.@threads \n",
    "        xvec,Wvec=Xtraj(xinit_cloud,ntime,Uvec); \n",
    "        yvec,zvec=YZ(xvec,Uvec,Wvec, ntime);\n",
    "        Uvec=Uvec.-lr[i]*jcp(yvec,zvec,xvec,Uvec) #jPrime(yvec,Uvec)#.-0.05*jPrime(yvec,Uvec)\n",
    "    end\n",
    "    return Uvec\n",
    "end\n",
    "\n",
    "function particleDirect(timeVec)\n",
    "    #U here plays the role of particle cloud\n",
    "    \n",
    "    Nn=length(timeVec)\n",
    "    xtemp=copy(X0);\n",
    "    \n",
    "    controlVec=zeros(Nn)\n",
    "    xtempVec=zeros(Nn+1)\n",
    "    \n",
    "    uvec0=zeros(S);\n",
    "    \n",
    "    for i in collect(1:1:Nn)\n",
    "        timeloc=timeVec[i:Nn]; \n",
    "        \n",
    "        controln=optimize_loc(uvec0,timeloc); #finding the control requires the particle cloud\n",
    "        #collecting the control\n",
    "        controlVec[i]=controln[1]; \n",
    "        \n",
    "        rval=rt1_v2(timeVec[i]);  \n",
    "        \n",
    "        ### The exact movement\n",
    "        xtemp=xtemp.+ (controln[1]- rval) *Δt.+σ*controln[1].*Wfixed[i]*sqrtt; \n",
    "        uvec0=ones(S)*xtemp;\n",
    "        xtempVec[i+1]=xtemp\n",
    "    end\n",
    "    return xtempVec,controlVec\n",
    "end"
   ]
  },
  {
   "cell_type": "code",
   "execution_count": 6,
   "id": "5e57d875",
   "metadata": {},
   "outputs": [
    {
     "data": {
      "text/plain": [
       "particleF (generic function with 1 method)"
      ]
     },
     "execution_count": 6,
     "metadata": {},
     "output_type": "execute_result"
    }
   ],
   "source": [
    "function particleF(timeVec)\n",
    "    #U here plays the role of particle cloud\n",
    "    \n",
    "    nN=length(timeVec)\n",
    "    U=zeros(nN+1,S)\n",
    "    Uhat=zeros(S)\n",
    "    U[1,:]=X0.+0.05*randn(S);\n",
    "    xtemp=copy(X0);\n",
    "    \n",
    "    controlVec=zeros(nN)\n",
    "    \n",
    "    for i in collect(1:1:nN)\n",
    "        timeloc=timeVec[i:nN]; \n",
    "        \n",
    "        controln=optimize_loc(U[i,:],timeloc); #finding the control requires the particle cloud\n",
    "        #collecting the control\n",
    "        controlVec[i]=controln[1]; \n",
    "        \n",
    "        rval=rt1_v2(timeVec[i]);  \n",
    "        \n",
    "        ### The exact movement\n",
    "        xtemp=xtemp.+ (controln[1]- rval) *Δt.+σ*controln[1].*Wfixed[i]*sqrtt; \n",
    "        Y_obs=sin.(xtemp).+0.1*Bfixed[i];  \n",
    "        \n",
    "        # Ensemble prediction\n",
    "        Uhat=U[i,:].+(controln[1]- rval) *Δt.+σ*controln[1].*randn(S)*sqrtt;\n",
    "        \n",
    "        dvec=Y_obs.-sin.(Uhat) # find the ensemble difference\n",
    "        \n",
    "        #updating the weight of the particles\n",
    "        what=exp.(-0.5.*(100*dvec.^2)) \n",
    "        weight=what./sum(what)\n",
    "        \n",
    "        #The resampling step: at the previous step, the weights are not uniform.\n",
    "        ws=cumsum(weight)\n",
    "        for p in collect(1:1:S)\n",
    "            ix=findfirst(ws.>rand(uniform)); \n",
    "            U[i+1,p]=Uhat[ix]\n",
    "        end\n",
    "    end\n",
    "    return U,controlVec\n",
    "end"
   ]
  },
  {
   "cell_type": "markdown",
   "id": "c60ef656",
   "metadata": {},
   "source": [
    "## Testing"
   ]
  },
  {
   "cell_type": "code",
   "execution_count": 7,
   "id": "5de1f87f",
   "metadata": {},
   "outputs": [],
   "source": [
    "NT=50; \n",
    "Δt=1.0/NT; dt2=(Δt)^2; \n",
    "timeVec=Δt*collect(0:1:NT-1); \n",
    "sqrtt=sqrt(Δt); \n",
    "\n",
    "T=1.0;\n",
    "σ=0.1;\n",
    "αT=log.(1.0+ σ^2/(1.0+σ^2)*T)/(σ^2+log.(1.0+ σ^2/(1.0+σ^2)*T)); \n",
    "XT1=T^2/2.0*αT;\n",
    "\n",
    "S=512; # Size of the particle cloud \n",
    "X0=0.0; Xcloud=ones(S)*X0; \n",
    "Wfixed=randn(NT); Bfixed=randn(NT); \n",
    "L=5000; \n",
    "lr=1.0./collect(1:1:L);"
   ]
  },
  {
   "cell_type": "markdown",
   "id": "416b1ec8",
   "metadata": {},
   "source": [
    "## Multicore"
   ]
  },
  {
   "cell_type": "code",
   "execution_count": 8,
   "id": "b03f614a",
   "metadata": {},
   "outputs": [
    {
     "data": {
      "text/plain": [
       "([0.24074503278307594, 0.2426037876662822, 0.24120935927120637, 0.2459098939027958, 0.2418709441809621, 0.23613346981434782, 0.2326934033861561, 0.2313501494737662, 0.22913097305804256, 0.23037716324587823  …  -0.052757024626895965, -0.07031633585556407, -0.08620106972055963, -0.10248596480209671, -0.1197490793878288, -0.1358833450215664, -0.1534543432982151, -0.17384628493572657, -0.19288409116243665, -0.21247391286338307], [0.0, 0.0029803946786124465, 0.008860416116754711, 0.008174054425133429, 0.01594150750890407, 0.025032626237599505, 0.03140196279479779, 0.0352530170085251, 0.03959489752547921, 0.040033810605601176  …  0.18849457439846568, 0.19309372556959667, 0.19769536295991447, 0.20288317924303015, 0.2065287483102154, 0.21122326234447278, 0.218364570175956, 0.22373559721421418, 0.22926143080959258, 0.23308967528683489])"
      ]
     },
     "execution_count": 8,
     "metadata": {},
     "output_type": "execute_result"
    }
   ],
   "source": [
    "ctrlp1,p2=ExactSol(0.0,timeVec)"
   ]
  },
  {
   "cell_type": "code",
   "execution_count": null,
   "id": "b8808dca",
   "metadata": {},
   "outputs": [],
   "source": [
    "uu,ccvec=particleF(timeVec);\n",
    "xfilter_unob=mean(uu,dims=2)[:,1];"
   ]
  },
  {
   "cell_type": "code",
   "execution_count": null,
   "id": "716db674",
   "metadata": {},
   "outputs": [],
   "source": [
    "sum_max=0.0; \n",
    "sum_mean=0.0; \n",
    "epoch=50\n",
    "for i in collect(1:1:epoch)\n",
    "    Wfixed=randn(NT); Bfixed=randn(NT); \n",
    "    ctrlp1,p2=ExactSol(0.0,timeVec)\n",
    "    uu,ccvec=particleF(timeVec);\n",
    "    temp=abs.(ccvec.-ctrlp1); \n",
    "    \n",
    "    sum_max=sum_max+maximum(temp);\n",
    "    sum_mean=sum_mean+mean(temp.^2);\n",
    "end   "
   ]
  },
  {
   "cell_type": "code",
   "execution_count": 11,
   "id": "054e1f23",
   "metadata": {
    "scrolled": false
   },
   "outputs": [
    {
     "data": {
      "text/plain": [
       "(0.0, 0.0)"
      ]
     },
     "execution_count": 11,
     "metadata": {},
     "output_type": "execute_result"
    }
   ],
   "source": [
    "sum_max/epoch, sqrt(sum_mean/epoch)"
   ]
  },
  {
   "cell_type": "markdown",
   "id": "4d2e7017",
   "metadata": {},
   "source": [
    "### S=2"
   ]
  },
  {
   "cell_type": "code",
   "execution_count": null,
   "id": "1ec18577",
   "metadata": {},
   "outputs": [],
   "source": [
    "（ 0.052367567151289804, 0.035208802545988564）"
   ]
  },
  {
   "cell_type": "markdown",
   "id": "8c0837ee",
   "metadata": {},
   "source": [
    "### S=4"
   ]
  },
  {
   "cell_type": "code",
   "execution_count": 103,
   "id": "3f7e96b6",
   "metadata": {},
   "outputs": [
    {
     "data": {
      "text/plain": [
       "(0.046507527946666204, 0.028463)"
      ]
     },
     "execution_count": 103,
     "metadata": {},
     "output_type": "execute_result"
    }
   ],
   "source": [
    "( 0.04930454454837816, 0.0303)"
   ]
  },
  {
   "cell_type": "markdown",
   "id": "27877ee5",
   "metadata": {},
   "source": [
    "### S=8"
   ]
  },
  {
   "cell_type": "code",
   "execution_count": null,
   "id": "0e4dee0f",
   "metadata": {},
   "outputs": [],
   "source": [
    "( 0.04722569503771587, 0.0241 )"
   ]
  },
  {
   "cell_type": "markdown",
   "id": "e552d32b",
   "metadata": {},
   "source": [
    "### S=16"
   ]
  },
  {
   "cell_type": "code",
   "execution_count": null,
   "id": "73a64777",
   "metadata": {},
   "outputs": [],
   "source": [
    "(0.0442276339413565, 0.02319)"
   ]
  },
  {
   "cell_type": "markdown",
   "id": "d4108bb8",
   "metadata": {},
   "source": [
    "### S=32"
   ]
  },
  {
   "cell_type": "code",
   "execution_count": 79,
   "id": "16a9327c",
   "metadata": {},
   "outputs": [
    {
     "data": {
      "text/plain": [
       "(0.04309103378287241, 0.0208)"
      ]
     },
     "execution_count": 79,
     "metadata": {},
     "output_type": "execute_result"
    }
   ],
   "source": [
    "( 0.04309103378287241, 0.0208 )"
   ]
  },
  {
   "cell_type": "markdown",
   "id": "37a015f3",
   "metadata": {},
   "source": [
    "### S=64"
   ]
  },
  {
   "cell_type": "code",
   "execution_count": 120,
   "id": "1945d020",
   "metadata": {},
   "outputs": [
    {
     "data": {
      "text/plain": [
       "(0.04192033942099111, 0.0188)"
      ]
     },
     "execution_count": 120,
     "metadata": {},
     "output_type": "execute_result"
    }
   ],
   "source": [
    "( 0.04192033942099111, 0.0188) "
   ]
  },
  {
   "cell_type": "markdown",
   "id": "fe20789c",
   "metadata": {},
   "source": [
    "### S= 128 "
   ]
  },
  {
   "cell_type": "code",
   "execution_count": 66,
   "id": "85c07e93",
   "metadata": {},
   "outputs": [
    {
     "data": {
      "text/plain": [
       "(0.03956972036947648, 0.01768)"
      ]
     },
     "execution_count": 66,
     "metadata": {},
     "output_type": "execute_result"
    }
   ],
   "source": [
    "( 0.03956972036947648, 0.01768 ) "
   ]
  },
  {
   "cell_type": "markdown",
   "id": "626bc410",
   "metadata": {},
   "source": [
    "### S=256"
   ]
  },
  {
   "cell_type": "code",
   "execution_count": null,
   "id": "1647c3fd",
   "metadata": {},
   "outputs": [],
   "source": [
    "0.03568787761875821, 0.016026"
   ]
  },
  {
   "cell_type": "code",
   "execution_count": null,
   "id": "215ee430",
   "metadata": {},
   "outputs": [],
   "source": []
  },
  {
   "cell_type": "code",
   "execution_count": 180,
   "id": "1513e97c",
   "metadata": {},
   "outputs": [
    {
     "data": {
      "text/plain": [
       "linef (generic function with 1 method)"
      ]
     },
     "execution_count": 180,
     "metadata": {},
     "output_type": "execute_result"
    }
   ],
   "source": [
    "function error1D(s)\n",
    "    sgrid=[2,4,8,16,32,64,128,256]; \n",
    "    emax=[0.05236, 0.04930,0.047225,0.044227,0.043091,0.0419203,0.03956,0.03568]; \n",
    "    el2=[0.0352,0.0303,0.0241,0.02319,0.0208,0.0188,0.01768,0.01602]\n",
    "    return sgrid,emax,el2\n",
    "end  \n",
    "\n",
    "function linef(s)\n",
    "    sgrid=[2,4,8,16,32,64,128,256];\n",
    "    emax=0.05236;\n",
    "    el2=0.0352;\n",
    "    \n",
    "    res1=log.(emax).-(log.(sgrid).-log.(2))*0.1\n",
    "    res2=log.(el2).-(log.(sgrid).-log.(2))*0.2\n",
    "    return res1,res2\n",
    "end"
   ]
  },
  {
   "cell_type": "code",
   "execution_count": 181,
   "id": "7b4d43ed",
   "metadata": {},
   "outputs": [],
   "source": [
    "Sgrid,er1,er2=error1D(1);\n",
    "bench1,bench2=linef(1); "
   ]
  },
  {
   "cell_type": "code",
   "execution_count": 199,
   "id": "18652a49",
   "metadata": {},
   "outputs": [
    {
     "data": {
      "image/svg+xml": [
       "<?xml version=\"1.0\" encoding=\"utf-8\"?>\n",
       "<svg xmlns=\"http://www.w3.org/2000/svg\" xmlns:xlink=\"http://www.w3.org/1999/xlink\" width=\"600\" height=\"400\" viewBox=\"0 0 2400 1600\">\n",
       "<defs>\n",
       "  <clipPath id=\"clip350\">\n",
       "    <rect x=\"0\" y=\"0\" width=\"2400\" height=\"1600\"/>\n",
       "  </clipPath>\n",
       "</defs>\n",
       "<path clip-path=\"url(#clip350)\" d=\"\n",
       "M0 1600 L2400 1600 L2400 0 L0 0  Z\n",
       "  \" fill=\"#ffffff\" fill-rule=\"evenodd\" fill-opacity=\"1\"/>\n",
       "<defs>\n",
       "  <clipPath id=\"clip351\">\n",
       "    <rect x=\"480\" y=\"0\" width=\"1681\" height=\"1600\"/>\n",
       "  </clipPath>\n",
       "</defs>\n",
       "<path clip-path=\"url(#clip350)\" d=\"\n",
       "M257.204 1423.18 L2352.76 1423.18 L2352.76 123.472 L257.204 123.472  Z\n",
       "  \" fill=\"#ffffff\" fill-rule=\"evenodd\" fill-opacity=\"1\"/>\n",
       "<defs>\n",
       "  <clipPath id=\"clip352\">\n",
       "    <rect x=\"257\" y=\"123\" width=\"2097\" height=\"1301\"/>\n",
       "  </clipPath>\n",
       "</defs>\n",
       "<polyline clip-path=\"url(#clip352)\" style=\"stroke:#000000; stroke-linecap:butt; stroke-linejoin:round; stroke-width:2; stroke-opacity:0.1; fill:none\" points=\"\n",
       "  441.538,1423.18 441.538,123.472 \n",
       "  \"/>\n",
       "<polyline clip-path=\"url(#clip352)\" style=\"stroke:#000000; stroke-linecap:butt; stroke-linejoin:round; stroke-width:2; stroke-opacity:0.1; fill:none\" points=\"\n",
       "  848.983,1423.18 848.983,123.472 \n",
       "  \"/>\n",
       "<polyline clip-path=\"url(#clip352)\" style=\"stroke:#000000; stroke-linecap:butt; stroke-linejoin:round; stroke-width:2; stroke-opacity:0.1; fill:none\" points=\"\n",
       "  1256.43,1423.18 1256.43,123.472 \n",
       "  \"/>\n",
       "<polyline clip-path=\"url(#clip352)\" style=\"stroke:#000000; stroke-linecap:butt; stroke-linejoin:round; stroke-width:2; stroke-opacity:0.1; fill:none\" points=\"\n",
       "  1663.87,1423.18 1663.87,123.472 \n",
       "  \"/>\n",
       "<polyline clip-path=\"url(#clip352)\" style=\"stroke:#000000; stroke-linecap:butt; stroke-linejoin:round; stroke-width:2; stroke-opacity:0.1; fill:none\" points=\"\n",
       "  2071.32,1423.18 2071.32,123.472 \n",
       "  \"/>\n",
       "<polyline clip-path=\"url(#clip350)\" style=\"stroke:#000000; stroke-linecap:butt; stroke-linejoin:round; stroke-width:4; stroke-opacity:1; fill:none\" points=\"\n",
       "  257.204,1423.18 2352.76,1423.18 \n",
       "  \"/>\n",
       "<polyline clip-path=\"url(#clip350)\" style=\"stroke:#000000; stroke-linecap:butt; stroke-linejoin:round; stroke-width:4; stroke-opacity:1; fill:none\" points=\"\n",
       "  441.538,1423.18 441.538,1404.28 \n",
       "  \"/>\n",
       "<polyline clip-path=\"url(#clip350)\" style=\"stroke:#000000; stroke-linecap:butt; stroke-linejoin:round; stroke-width:4; stroke-opacity:1; fill:none\" points=\"\n",
       "  848.983,1423.18 848.983,1404.28 \n",
       "  \"/>\n",
       "<polyline clip-path=\"url(#clip350)\" style=\"stroke:#000000; stroke-linecap:butt; stroke-linejoin:round; stroke-width:4; stroke-opacity:1; fill:none\" points=\"\n",
       "  1256.43,1423.18 1256.43,1404.28 \n",
       "  \"/>\n",
       "<polyline clip-path=\"url(#clip350)\" style=\"stroke:#000000; stroke-linecap:butt; stroke-linejoin:round; stroke-width:4; stroke-opacity:1; fill:none\" points=\"\n",
       "  1663.87,1423.18 1663.87,1404.28 \n",
       "  \"/>\n",
       "<polyline clip-path=\"url(#clip350)\" style=\"stroke:#000000; stroke-linecap:butt; stroke-linejoin:round; stroke-width:4; stroke-opacity:1; fill:none\" points=\"\n",
       "  2071.32,1423.18 2071.32,1404.28 \n",
       "  \"/>\n",
       "<path clip-path=\"url(#clip350)\" d=\"M431.92 1481.64 L439.559 1481.64 L439.559 1455.28 L431.248 1456.95 L431.248 1452.69 L439.512 1451.02 L444.188 1451.02 L444.188 1481.64 L451.827 1481.64 L451.827 1485.58 L431.92 1485.58 L431.92 1481.64 Z\" fill=\"#000000\" fill-rule=\"evenodd\" fill-opacity=\"1\" /><path clip-path=\"url(#clip350)\" d=\"M843.636 1481.64 L859.955 1481.64 L859.955 1485.58 L838.011 1485.58 L838.011 1481.64 Q840.673 1478.89 845.256 1474.26 Q849.862 1469.61 851.043 1468.27 Q853.288 1465.74 854.168 1464.01 Q855.071 1462.25 855.071 1460.56 Q855.071 1457.8 853.126 1456.07 Q851.205 1454.33 848.103 1454.33 Q845.904 1454.33 843.45 1455.09 Q841.02 1455.86 838.242 1457.41 L838.242 1452.69 Q841.066 1451.55 843.52 1450.97 Q845.974 1450.39 848.011 1450.39 Q853.381 1450.39 856.575 1453.08 Q859.77 1455.77 859.77 1460.26 Q859.77 1462.39 858.96 1464.31 Q858.173 1466.2 856.066 1468.8 Q855.487 1469.47 852.386 1472.69 Q849.284 1475.88 843.636 1481.64 Z\" fill=\"#000000\" fill-rule=\"evenodd\" fill-opacity=\"1\" /><path clip-path=\"url(#clip350)\" d=\"M1260.68 1466.95 Q1264.03 1467.66 1265.91 1469.93 Q1267.81 1472.2 1267.81 1475.53 Q1267.81 1480.65 1264.29 1483.45 Q1260.77 1486.25 1254.29 1486.25 Q1252.11 1486.25 1249.8 1485.81 Q1247.5 1485.39 1245.05 1484.54 L1245.05 1480.02 Q1247 1481.16 1249.31 1481.74 Q1251.62 1482.32 1254.15 1482.32 Q1258.55 1482.32 1260.84 1480.58 Q1263.15 1478.84 1263.15 1475.53 Q1263.15 1472.48 1261 1470.77 Q1258.87 1469.03 1255.05 1469.03 L1251.02 1469.03 L1251.02 1465.19 L1255.24 1465.19 Q1258.68 1465.19 1260.51 1463.82 Q1262.34 1462.43 1262.34 1459.84 Q1262.34 1457.18 1260.44 1455.77 Q1258.57 1454.33 1255.05 1454.33 Q1253.13 1454.33 1250.93 1454.75 Q1248.73 1455.16 1246.09 1456.04 L1246.09 1451.88 Q1248.75 1451.14 1251.07 1450.77 Q1253.41 1450.39 1255.47 1450.39 Q1260.79 1450.39 1263.89 1452.83 Q1266.99 1455.23 1266.99 1459.35 Q1266.99 1462.22 1265.35 1464.21 Q1263.71 1466.18 1260.68 1466.95 Z\" fill=\"#000000\" fill-rule=\"evenodd\" fill-opacity=\"1\" /><path clip-path=\"url(#clip350)\" d=\"M1666.88 1455.09 L1655.08 1473.54 L1666.88 1473.54 L1666.88 1455.09 M1665.66 1451.02 L1671.53 1451.02 L1671.53 1473.54 L1676.47 1473.54 L1676.47 1477.43 L1671.53 1477.43 L1671.53 1485.58 L1666.88 1485.58 L1666.88 1477.43 L1651.28 1477.43 L1651.28 1472.92 L1665.66 1451.02 Z\" fill=\"#000000\" fill-rule=\"evenodd\" fill-opacity=\"1\" /><path clip-path=\"url(#clip350)\" d=\"M2061.6 1451.02 L2079.95 1451.02 L2079.95 1454.96 L2065.88 1454.96 L2065.88 1463.43 Q2066.9 1463.08 2067.92 1462.92 Q2068.93 1462.73 2069.95 1462.73 Q2075.74 1462.73 2079.12 1465.9 Q2082.5 1469.08 2082.5 1474.49 Q2082.5 1480.07 2079.03 1483.17 Q2075.55 1486.25 2069.23 1486.25 Q2067.06 1486.25 2064.79 1485.88 Q2062.54 1485.51 2060.14 1484.77 L2060.14 1480.07 Q2062.22 1481.2 2064.44 1481.76 Q2066.67 1482.32 2069.14 1482.32 Q2073.15 1482.32 2075.48 1480.21 Q2077.82 1478.1 2077.82 1474.49 Q2077.82 1470.88 2075.48 1468.77 Q2073.15 1466.67 2069.14 1466.67 Q2067.27 1466.67 2065.39 1467.08 Q2063.54 1467.5 2061.6 1468.38 L2061.6 1451.02 Z\" fill=\"#000000\" fill-rule=\"evenodd\" fill-opacity=\"1\" /><path clip-path=\"url(#clip350)\" d=\"M921.955 1520.52 L928.385 1520.52 L928.385 1562.63 L951.524 1562.63 L951.524 1568.04 L921.955 1568.04 L921.955 1520.52 Z\" fill=\"#000000\" fill-rule=\"evenodd\" fill-opacity=\"1\" /><path clip-path=\"url(#clip350)\" d=\"M970.685 1536.5 Q965.974 1536.5 963.237 1540.19 Q960.5 1543.85 960.5 1550.25 Q960.5 1556.65 963.205 1560.34 Q965.942 1564 970.685 1564 Q975.364 1564 978.101 1560.31 Q980.838 1556.62 980.838 1550.25 Q980.838 1543.92 978.101 1540.23 Q975.364 1536.5 970.685 1536.5 M970.685 1531.54 Q978.324 1531.54 982.684 1536.5 Q987.045 1541.47 987.045 1550.25 Q987.045 1559 982.684 1564 Q978.324 1568.97 970.685 1568.97 Q963.014 1568.97 958.654 1564 Q954.325 1559 954.325 1550.25 Q954.325 1541.47 958.654 1536.5 Q963.014 1531.54 970.685 1531.54 Z\" fill=\"#000000\" fill-rule=\"evenodd\" fill-opacity=\"1\" /><path clip-path=\"url(#clip350)\" d=\"M1020.21 1549.81 Q1020.21 1543.44 1017.57 1539.94 Q1014.96 1536.44 1010.22 1536.44 Q1005.51 1536.44 1002.86 1539.94 Q1000.25 1543.44 1000.25 1549.81 Q1000.25 1556.14 1002.86 1559.64 Q1005.51 1563.14 1010.22 1563.14 Q1014.96 1563.14 1017.57 1559.64 Q1020.21 1556.14 1020.21 1549.81 M1026.07 1563.62 Q1026.07 1572.72 1022.02 1577.15 Q1017.98 1581.6 1009.64 1581.6 Q1006.56 1581.6 1003.82 1581.13 Q1001.08 1580.68 998.503 1579.72 L998.503 1574.03 Q1001.08 1575.43 1003.6 1576.1 Q1006.11 1576.76 1008.72 1576.76 Q1014.48 1576.76 1017.35 1573.74 Q1020.21 1570.75 1020.21 1564.67 L1020.21 1561.77 Q1018.4 1564.92 1015.56 1566.48 Q1012.73 1568.04 1008.78 1568.04 Q1002.23 1568.04 998.217 1563.05 Q994.206 1558.05 994.206 1549.81 Q994.206 1541.53 998.217 1536.53 Q1002.23 1531.54 1008.78 1531.54 Q1012.73 1531.54 1015.56 1533.1 Q1018.4 1534.66 1020.21 1537.81 L1020.21 1532.4 L1026.07 1532.4 L1026.07 1563.62 Z\" fill=\"#000000\" fill-rule=\"evenodd\" fill-opacity=\"1\" /><path clip-path=\"url(#clip350)\" d=\"M1088.48 1546.53 L1088.48 1568.04 L1082.63 1568.04 L1082.63 1546.72 Q1082.63 1541.66 1080.65 1539.14 Q1078.68 1536.63 1074.73 1536.63 Q1069.99 1536.63 1067.25 1539.65 Q1064.52 1542.68 1064.52 1547.9 L1064.52 1568.04 L1058.63 1568.04 L1058.63 1532.4 L1064.52 1532.4 L1064.52 1537.93 Q1066.62 1534.72 1069.45 1533.13 Q1072.31 1531.54 1076.04 1531.54 Q1082.18 1531.54 1085.33 1535.36 Q1088.48 1539.14 1088.48 1546.53 Z\" fill=\"#000000\" fill-rule=\"evenodd\" fill-opacity=\"1\" /><path clip-path=\"url(#clip350)\" d=\"M1099.56 1553.98 L1099.56 1532.4 L1105.42 1532.4 L1105.42 1553.75 Q1105.42 1558.81 1107.39 1561.36 Q1109.36 1563.87 1113.31 1563.87 Q1118.05 1563.87 1120.79 1560.85 Q1123.56 1557.83 1123.56 1552.61 L1123.56 1532.4 L1129.41 1532.4 L1129.41 1568.04 L1123.56 1568.04 L1123.56 1562.57 Q1121.42 1565.82 1118.59 1567.41 Q1115.79 1568.97 1112.07 1568.97 Q1105.92 1568.97 1102.74 1565.15 Q1099.56 1561.33 1099.56 1553.98 M1114.3 1531.54 L1114.3 1531.54 Z\" fill=\"#000000\" fill-rule=\"evenodd\" fill-opacity=\"1\" /><path clip-path=\"url(#clip350)\" d=\"M1169.23 1539.24 Q1171.43 1535.29 1174.48 1533.41 Q1177.54 1531.54 1181.68 1531.54 Q1187.25 1531.54 1190.27 1535.45 Q1193.29 1539.33 1193.29 1546.53 L1193.29 1568.04 L1187.41 1568.04 L1187.41 1546.72 Q1187.41 1541.59 1185.59 1539.11 Q1183.78 1536.63 1180.05 1536.63 Q1175.5 1536.63 1172.86 1539.65 Q1170.22 1542.68 1170.22 1547.9 L1170.22 1568.04 L1164.33 1568.04 L1164.33 1546.72 Q1164.33 1541.56 1162.52 1539.11 Q1160.7 1536.63 1156.91 1536.63 Q1152.43 1536.63 1149.78 1539.68 Q1147.14 1542.71 1147.14 1547.9 L1147.14 1568.04 L1141.25 1568.04 L1141.25 1532.4 L1147.14 1532.4 L1147.14 1537.93 Q1149.15 1534.66 1151.95 1533.1 Q1154.75 1531.54 1158.6 1531.54 Q1162.48 1531.54 1165.19 1533.51 Q1167.93 1535.48 1169.23 1539.24 Z\" fill=\"#000000\" fill-rule=\"evenodd\" fill-opacity=\"1\" /><path clip-path=\"url(#clip350)\" d=\"M1230.56 1550.25 Q1230.56 1543.79 1227.89 1540.13 Q1225.25 1536.44 1220.6 1536.44 Q1215.96 1536.44 1213.28 1540.13 Q1210.64 1543.79 1210.64 1550.25 Q1210.64 1556.71 1213.28 1560.4 Q1215.96 1564.07 1220.6 1564.07 Q1225.25 1564.07 1227.89 1560.4 Q1230.56 1556.71 1230.56 1550.25 M1210.64 1537.81 Q1212.49 1534.62 1215.29 1533.1 Q1218.12 1531.54 1222.03 1531.54 Q1228.53 1531.54 1232.57 1536.69 Q1236.64 1541.85 1236.64 1550.25 Q1236.64 1558.65 1232.57 1563.81 Q1228.53 1568.97 1222.03 1568.97 Q1218.12 1568.97 1215.29 1567.44 Q1212.49 1565.88 1210.64 1562.7 L1210.64 1568.04 L1204.75 1568.04 L1204.75 1518.52 L1210.64 1518.52 L1210.64 1537.81 Z\" fill=\"#000000\" fill-rule=\"evenodd\" fill-opacity=\"1\" /><path clip-path=\"url(#clip350)\" d=\"M1276.84 1548.76 L1276.84 1551.62 L1249.92 1551.62 Q1250.3 1557.67 1253.55 1560.85 Q1256.82 1564 1262.65 1564 Q1266.02 1564 1269.17 1563.17 Q1272.36 1562.35 1275.47 1560.69 L1275.47 1566.23 Q1272.32 1567.57 1269.01 1568.27 Q1265.7 1568.97 1262.3 1568.97 Q1253.77 1568.97 1248.77 1564 Q1243.81 1559.04 1243.81 1550.57 Q1243.81 1541.82 1248.52 1536.69 Q1253.26 1531.54 1261.28 1531.54 Q1268.47 1531.54 1272.64 1536.18 Q1276.84 1540.8 1276.84 1548.76 M1270.99 1547.04 Q1270.92 1542.23 1268.28 1539.37 Q1265.67 1536.5 1261.34 1536.5 Q1256.44 1536.5 1253.48 1539.27 Q1250.55 1542.04 1250.11 1547.07 L1270.99 1547.04 Z\" fill=\"#000000\" fill-rule=\"evenodd\" fill-opacity=\"1\" /><path clip-path=\"url(#clip350)\" d=\"M1307.11 1537.87 Q1306.13 1537.3 1304.95 1537.04 Q1303.8 1536.76 1302.4 1536.76 Q1297.44 1536.76 1294.76 1540 Q1292.12 1543.22 1292.12 1549.27 L1292.12 1568.04 L1286.23 1568.04 L1286.23 1532.4 L1292.12 1532.4 L1292.12 1537.93 Q1293.97 1534.69 1296.93 1533.13 Q1299.89 1531.54 1304.12 1531.54 Q1304.73 1531.54 1305.46 1531.63 Q1306.19 1531.7 1307.08 1531.85 L1307.11 1537.87 Z\" fill=\"#000000\" fill-rule=\"evenodd\" fill-opacity=\"1\" /><path clip-path=\"url(#clip350)\" d=\"M1347.79 1536.5 Q1343.08 1536.5 1340.34 1540.19 Q1337.6 1543.85 1337.6 1550.25 Q1337.6 1556.65 1340.31 1560.34 Q1343.05 1564 1347.79 1564 Q1352.47 1564 1355.21 1560.31 Q1357.94 1556.62 1357.94 1550.25 Q1357.94 1543.92 1355.21 1540.23 Q1352.47 1536.5 1347.79 1536.5 M1347.79 1531.54 Q1355.43 1531.54 1359.79 1536.5 Q1364.15 1541.47 1364.15 1550.25 Q1364.15 1559 1359.79 1564 Q1355.43 1568.97 1347.79 1568.97 Q1340.12 1568.97 1335.76 1564 Q1331.43 1559 1331.43 1550.25 Q1331.43 1541.47 1335.76 1536.5 Q1340.12 1531.54 1347.79 1531.54 Z\" fill=\"#000000\" fill-rule=\"evenodd\" fill-opacity=\"1\" /><path clip-path=\"url(#clip350)\" d=\"M1391.9 1518.52 L1391.9 1523.39 L1386.3 1523.39 Q1383.15 1523.39 1381.91 1524.66 Q1380.7 1525.93 1380.7 1529.24 L1380.7 1532.4 L1390.34 1532.4 L1390.34 1536.95 L1380.7 1536.95 L1380.7 1568.04 L1374.81 1568.04 L1374.81 1536.95 L1369.21 1536.95 L1369.21 1532.4 L1374.81 1532.4 L1374.81 1529.91 Q1374.81 1523.96 1377.58 1521.26 Q1380.35 1518.52 1386.37 1518.52 L1391.9 1518.52 Z\" fill=\"#000000\" fill-rule=\"evenodd\" fill-opacity=\"1\" /><path clip-path=\"url(#clip350)\" d=\"M1423.19 1562.7 L1423.19 1581.6 L1417.3 1581.6 L1417.3 1532.4 L1423.19 1532.4 L1423.19 1537.81 Q1425.04 1534.62 1427.84 1533.1 Q1430.67 1531.54 1434.59 1531.54 Q1441.08 1531.54 1445.12 1536.69 Q1449.2 1541.85 1449.2 1550.25 Q1449.2 1558.65 1445.12 1563.81 Q1441.08 1568.97 1434.59 1568.97 Q1430.67 1568.97 1427.84 1567.44 Q1425.04 1565.88 1423.19 1562.7 M1443.12 1550.25 Q1443.12 1543.79 1440.44 1540.13 Q1437.8 1536.44 1433.15 1536.44 Q1428.51 1536.44 1425.83 1540.13 Q1423.19 1543.79 1423.19 1550.25 Q1423.19 1556.71 1425.83 1560.4 Q1428.51 1564.07 1433.15 1564.07 Q1437.8 1564.07 1440.44 1560.4 Q1443.12 1556.71 1443.12 1550.25 Z\" fill=\"#000000\" fill-rule=\"evenodd\" fill-opacity=\"1\" /><path clip-path=\"url(#clip350)\" d=\"M1475.1 1550.12 Q1468.01 1550.12 1465.27 1551.75 Q1462.53 1553.37 1462.53 1557.29 Q1462.53 1560.4 1464.57 1562.25 Q1466.64 1564.07 1470.17 1564.07 Q1475.04 1564.07 1477.97 1560.63 Q1480.93 1557.16 1480.93 1551.43 L1480.93 1550.12 L1475.1 1550.12 M1486.78 1547.71 L1486.78 1568.04 L1480.93 1568.04 L1480.93 1562.63 Q1478.92 1565.88 1475.93 1567.44 Q1472.94 1568.97 1468.61 1568.97 Q1463.14 1568.97 1459.89 1565.91 Q1456.67 1562.82 1456.67 1557.67 Q1456.67 1551.65 1460.69 1548.6 Q1464.73 1545.54 1472.72 1545.54 L1480.93 1545.54 L1480.93 1544.97 Q1480.93 1540.93 1478.25 1538.73 Q1475.61 1536.5 1470.81 1536.5 Q1467.75 1536.5 1464.85 1537.23 Q1461.96 1537.97 1459.28 1539.43 L1459.28 1534.02 Q1462.5 1532.78 1465.52 1532.17 Q1468.55 1531.54 1471.41 1531.54 Q1479.15 1531.54 1482.97 1535.55 Q1486.78 1539.56 1486.78 1547.71 Z\" fill=\"#000000\" fill-rule=\"evenodd\" fill-opacity=\"1\" /><path clip-path=\"url(#clip350)\" d=\"M1519.5 1537.87 Q1518.52 1537.3 1517.34 1537.04 Q1516.19 1536.76 1514.79 1536.76 Q1509.83 1536.76 1507.15 1540 Q1504.51 1543.22 1504.51 1549.27 L1504.51 1568.04 L1498.62 1568.04 L1498.62 1532.4 L1504.51 1532.4 L1504.51 1537.93 Q1506.36 1534.69 1509.32 1533.13 Q1512.28 1531.54 1516.51 1531.54 Q1517.12 1531.54 1517.85 1531.63 Q1518.58 1531.7 1519.47 1531.85 L1519.5 1537.87 Z\" fill=\"#000000\" fill-rule=\"evenodd\" fill-opacity=\"1\" /><path clip-path=\"url(#clip350)\" d=\"M1531.44 1522.27 L1531.44 1532.4 L1543.5 1532.4 L1543.5 1536.95 L1531.44 1536.95 L1531.44 1556.3 Q1531.44 1560.66 1532.62 1561.9 Q1533.83 1563.14 1537.49 1563.14 L1543.5 1563.14 L1543.5 1568.04 L1537.49 1568.04 Q1530.71 1568.04 1528.13 1565.53 Q1525.55 1562.98 1525.55 1556.3 L1525.55 1536.95 L1521.25 1536.95 L1521.25 1532.4 L1525.55 1532.4 L1525.55 1522.27 L1531.44 1522.27 Z\" fill=\"#000000\" fill-rule=\"evenodd\" fill-opacity=\"1\" /><path clip-path=\"url(#clip350)\" d=\"M1551.21 1532.4 L1557.06 1532.4 L1557.06 1568.04 L1551.21 1568.04 L1551.21 1532.4 M1551.21 1518.52 L1557.06 1518.52 L1557.06 1525.93 L1551.21 1525.93 L1551.21 1518.52 Z\" fill=\"#000000\" fill-rule=\"evenodd\" fill-opacity=\"1\" /><path clip-path=\"url(#clip350)\" d=\"M1594.97 1533.76 L1594.97 1539.24 Q1592.49 1537.87 1589.97 1537.2 Q1587.49 1536.5 1584.94 1536.5 Q1579.25 1536.5 1576.1 1540.13 Q1572.94 1543.73 1572.94 1550.25 Q1572.94 1556.78 1576.1 1560.4 Q1579.25 1564 1584.94 1564 Q1587.49 1564 1589.97 1563.33 Q1592.49 1562.63 1594.97 1561.26 L1594.97 1566.68 Q1592.52 1567.82 1589.88 1568.39 Q1587.27 1568.97 1584.31 1568.97 Q1576.25 1568.97 1571.51 1563.91 Q1566.77 1558.85 1566.77 1550.25 Q1566.77 1541.53 1571.54 1536.53 Q1576.35 1531.54 1584.69 1531.54 Q1587.39 1531.54 1589.97 1532.11 Q1592.55 1532.65 1594.97 1533.76 Z\" fill=\"#000000\" fill-rule=\"evenodd\" fill-opacity=\"1\" /><path clip-path=\"url(#clip350)\" d=\"M1605.15 1518.52 L1611.01 1518.52 L1611.01 1568.04 L1605.15 1568.04 L1605.15 1518.52 Z\" fill=\"#000000\" fill-rule=\"evenodd\" fill-opacity=\"1\" /><path clip-path=\"url(#clip350)\" d=\"M1653.76 1548.76 L1653.76 1551.62 L1626.83 1551.62 Q1627.21 1557.67 1630.46 1560.85 Q1633.74 1564 1639.56 1564 Q1642.94 1564 1646.09 1563.17 Q1649.27 1562.35 1652.39 1560.69 L1652.39 1566.23 Q1649.24 1567.57 1645.93 1568.27 Q1642.62 1568.97 1639.21 1568.97 Q1630.68 1568.97 1625.68 1564 Q1620.72 1559.04 1620.72 1550.57 Q1620.72 1541.82 1625.43 1536.69 Q1630.17 1531.54 1638.19 1531.54 Q1645.39 1531.54 1649.56 1536.18 Q1653.76 1540.8 1653.76 1548.76 M1647.9 1547.04 Q1647.84 1542.23 1645.2 1539.37 Q1642.59 1536.5 1638.26 1536.5 Q1633.35 1536.5 1630.39 1539.27 Q1627.47 1542.04 1627.02 1547.07 L1647.9 1547.04 Z\" fill=\"#000000\" fill-rule=\"evenodd\" fill-opacity=\"1\" /><path clip-path=\"url(#clip350)\" d=\"M1686.09 1533.45 L1686.09 1538.98 Q1683.61 1537.71 1680.94 1537.07 Q1678.27 1536.44 1675.4 1536.44 Q1671.04 1536.44 1668.84 1537.77 Q1666.68 1539.11 1666.68 1541.79 Q1666.68 1543.82 1668.24 1545 Q1669.8 1546.15 1674.51 1547.2 L1676.51 1547.64 Q1682.75 1548.98 1685.36 1551.43 Q1688 1553.85 1688 1558.21 Q1688 1563.17 1684.06 1566.07 Q1680.14 1568.97 1673.27 1568.97 Q1670.4 1568.97 1667.28 1568.39 Q1664.2 1567.85 1660.76 1566.74 L1660.76 1560.69 Q1664.01 1562.38 1667.16 1563.24 Q1670.31 1564.07 1673.4 1564.07 Q1677.53 1564.07 1679.76 1562.66 Q1681.99 1561.23 1681.99 1558.65 Q1681.99 1556.27 1680.37 1554.99 Q1678.77 1553.72 1673.33 1552.54 L1671.29 1552.07 Q1665.85 1550.92 1663.43 1548.56 Q1661.01 1546.18 1661.01 1542.04 Q1661.01 1537.01 1664.58 1534.27 Q1668.14 1531.54 1674.7 1531.54 Q1677.95 1531.54 1680.81 1532.01 Q1683.68 1532.49 1686.09 1533.45 Z\" fill=\"#000000\" fill-rule=\"evenodd\" fill-opacity=\"1\" /><polyline clip-path=\"url(#clip352)\" style=\"stroke:#000000; stroke-linecap:butt; stroke-linejoin:round; stroke-width:2; stroke-opacity:0.1; fill:none\" points=\"\n",
       "  257.204,1280.37 2352.76,1280.37 \n",
       "  \"/>\n",
       "<polyline clip-path=\"url(#clip352)\" style=\"stroke:#000000; stroke-linecap:butt; stroke-linejoin:round; stroke-width:2; stroke-opacity:0.1; fill:none\" points=\"\n",
       "  257.204,960.694 2352.76,960.694 \n",
       "  \"/>\n",
       "<polyline clip-path=\"url(#clip352)\" style=\"stroke:#000000; stroke-linecap:butt; stroke-linejoin:round; stroke-width:2; stroke-opacity:0.1; fill:none\" points=\"\n",
       "  257.204,641.015 2352.76,641.015 \n",
       "  \"/>\n",
       "<polyline clip-path=\"url(#clip352)\" style=\"stroke:#000000; stroke-linecap:butt; stroke-linejoin:round; stroke-width:2; stroke-opacity:0.1; fill:none\" points=\"\n",
       "  257.204,321.335 2352.76,321.335 \n",
       "  \"/>\n",
       "<polyline clip-path=\"url(#clip350)\" style=\"stroke:#000000; stroke-linecap:butt; stroke-linejoin:round; stroke-width:4; stroke-opacity:1; fill:none\" points=\"\n",
       "  257.204,1423.18 257.204,123.472 \n",
       "  \"/>\n",
       "<polyline clip-path=\"url(#clip350)\" style=\"stroke:#000000; stroke-linecap:butt; stroke-linejoin:round; stroke-width:4; stroke-opacity:1; fill:none\" points=\"\n",
       "  257.204,1280.37 276.102,1280.37 \n",
       "  \"/>\n",
       "<polyline clip-path=\"url(#clip350)\" style=\"stroke:#000000; stroke-linecap:butt; stroke-linejoin:round; stroke-width:4; stroke-opacity:1; fill:none\" points=\"\n",
       "  257.204,960.694 276.102,960.694 \n",
       "  \"/>\n",
       "<polyline clip-path=\"url(#clip350)\" style=\"stroke:#000000; stroke-linecap:butt; stroke-linejoin:round; stroke-width:4; stroke-opacity:1; fill:none\" points=\"\n",
       "  257.204,641.015 276.102,641.015 \n",
       "  \"/>\n",
       "<polyline clip-path=\"url(#clip350)\" style=\"stroke:#000000; stroke-linecap:butt; stroke-linejoin:round; stroke-width:4; stroke-opacity:1; fill:none\" points=\"\n",
       "  257.204,321.335 276.102,321.335 \n",
       "  \"/>\n",
       "<path clip-path=\"url(#clip350)\" d=\"M114.908 1280.83 L144.584 1280.83 L144.584 1284.76 L114.908 1284.76 L114.908 1280.83 Z\" fill=\"#000000\" fill-rule=\"evenodd\" fill-opacity=\"1\" /><path clip-path=\"url(#clip350)\" d=\"M168.843 1279.02 Q172.2 1279.74 174.075 1282.01 Q175.973 1284.27 175.973 1287.61 Q175.973 1292.72 172.454 1295.52 Q168.936 1298.33 162.454 1298.33 Q160.278 1298.33 157.964 1297.89 Q155.672 1297.47 153.218 1296.61 L153.218 1292.1 Q155.163 1293.23 157.478 1293.81 Q159.792 1294.39 162.315 1294.39 Q166.714 1294.39 169.005 1292.65 Q171.32 1290.92 171.32 1287.61 Q171.32 1284.55 169.167 1282.84 Q167.038 1281.1 163.218 1281.1 L159.19 1281.1 L159.19 1277.26 L163.403 1277.26 Q166.852 1277.26 168.681 1275.89 Q170.51 1274.51 170.51 1271.91 Q170.51 1269.25 168.612 1267.84 Q166.737 1266.4 163.218 1266.4 Q161.297 1266.4 159.098 1266.82 Q156.899 1267.24 154.26 1268.12 L154.26 1263.95 Q156.922 1263.21 159.237 1262.84 Q161.575 1262.47 163.635 1262.47 Q168.959 1262.47 172.061 1264.9 Q175.163 1267.31 175.163 1271.43 Q175.163 1274.3 173.519 1276.29 Q171.876 1278.26 168.843 1279.02 Z\" fill=\"#000000\" fill-rule=\"evenodd\" fill-opacity=\"1\" /><path clip-path=\"url(#clip350)\" d=\"M184.838 1291.77 L189.723 1291.77 L189.723 1297.65 L184.838 1297.65 L184.838 1291.77 Z\" fill=\"#000000\" fill-rule=\"evenodd\" fill-opacity=\"1\" /><path clip-path=\"url(#clip350)\" d=\"M214.074 1279.02 Q217.431 1279.74 219.306 1282.01 Q221.204 1284.27 221.204 1287.61 Q221.204 1292.72 217.686 1295.52 Q214.167 1298.33 207.686 1298.33 Q205.51 1298.33 203.195 1297.89 Q200.903 1297.47 198.45 1296.61 L198.45 1292.1 Q200.394 1293.23 202.709 1293.81 Q205.024 1294.39 207.547 1294.39 Q211.945 1294.39 214.236 1292.65 Q216.551 1290.92 216.551 1287.61 Q216.551 1284.55 214.399 1282.84 Q212.269 1281.1 208.449 1281.1 L204.422 1281.1 L204.422 1277.26 L208.635 1277.26 Q212.084 1277.26 213.912 1275.89 Q215.741 1274.51 215.741 1271.91 Q215.741 1269.25 213.843 1267.84 Q211.968 1266.4 208.449 1266.4 Q206.528 1266.4 204.329 1266.82 Q202.13 1267.24 199.491 1268.12 L199.491 1263.95 Q202.153 1263.21 204.468 1262.84 Q206.806 1262.47 208.866 1262.47 Q214.19 1262.47 217.292 1264.9 Q220.394 1267.31 220.394 1271.43 Q220.394 1274.3 218.75 1276.29 Q217.107 1278.26 214.074 1279.02 Z\" fill=\"#000000\" fill-rule=\"evenodd\" fill-opacity=\"1\" /><path clip-path=\"url(#clip350)\" d=\"M115.857 961.146 L145.533 961.146 L145.533 965.081 L115.857 965.081 L115.857 961.146 Z\" fill=\"#000000\" fill-rule=\"evenodd\" fill-opacity=\"1\" /><path clip-path=\"url(#clip350)\" d=\"M169.792 959.34 Q173.149 960.058 175.024 962.326 Q176.922 964.595 176.922 967.928 Q176.922 973.044 173.403 975.845 Q169.885 978.646 163.403 978.646 Q161.227 978.646 158.913 978.206 Q156.621 977.789 154.167 976.933 L154.167 972.419 Q156.112 973.553 158.427 974.132 Q160.741 974.711 163.265 974.711 Q167.663 974.711 169.954 972.974 Q172.269 971.238 172.269 967.928 Q172.269 964.873 170.116 963.16 Q167.987 961.424 164.167 961.424 L160.14 961.424 L160.14 957.581 L164.352 957.581 Q167.802 957.581 169.63 956.215 Q171.459 954.826 171.459 952.234 Q171.459 949.572 169.561 948.16 Q167.686 946.725 164.167 946.725 Q162.246 946.725 160.047 947.141 Q157.848 947.558 155.209 948.438 L155.209 944.271 Q157.871 943.53 160.186 943.16 Q162.524 942.789 164.584 942.789 Q169.908 942.789 173.01 945.22 Q176.112 947.627 176.112 951.748 Q176.112 954.618 174.468 956.609 Q172.825 958.576 169.792 959.34 Z\" fill=\"#000000\" fill-rule=\"evenodd\" fill-opacity=\"1\" /><path clip-path=\"url(#clip350)\" d=\"M185.788 972.095 L190.672 972.095 L190.672 977.974 L185.788 977.974 L185.788 972.095 Z\" fill=\"#000000\" fill-rule=\"evenodd\" fill-opacity=\"1\" /><path clip-path=\"url(#clip350)\" d=\"M204.885 974.039 L221.204 974.039 L221.204 977.974 L199.26 977.974 L199.26 974.039 Q201.922 971.285 206.505 966.655 Q211.111 962.002 212.292 960.66 Q214.537 958.137 215.417 956.401 Q216.32 954.641 216.32 952.951 Q216.32 950.197 214.375 948.461 Q212.454 946.725 209.352 946.725 Q207.153 946.725 204.699 947.489 Q202.269 948.252 199.491 949.803 L199.491 945.081 Q202.315 943.947 204.769 943.368 Q207.223 942.789 209.26 942.789 Q214.63 942.789 217.824 945.475 Q221.019 948.16 221.019 952.651 Q221.019 954.78 220.209 956.701 Q219.422 958.6 217.315 961.192 Q216.736 961.863 213.635 965.081 Q210.533 968.275 204.885 974.039 Z\" fill=\"#000000\" fill-rule=\"evenodd\" fill-opacity=\"1\" /><path clip-path=\"url(#clip350)\" d=\"M115.487 641.466 L145.163 641.466 L145.163 645.401 L115.487 645.401 L115.487 641.466 Z\" fill=\"#000000\" fill-rule=\"evenodd\" fill-opacity=\"1\" /><path clip-path=\"url(#clip350)\" d=\"M169.422 639.661 Q172.778 640.378 174.653 642.647 Q176.551 644.915 176.551 648.249 Q176.551 653.364 173.033 656.165 Q169.514 658.966 163.033 658.966 Q160.857 658.966 158.542 658.526 Q156.251 658.11 153.797 657.253 L153.797 652.739 Q155.741 653.874 158.056 654.452 Q160.371 655.031 162.894 655.031 Q167.292 655.031 169.584 653.295 Q171.899 651.559 171.899 648.249 Q171.899 645.193 169.746 643.48 Q167.616 641.744 163.797 641.744 L159.769 641.744 L159.769 637.902 L163.982 637.902 Q167.431 637.902 169.26 636.536 Q171.089 635.147 171.089 632.554 Q171.089 629.892 169.19 628.48 Q167.315 627.045 163.797 627.045 Q161.876 627.045 159.677 627.462 Q157.478 627.878 154.839 628.758 L154.839 624.591 Q157.501 623.851 159.815 623.48 Q162.153 623.11 164.214 623.11 Q169.538 623.11 172.639 625.54 Q175.741 627.948 175.741 632.068 Q175.741 634.939 174.098 636.929 Q172.454 638.897 169.422 639.661 Z\" fill=\"#000000\" fill-rule=\"evenodd\" fill-opacity=\"1\" /><path clip-path=\"url(#clip350)\" d=\"M185.417 652.415 L190.301 652.415 L190.301 658.295 L185.417 658.295 L185.417 652.415 Z\" fill=\"#000000\" fill-rule=\"evenodd\" fill-opacity=\"1\" /><path clip-path=\"url(#clip350)\" d=\"M201.297 654.36 L208.936 654.36 L208.936 627.994 L200.625 629.661 L200.625 625.402 L208.889 623.735 L213.565 623.735 L213.565 654.36 L221.204 654.36 L221.204 658.295 L201.297 658.295 L201.297 654.36 Z\" fill=\"#000000\" fill-rule=\"evenodd\" fill-opacity=\"1\" /><path clip-path=\"url(#clip350)\" d=\"M114.26 321.787 L143.936 321.787 L143.936 325.722 L114.26 325.722 L114.26 321.787 Z\" fill=\"#000000\" fill-rule=\"evenodd\" fill-opacity=\"1\" /><path clip-path=\"url(#clip350)\" d=\"M168.195 319.981 Q171.552 320.699 173.427 322.967 Q175.325 325.236 175.325 328.569 Q175.325 333.685 171.806 336.486 Q168.288 339.287 161.806 339.287 Q159.63 339.287 157.315 338.847 Q155.024 338.43 152.57 337.574 L152.57 333.06 Q154.515 334.194 156.829 334.773 Q159.144 335.351 161.667 335.351 Q166.065 335.351 168.357 333.615 Q170.672 331.879 170.672 328.569 Q170.672 325.514 168.519 323.801 Q166.39 322.065 162.57 322.065 L158.542 322.065 L158.542 318.222 L162.755 318.222 Q166.204 318.222 168.033 316.856 Q169.862 315.467 169.862 312.875 Q169.862 310.213 167.964 308.801 Q166.089 307.366 162.57 307.366 Q160.649 307.366 158.45 307.782 Q156.251 308.199 153.612 309.078 L153.612 304.912 Q156.274 304.171 158.589 303.801 Q160.927 303.43 162.987 303.43 Q168.311 303.43 171.413 305.861 Q174.514 308.268 174.514 312.389 Q174.514 315.259 172.871 317.25 Q171.227 319.217 168.195 319.981 Z\" fill=\"#000000\" fill-rule=\"evenodd\" fill-opacity=\"1\" /><path clip-path=\"url(#clip350)\" d=\"M184.19 332.736 L189.075 332.736 L189.075 338.615 L184.19 338.615 L184.19 332.736 Z\" fill=\"#000000\" fill-rule=\"evenodd\" fill-opacity=\"1\" /><path clip-path=\"url(#clip350)\" d=\"M209.26 307.134 Q205.649 307.134 203.82 310.699 Q202.014 314.24 202.014 321.37 Q202.014 328.477 203.82 332.041 Q205.649 335.583 209.26 335.583 Q212.894 335.583 214.699 332.041 Q216.528 328.477 216.528 321.37 Q216.528 314.24 214.699 310.699 Q212.894 307.134 209.26 307.134 M209.26 303.43 Q215.07 303.43 218.125 308.037 Q221.204 312.62 221.204 321.37 Q221.204 330.097 218.125 334.703 Q215.07 339.287 209.26 339.287 Q203.449 339.287 200.371 334.703 Q197.315 330.097 197.315 321.37 Q197.315 312.62 200.371 308.037 Q203.449 303.43 209.26 303.43 Z\" fill=\"#000000\" fill-rule=\"evenodd\" fill-opacity=\"1\" /><path clip-path=\"url(#clip350)\" d=\"M16.4842 917.605 L16.4842 911.175 L58.5933 911.175 L58.5933 888.036 L64.0042 888.036 L64.0042 917.605 L16.4842 917.605 Z\" fill=\"#000000\" fill-rule=\"evenodd\" fill-opacity=\"1\" /><path clip-path=\"url(#clip350)\" d=\"M32.4621 868.875 Q32.4621 873.586 36.1542 876.323 Q39.8145 879.06 46.212 879.06 Q52.6095 879.06 56.3017 876.355 Q59.9619 873.618 59.9619 868.875 Q59.9619 864.196 56.2698 861.459 Q52.5777 858.722 46.212 858.722 Q39.8781 858.722 36.186 861.459 Q32.4621 864.196 32.4621 868.875 M27.4968 868.875 Q27.4968 861.236 32.4621 856.876 Q37.4273 852.515 46.212 852.515 Q54.9649 852.515 59.9619 856.876 Q64.9272 861.236 64.9272 868.875 Q64.9272 876.546 59.9619 880.906 Q54.9649 885.235 46.212 885.235 Q37.4273 885.235 32.4621 880.906 Q27.4968 876.546 27.4968 868.875 Z\" fill=\"#000000\" fill-rule=\"evenodd\" fill-opacity=\"1\" /><path clip-path=\"url(#clip350)\" d=\"M45.7664 819.35 Q39.4007 819.35 35.8996 821.992 Q32.3984 824.602 32.3984 829.344 Q32.3984 834.055 35.8996 836.697 Q39.4007 839.307 45.7664 839.307 Q52.1003 839.307 55.6014 836.697 Q59.1026 834.055 59.1026 829.344 Q59.1026 824.602 55.6014 821.992 Q52.1003 819.35 45.7664 819.35 M59.58 813.494 Q68.683 813.494 73.1071 817.536 Q77.5631 821.578 77.5631 829.917 Q77.5631 833.004 77.0857 835.742 Q76.6401 838.479 75.6852 841.057 L69.9879 841.057 Q71.3884 838.479 72.0568 835.965 Q72.7252 833.45 72.7252 830.84 Q72.7252 825.079 69.7015 822.215 Q66.7096 819.35 60.6303 819.35 L57.7339 819.35 Q60.885 821.164 62.4446 823.997 Q64.0042 826.83 64.0042 830.776 Q64.0042 837.333 59.0071 841.344 Q54.01 845.354 45.7664 845.354 Q37.491 845.354 32.4939 841.344 Q27.4968 837.333 27.4968 830.776 Q27.4968 826.83 29.0564 823.997 Q30.616 821.164 33.7671 819.35 L28.3562 819.35 L28.3562 813.494 L59.58 813.494 Z\" fill=\"#000000\" fill-rule=\"evenodd\" fill-opacity=\"1\" /><path clip-path=\"url(#clip350)\" d=\"M44.7161 750.218 L47.5806 750.218 L47.5806 777.145 Q53.6281 776.763 56.8109 773.517 Q59.9619 770.239 59.9619 764.414 Q59.9619 761.04 59.1344 757.889 Q58.3069 754.706 56.6518 751.587 L62.1899 751.587 Q63.5267 754.738 64.227 758.048 Q64.9272 761.358 64.9272 764.764 Q64.9272 773.294 59.9619 778.291 Q54.9967 783.256 46.5303 783.256 Q37.7774 783.256 32.6531 778.546 Q27.4968 773.803 27.4968 765.783 Q27.4968 758.589 32.1438 754.42 Q36.7589 750.218 44.7161 750.218 M42.9973 756.075 Q38.1912 756.139 35.3266 758.78 Q32.4621 761.39 32.4621 765.719 Q32.4621 770.621 35.2312 773.581 Q38.0002 776.509 43.0292 776.954 L42.9973 756.075 Z\" fill=\"#000000\" fill-rule=\"evenodd\" fill-opacity=\"1\" /><path clip-path=\"url(#clip350)\" d=\"M33.8307 719.95 Q33.2578 720.936 33.0032 722.114 Q32.7167 723.26 32.7167 724.66 Q32.7167 729.625 35.9632 732.299 Q39.1779 734.941 45.2253 734.941 L64.0042 734.941 L64.0042 740.829 L28.3562 740.829 L28.3562 734.941 L33.8944 734.941 Q30.6479 733.095 29.0883 730.135 Q27.4968 727.175 27.4968 722.941 Q27.4968 722.337 27.5923 721.605 Q27.656 720.873 27.8151 719.981 L33.8307 719.95 Z\" fill=\"#000000\" fill-rule=\"evenodd\" fill-opacity=\"1\" /><path clip-path=\"url(#clip350)\" d=\"M33.8307 694.296 Q33.2578 695.282 33.0032 696.46 Q32.7167 697.606 32.7167 699.006 Q32.7167 703.972 35.9632 706.645 Q39.1779 709.287 45.2253 709.287 L64.0042 709.287 L64.0042 715.175 L28.3562 715.175 L28.3562 709.287 L33.8944 709.287 Q30.6479 707.441 29.0883 704.481 Q27.4968 701.521 27.4968 697.288 Q27.4968 696.683 27.5923 695.951 Q27.656 695.219 27.8151 694.328 L33.8307 694.296 Z\" fill=\"#000000\" fill-rule=\"evenodd\" fill-opacity=\"1\" /><path clip-path=\"url(#clip350)\" d=\"M32.4621 675.772 Q32.4621 680.482 36.1542 683.219 Q39.8145 685.957 46.212 685.957 Q52.6095 685.957 56.3017 683.251 Q59.9619 680.514 59.9619 675.772 Q59.9619 671.093 56.2698 668.355 Q52.5777 665.618 46.212 665.618 Q39.8781 665.618 36.186 668.355 Q32.4621 671.093 32.4621 675.772 M27.4968 675.772 Q27.4968 668.133 32.4621 663.772 Q37.4273 659.412 46.212 659.412 Q54.9649 659.412 59.9619 663.772 Q64.9272 668.133 64.9272 675.772 Q64.9272 683.442 59.9619 687.803 Q54.9649 692.131 46.212 692.131 Q37.4273 692.131 32.4621 687.803 Q27.4968 683.442 27.4968 675.772 Z\" fill=\"#000000\" fill-rule=\"evenodd\" fill-opacity=\"1\" /><path clip-path=\"url(#clip350)\" d=\"M33.8307 629.047 Q33.2578 630.034 33.0032 631.212 Q32.7167 632.357 32.7167 633.758 Q32.7167 638.723 35.9632 641.397 Q39.1779 644.038 45.2253 644.038 L64.0042 644.038 L64.0042 649.927 L28.3562 649.927 L28.3562 644.038 L33.8944 644.038 Q30.6479 642.192 29.0883 639.232 Q27.4968 636.272 27.4968 632.039 Q27.4968 631.434 27.5923 630.702 Q27.656 629.97 27.8151 629.079 L33.8307 629.047 Z\" fill=\"#000000\" fill-rule=\"evenodd\" fill-opacity=\"1\" /><path clip-path=\"url(#clip350)\" d=\"M875.523 12.096 L913.764 12.096 L913.764 18.9825 L883.706 18.9825 L883.706 36.8875 L912.508 36.8875 L912.508 43.7741 L883.706 43.7741 L883.706 65.6895 L914.493 65.6895 L914.493 72.576 L875.523 72.576 L875.523 12.096 Z\" fill=\"#000000\" fill-rule=\"evenodd\" fill-opacity=\"1\" /><path clip-path=\"url(#clip350)\" d=\"M953.908 34.1734 Q952.653 33.4443 951.154 33.1202 Q949.695 32.7556 947.913 32.7556 Q941.594 32.7556 938.191 36.8875 Q934.829 40.9789 934.829 48.6757 L934.829 72.576 L927.334 72.576 L927.334 27.2059 L934.829 27.2059 L934.829 34.2544 Q937.178 30.1225 940.945 28.1376 Q944.713 26.1121 950.101 26.1121 Q950.87 26.1121 951.802 26.2337 Q952.734 26.3147 953.868 26.5172 L953.908 34.1734 Z\" fill=\"#000000\" fill-rule=\"evenodd\" fill-opacity=\"1\" /><path clip-path=\"url(#clip350)\" d=\"M986.559 34.1734 Q985.303 33.4443 983.804 33.1202 Q982.346 32.7556 980.563 32.7556 Q974.244 32.7556 970.841 36.8875 Q967.479 40.9789 967.479 48.6757 L967.479 72.576 L959.985 72.576 L959.985 27.2059 L967.479 27.2059 L967.479 34.2544 Q969.828 30.1225 973.596 28.1376 Q977.363 26.1121 982.751 26.1121 Q983.52 26.1121 984.452 26.2337 Q985.384 26.3147 986.518 26.5172 L986.559 34.1734 Z\" fill=\"#000000\" fill-rule=\"evenodd\" fill-opacity=\"1\" /><path clip-path=\"url(#clip350)\" d=\"M1010.13 32.4315 Q1004.14 32.4315 1000.66 37.1306 Q997.172 41.7891 997.172 49.9314 Q997.172 58.0738 1000.62 62.7728 Q1004.1 67.4314 1010.13 67.4314 Q1016.09 67.4314 1019.57 62.7323 Q1023.06 58.0333 1023.06 49.9314 Q1023.06 41.8701 1019.57 37.1711 Q1016.09 32.4315 1010.13 32.4315 M1010.13 26.1121 Q1019.86 26.1121 1025.41 32.4315 Q1030.96 38.7509 1030.96 49.9314 Q1030.96 61.0714 1025.41 67.4314 Q1019.86 73.7508 1010.13 73.7508 Q1000.37 73.7508 994.822 67.4314 Q989.313 61.0714 989.313 49.9314 Q989.313 38.7509 994.822 32.4315 Q1000.37 26.1121 1010.13 26.1121 Z\" fill=\"#000000\" fill-rule=\"evenodd\" fill-opacity=\"1\" /><path clip-path=\"url(#clip350)\" d=\"M1069.6 34.1734 Q1068.35 33.4443 1066.85 33.1202 Q1065.39 32.7556 1063.61 32.7556 Q1057.29 32.7556 1053.88 36.8875 Q1050.52 40.9789 1050.52 48.6757 L1050.52 72.576 L1043.03 72.576 L1043.03 27.2059 L1050.52 27.2059 L1050.52 34.2544 Q1052.87 30.1225 1056.64 28.1376 Q1060.41 26.1121 1065.79 26.1121 Q1066.56 26.1121 1067.5 26.2337 Q1068.43 26.3147 1069.56 26.5172 L1069.6 34.1734 Z\" fill=\"#000000\" fill-rule=\"evenodd\" fill-opacity=\"1\" /><path clip-path=\"url(#clip350)\" d=\"M1111.89 86.3491 L1111.89 92.1419 L1068.79 92.1419 L1068.79 86.3491 L1111.89 86.3491 Z\" fill=\"#000000\" fill-rule=\"evenodd\" fill-opacity=\"1\" /><path clip-path=\"url(#clip350)\" d=\"M1148.76 34.0924 L1148.76 9.54393 L1156.21 9.54393 L1156.21 72.576 L1148.76 72.576 L1148.76 65.7705 Q1146.41 69.8214 1142.8 71.8063 Q1139.24 73.7508 1134.21 73.7508 Q1125.99 73.7508 1120.81 67.1883 Q1115.66 60.6258 1115.66 49.9314 Q1115.66 39.2371 1120.81 32.6746 Q1125.99 26.1121 1134.21 26.1121 Q1139.24 26.1121 1142.8 28.0971 Q1146.41 30.0415 1148.76 34.0924 M1123.36 49.9314 Q1123.36 58.1548 1126.72 62.8538 Q1130.12 67.5124 1136.04 67.5124 Q1141.95 67.5124 1145.35 62.8538 Q1148.76 58.1548 1148.76 49.9314 Q1148.76 41.7081 1145.35 37.0496 Q1141.95 32.3505 1136.04 32.3505 Q1130.12 32.3505 1126.72 37.0496 Q1123.36 41.7081 1123.36 49.9314 Z\" fill=\"#000000\" fill-rule=\"evenodd\" fill-opacity=\"1\" /><path clip-path=\"url(#clip350)\" d=\"M1210.37 48.0275 L1210.37 51.6733 L1176.1 51.6733 Q1176.59 59.3701 1180.72 63.421 Q1184.89 67.4314 1192.3 67.4314 Q1196.6 67.4314 1200.61 66.3781 Q1204.66 65.3249 1208.63 63.2184 L1208.63 70.267 Q1204.62 71.9684 1200.41 72.8596 Q1196.19 73.7508 1191.86 73.7508 Q1181 73.7508 1174.64 67.4314 Q1168.32 61.1119 1168.32 50.3365 Q1168.32 39.1965 1174.32 32.6746 Q1180.35 26.1121 1190.56 26.1121 Q1199.72 26.1121 1205.02 32.0264 Q1210.37 37.9003 1210.37 48.0275 M1202.92 45.84 Q1202.84 39.7232 1199.47 36.0774 Q1196.15 32.4315 1190.64 32.4315 Q1184.4 32.4315 1180.64 35.9558 Q1176.91 39.4801 1176.34 45.8805 L1202.92 45.84 Z\" fill=\"#000000\" fill-rule=\"evenodd\" fill-opacity=\"1\" /><path clip-path=\"url(#clip350)\" d=\"M1255.26 28.9478 L1255.26 35.9153 Q1252.1 34.1734 1248.9 33.3227 Q1245.74 32.4315 1242.49 32.4315 Q1235.24 32.4315 1231.23 37.0496 Q1227.22 41.6271 1227.22 49.9314 Q1227.22 58.2358 1231.23 62.8538 Q1235.24 67.4314 1242.49 67.4314 Q1245.74 67.4314 1248.9 66.5807 Q1252.1 65.6895 1255.26 63.9476 L1255.26 70.8341 Q1252.14 72.2924 1248.77 73.0216 Q1245.45 73.7508 1241.68 73.7508 Q1231.44 73.7508 1225.4 67.3098 Q1219.36 60.8689 1219.36 49.9314 Q1219.36 38.832 1225.44 32.472 Q1231.56 26.1121 1242.17 26.1121 Q1245.61 26.1121 1248.9 26.8413 Q1252.18 27.5299 1255.26 28.9478 Z\" fill=\"#000000\" fill-rule=\"evenodd\" fill-opacity=\"1\" /><path clip-path=\"url(#clip350)\" d=\"M1288.84 49.7694 Q1279.8 49.7694 1276.32 51.8354 Q1272.84 53.9013 1272.84 58.8839 Q1272.84 62.8538 1275.43 65.2034 Q1278.06 67.5124 1282.56 67.5124 Q1288.76 67.5124 1292.48 63.1374 Q1296.25 58.7219 1296.25 51.4303 L1296.25 49.7694 L1288.84 49.7694 M1303.7 46.6907 L1303.7 72.576 L1296.25 72.576 L1296.25 65.6895 Q1293.7 69.8214 1289.89 71.8063 Q1286.08 73.7508 1280.57 73.7508 Q1273.61 73.7508 1269.47 69.8619 Q1265.38 65.9325 1265.38 59.3701 Q1265.38 51.7138 1270.49 47.825 Q1275.63 43.9361 1285.8 43.9361 L1296.25 43.9361 L1296.25 43.2069 Q1296.25 38.0623 1292.85 35.2672 Q1289.49 32.4315 1283.37 32.4315 Q1279.48 32.4315 1275.79 33.3632 Q1272.11 34.295 1268.7 36.1584 L1268.7 29.2718 Q1272.8 27.692 1276.64 26.9223 Q1280.49 26.1121 1284.14 26.1121 Q1293.98 26.1121 1298.84 31.2163 Q1303.7 36.3204 1303.7 46.6907 Z\" fill=\"#000000\" fill-rule=\"evenodd\" fill-opacity=\"1\" /><path clip-path=\"url(#clip350)\" d=\"M1337.93 76.7889 Q1334.77 84.8907 1331.78 87.3618 Q1328.78 89.8329 1323.76 89.8329 L1317.8 89.8329 L1317.8 83.5945 L1322.18 83.5945 Q1325.25 83.5945 1326.96 82.1361 Q1328.66 80.6778 1330.72 75.2496 L1332.06 71.8468 L1313.71 27.2059 L1321.61 27.2059 L1335.79 62.6918 L1349.97 27.2059 L1357.86 27.2059 L1337.93 76.7889 Z\" fill=\"#000000\" fill-rule=\"evenodd\" fill-opacity=\"1\" /><path clip-path=\"url(#clip350)\" d=\"M1370.06 62.2867 L1378.61 62.2867 L1378.61 69.2543 L1371.96 82.2172 L1366.74 82.2172 L1370.06 69.2543 L1370.06 62.2867 Z\" fill=\"#000000\" fill-rule=\"evenodd\" fill-opacity=\"1\" /><path clip-path=\"url(#clip350)\" d=\"M1421.22 12.096 L1429.4 12.096 L1429.4 65.6895 L1458.85 65.6895 L1458.85 72.576 L1421.22 72.576 L1421.22 12.096 Z\" fill=\"#000000\" fill-rule=\"evenodd\" fill-opacity=\"1\" /><path clip-path=\"url(#clip350)\" d=\"M1468.09 34.9026 L1520.02 34.9026 L1520.02 41.7081 L1468.09 41.7081 L1468.09 34.9026 M1468.09 51.4303 L1520.02 51.4303 L1520.02 58.3168 L1468.09 58.3168 L1468.09 51.4303 Z\" fill=\"#000000\" fill-rule=\"evenodd\" fill-opacity=\"1\" /><path clip-path=\"url(#clip350)\" d=\"M1537.77 12.096 L1569.89 12.096 L1569.89 18.9825 L1545.26 18.9825 L1545.26 33.8088 Q1547.04 33.2012 1548.82 32.9176 Q1550.61 32.5936 1552.39 32.5936 Q1562.52 32.5936 1568.43 38.1433 Q1574.34 43.6931 1574.34 53.1722 Q1574.34 62.9348 1568.27 68.3631 Q1562.19 73.7508 1551.13 73.7508 Q1547.33 73.7508 1543.36 73.1026 Q1539.43 72.4545 1535.21 71.1582 L1535.21 62.9348 Q1538.86 64.9198 1542.75 65.892 Q1546.64 66.8642 1550.97 66.8642 Q1557.98 66.8642 1562.07 63.1779 Q1566.16 59.4916 1566.16 53.1722 Q1566.16 46.8528 1562.07 43.1664 Q1557.98 39.4801 1550.97 39.4801 Q1547.69 39.4801 1544.41 40.2093 Q1541.17 40.9384 1537.77 42.4778 L1537.77 12.096 Z\" fill=\"#000000\" fill-rule=\"evenodd\" fill-opacity=\"1\" /><path clip-path=\"url(#clip350)\" d=\"M1607.97 17.4837 Q1601.65 17.4837 1598.45 23.7221 Q1595.29 29.92 1595.29 42.3968 Q1595.29 54.833 1598.45 61.0714 Q1601.65 67.2693 1607.97 67.2693 Q1614.33 67.2693 1617.49 61.0714 Q1620.69 54.833 1620.69 42.3968 Q1620.69 29.92 1617.49 23.7221 Q1614.33 17.4837 1607.97 17.4837 M1607.97 11.0023 Q1618.14 11.0023 1623.48 19.0636 Q1628.87 27.0843 1628.87 42.3968 Q1628.87 57.6687 1623.48 65.73 Q1618.14 73.7508 1607.97 73.7508 Q1597.8 73.7508 1592.41 65.73 Q1587.06 57.6687 1587.06 42.3968 Q1587.06 27.0843 1592.41 19.0636 Q1597.8 11.0023 1607.97 11.0023 Z\" fill=\"#000000\" fill-rule=\"evenodd\" fill-opacity=\"1\" /><path clip-path=\"url(#clip350)\" d=\"M1660.75 17.4837 Q1654.43 17.4837 1651.23 23.7221 Q1648.07 29.92 1648.07 42.3968 Q1648.07 54.833 1651.23 61.0714 Q1654.43 67.2693 1660.75 67.2693 Q1667.11 67.2693 1670.27 61.0714 Q1673.47 54.833 1673.47 42.3968 Q1673.47 29.92 1670.27 23.7221 Q1667.11 17.4837 1660.75 17.4837 M1660.75 11.0023 Q1670.92 11.0023 1676.27 19.0636 Q1681.65 27.0843 1681.65 42.3968 Q1681.65 57.6687 1676.27 65.73 Q1670.92 73.7508 1660.75 73.7508 Q1650.58 73.7508 1645.2 65.73 Q1639.85 57.6687 1639.85 42.3968 Q1639.85 27.0843 1645.2 19.0636 Q1650.58 11.0023 1660.75 11.0023 Z\" fill=\"#000000\" fill-rule=\"evenodd\" fill-opacity=\"1\" /><path clip-path=\"url(#clip350)\" d=\"M1713.53 17.4837 Q1707.21 17.4837 1704.01 23.7221 Q1700.85 29.92 1700.85 42.3968 Q1700.85 54.833 1704.01 61.0714 Q1707.21 67.2693 1713.53 67.2693 Q1719.89 67.2693 1723.05 61.0714 Q1726.25 54.833 1726.25 42.3968 Q1726.25 29.92 1723.05 23.7221 Q1719.89 17.4837 1713.53 17.4837 M1713.53 11.0023 Q1723.7 11.0023 1729.05 19.0636 Q1734.44 27.0843 1734.44 42.3968 Q1734.44 57.6687 1729.05 65.73 Q1723.7 73.7508 1713.53 73.7508 Q1703.37 73.7508 1697.98 65.73 Q1692.63 57.6687 1692.63 42.3968 Q1692.63 27.0843 1697.98 19.0636 Q1703.37 11.0023 1713.53 11.0023 Z\" fill=\"#000000\" fill-rule=\"evenodd\" fill-opacity=\"1\" /><circle clip-path=\"url(#clip352)\" cx=\"316.512\" cy=\"160.256\" r=\"14\" fill=\"#009af9\" fill-rule=\"evenodd\" fill-opacity=\"1\" stroke=\"#000000\" stroke-opacity=\"1\" stroke-width=\"3.2\"/>\n",
       "<circle clip-path=\"url(#clip352)\" cx=\"598.931\" cy=\"352.764\" r=\"14\" fill=\"#009af9\" fill-rule=\"evenodd\" fill-opacity=\"1\" stroke=\"#000000\" stroke-opacity=\"1\" stroke-width=\"3.2\"/>\n",
       "<circle clip-path=\"url(#clip352)\" cx=\"881.351\" cy=\"490.228\" r=\"14\" fill=\"#009af9\" fill-rule=\"evenodd\" fill-opacity=\"1\" stroke=\"#000000\" stroke-opacity=\"1\" stroke-width=\"3.2\"/>\n",
       "<circle clip-path=\"url(#clip352)\" cx=\"1163.77\" cy=\"699.899\" r=\"14\" fill=\"#009af9\" fill-rule=\"evenodd\" fill-opacity=\"1\" stroke=\"#000000\" stroke-opacity=\"1\" stroke-width=\"3.2\"/>\n",
       "<circle clip-path=\"url(#clip352)\" cx=\"1446.19\" cy=\"783.084\" r=\"14\" fill=\"#009af9\" fill-rule=\"evenodd\" fill-opacity=\"1\" stroke=\"#000000\" stroke-opacity=\"1\" stroke-width=\"3.2\"/>\n",
       "<circle clip-path=\"url(#clip352)\" cx=\"1728.61\" cy=\"871.137\" r=\"14\" fill=\"#009af9\" fill-rule=\"evenodd\" fill-opacity=\"1\" stroke=\"#000000\" stroke-opacity=\"1\" stroke-width=\"3.2\"/>\n",
       "<circle clip-path=\"url(#clip352)\" cx=\"2011.03\" cy=\"1056.4\" r=\"14\" fill=\"#009af9\" fill-rule=\"evenodd\" fill-opacity=\"1\" stroke=\"#000000\" stroke-opacity=\"1\" stroke-width=\"3.2\"/>\n",
       "<circle clip-path=\"url(#clip352)\" cx=\"2293.45\" cy=\"1386.4\" r=\"14\" fill=\"#009af9\" fill-rule=\"evenodd\" fill-opacity=\"1\" stroke=\"#000000\" stroke-opacity=\"1\" stroke-width=\"3.2\"/>\n",
       "<polyline clip-path=\"url(#clip352)\" style=\"stroke:#e26f46; stroke-linecap:butt; stroke-linejoin:round; stroke-width:4; stroke-opacity:1; fill:none\" points=\"\n",
       "  316.512,160.256 598.931,352.764 881.351,490.228 1163.77,699.899 1446.19,783.084 1728.61,871.137 2011.03,1056.4 2293.45,1386.4 \n",
       "  \"/>\n",
       "<path clip-path=\"url(#clip350)\" d=\"\n",
       "M1687.91 270.476 L2282.9 270.476 L2282.9 166.796 L1687.91 166.796  Z\n",
       "  \" fill=\"#ffffff\" fill-rule=\"evenodd\" fill-opacity=\"1\"/>\n",
       "<polyline clip-path=\"url(#clip350)\" style=\"stroke:#000000; stroke-linecap:butt; stroke-linejoin:round; stroke-width:4; stroke-opacity:1; fill:none\" points=\"\n",
       "  1687.91,270.476 2282.9,270.476 2282.9,166.796 1687.91,166.796 1687.91,270.476 \n",
       "  \"/>\n",
       "<circle clip-path=\"url(#clip350)\" cx=\"1781.05\" cy=\"218.636\" r=\"23\" fill=\"#009af9\" fill-rule=\"evenodd\" fill-opacity=\"1\" stroke=\"#000000\" stroke-opacity=\"1\" stroke-width=\"5.12\"/>\n",
       "<path clip-path=\"url(#clip350)\" d=\"M1874.19 201.356 L1881.15 201.356 L1889.97 224.874 L1898.84 201.356 L1905.81 201.356 L1905.81 235.916 L1901.25 235.916 L1901.25 205.569 L1892.33 229.272 L1887.63 229.272 L1878.72 205.569 L1878.72 235.916 L1874.19 235.916 L1874.19 201.356 Z\" fill=\"#000000\" fill-rule=\"evenodd\" fill-opacity=\"1\" /><path clip-path=\"url(#clip350)\" d=\"M1926.69 222.883 Q1921.52 222.883 1919.53 224.064 Q1917.54 225.244 1917.54 228.092 Q1917.54 230.36 1919.02 231.703 Q1920.53 233.022 1923.1 233.022 Q1926.64 233.022 1928.77 230.522 Q1930.92 227.999 1930.92 223.832 L1930.92 222.883 L1926.69 222.883 M1935.18 221.124 L1935.18 235.916 L1930.92 235.916 L1930.92 231.981 Q1929.46 234.342 1927.29 235.476 Q1925.11 236.587 1921.96 236.587 Q1917.98 236.587 1915.62 234.365 Q1913.28 232.119 1913.28 228.369 Q1913.28 223.994 1916.2 221.772 Q1919.14 219.55 1924.95 219.55 L1930.92 219.55 L1930.92 219.133 Q1930.92 216.194 1928.98 214.596 Q1927.06 212.976 1923.56 212.976 Q1921.34 212.976 1919.23 213.508 Q1917.13 214.041 1915.18 215.106 L1915.18 211.17 Q1917.52 210.268 1919.72 209.828 Q1921.92 209.365 1924 209.365 Q1929.63 209.365 1932.4 212.282 Q1935.18 215.198 1935.18 221.124 Z\" fill=\"#000000\" fill-rule=\"evenodd\" fill-opacity=\"1\" /><path clip-path=\"url(#clip350)\" d=\"M1965.5 209.99 L1956.13 222.606 L1965.99 235.916 L1960.97 235.916 L1953.42 225.731 L1945.87 235.916 L1940.85 235.916 L1950.92 222.351 L1941.71 209.99 L1946.73 209.99 L1953.61 219.226 L1960.48 209.99 L1965.5 209.99 Z\" fill=\"#000000\" fill-rule=\"evenodd\" fill-opacity=\"1\" /><path clip-path=\"url(#clip350)\" d=\"M2008.63 220.268 L2008.63 235.916 L2004.37 235.916 L2004.37 220.407 Q2004.37 216.726 2002.93 214.897 Q2001.5 213.069 1998.63 213.069 Q1995.18 213.069 1993.19 215.268 Q1991.2 217.467 1991.2 221.263 L1991.2 235.916 L1986.92 235.916 L1986.92 209.99 L1991.2 209.99 L1991.2 214.018 Q1992.73 211.68 1994.79 210.522 Q1996.87 209.365 1999.58 209.365 Q2004.05 209.365 2006.34 212.143 Q2008.63 214.897 2008.63 220.268 Z\" fill=\"#000000\" fill-rule=\"evenodd\" fill-opacity=\"1\" /><path clip-path=\"url(#clip350)\" d=\"M2027.17 212.976 Q2023.74 212.976 2021.75 215.661 Q2019.76 218.323 2019.76 222.976 Q2019.76 227.629 2021.73 230.314 Q2023.72 232.976 2027.17 232.976 Q2030.57 232.976 2032.56 230.291 Q2034.56 227.606 2034.56 222.976 Q2034.56 218.37 2032.56 215.684 Q2030.57 212.976 2027.17 212.976 M2027.17 209.365 Q2032.73 209.365 2035.9 212.976 Q2039.07 216.587 2039.07 222.976 Q2039.07 229.342 2035.9 232.976 Q2032.73 236.587 2027.17 236.587 Q2021.59 236.587 2018.42 232.976 Q2015.27 229.342 2015.27 222.976 Q2015.27 216.587 2018.42 212.976 Q2021.59 209.365 2027.17 209.365 Z\" fill=\"#000000\" fill-rule=\"evenodd\" fill-opacity=\"1\" /><path clip-path=\"url(#clip350)\" d=\"M2061.15 213.971 Q2060.43 213.555 2059.58 213.37 Q2058.74 213.161 2057.73 213.161 Q2054.12 213.161 2052.17 215.522 Q2050.25 217.86 2050.25 222.258 L2050.25 235.916 L2045.97 235.916 L2045.97 209.99 L2050.25 209.99 L2050.25 214.018 Q2051.59 211.657 2053.74 210.522 Q2055.9 209.365 2058.98 209.365 Q2059.42 209.365 2059.95 209.434 Q2060.48 209.481 2061.13 209.596 L2061.15 213.971 Z\" fill=\"#000000\" fill-rule=\"evenodd\" fill-opacity=\"1\" /><path clip-path=\"url(#clip350)\" d=\"M2084.97 214.967 Q2086.57 212.096 2088.79 210.731 Q2091.01 209.365 2094.02 209.365 Q2098.07 209.365 2100.27 212.212 Q2102.47 215.036 2102.47 220.268 L2102.47 235.916 L2098.19 235.916 L2098.19 220.407 Q2098.19 216.68 2096.87 214.874 Q2095.55 213.069 2092.84 213.069 Q2089.53 213.069 2087.61 215.268 Q2085.69 217.467 2085.69 221.263 L2085.69 235.916 L2081.41 235.916 L2081.41 220.407 Q2081.41 216.657 2080.09 214.874 Q2078.77 213.069 2076.01 213.069 Q2072.75 213.069 2070.83 215.291 Q2068.91 217.49 2068.91 221.263 L2068.91 235.916 L2064.62 235.916 L2064.62 209.99 L2068.91 209.99 L2068.91 214.018 Q2070.37 211.633 2072.4 210.499 Q2074.44 209.365 2077.24 209.365 Q2080.06 209.365 2082.03 210.8 Q2084.02 212.235 2084.97 214.967 Z\" fill=\"#000000\" fill-rule=\"evenodd\" fill-opacity=\"1\" /><path clip-path=\"url(#clip350)\" d=\"M2148.21 221.888 L2148.21 223.971 L2128.63 223.971 Q2128.91 228.369 2131.27 230.684 Q2133.65 232.976 2137.89 232.976 Q2140.34 232.976 2142.63 232.374 Q2144.95 231.772 2147.22 230.569 L2147.22 234.596 Q2144.92 235.568 2142.52 236.078 Q2140.11 236.587 2137.63 236.587 Q2131.43 236.587 2127.8 232.976 Q2124.18 229.365 2124.18 223.207 Q2124.18 216.842 2127.61 213.115 Q2131.06 209.365 2136.89 209.365 Q2142.12 209.365 2145.16 212.745 Q2148.21 216.101 2148.21 221.888 M2143.95 220.638 Q2143.91 217.143 2141.99 215.059 Q2140.09 212.976 2136.94 212.976 Q2133.37 212.976 2131.22 214.99 Q2129.09 217.004 2128.77 220.661 L2143.95 220.638 Z\" fill=\"#000000\" fill-rule=\"evenodd\" fill-opacity=\"1\" /><path clip-path=\"url(#clip350)\" d=\"M2170.23 213.971 Q2169.51 213.555 2168.65 213.37 Q2167.82 213.161 2166.8 213.161 Q2163.19 213.161 2161.24 215.522 Q2159.32 217.86 2159.32 222.258 L2159.32 235.916 L2155.04 235.916 L2155.04 209.99 L2159.32 209.99 L2159.32 214.018 Q2160.67 211.657 2162.82 210.522 Q2164.97 209.365 2168.05 209.365 Q2168.49 209.365 2169.02 209.434 Q2169.55 209.481 2170.2 209.596 L2170.23 213.971 Z\" fill=\"#000000\" fill-rule=\"evenodd\" fill-opacity=\"1\" /><path clip-path=\"url(#clip350)\" d=\"M2188.88 213.971 Q2188.17 213.555 2187.31 213.37 Q2186.48 213.161 2185.46 213.161 Q2181.85 213.161 2179.9 215.522 Q2177.98 217.86 2177.98 222.258 L2177.98 235.916 L2173.7 235.916 L2173.7 209.99 L2177.98 209.99 L2177.98 214.018 Q2179.32 211.657 2181.48 210.522 Q2183.63 209.365 2186.71 209.365 Q2187.15 209.365 2187.68 209.434 Q2188.21 209.481 2188.86 209.596 L2188.88 213.971 Z\" fill=\"#000000\" fill-rule=\"evenodd\" fill-opacity=\"1\" /><path clip-path=\"url(#clip350)\" d=\"M2202.36 212.976 Q2198.93 212.976 2196.94 215.661 Q2194.95 218.323 2194.95 222.976 Q2194.95 227.629 2196.92 230.314 Q2198.91 232.976 2202.36 232.976 Q2205.76 232.976 2207.75 230.291 Q2209.74 227.606 2209.74 222.976 Q2209.74 218.37 2207.75 215.684 Q2205.76 212.976 2202.36 212.976 M2202.36 209.365 Q2207.91 209.365 2211.08 212.976 Q2214.25 216.587 2214.25 222.976 Q2214.25 229.342 2211.08 232.976 Q2207.91 236.587 2202.36 236.587 Q2196.78 236.587 2193.61 232.976 Q2190.46 229.342 2190.46 222.976 Q2190.46 216.587 2193.61 212.976 Q2196.78 209.365 2202.36 209.365 Z\" fill=\"#000000\" fill-rule=\"evenodd\" fill-opacity=\"1\" /><path clip-path=\"url(#clip350)\" d=\"M2236.34 213.971 Q2235.62 213.555 2234.76 213.37 Q2233.93 213.161 2232.91 213.161 Q2229.3 213.161 2227.35 215.522 Q2225.43 217.86 2225.43 222.258 L2225.43 235.916 L2221.15 235.916 L2221.15 209.99 L2225.43 209.99 L2225.43 214.018 Q2226.78 211.657 2228.93 210.522 Q2231.08 209.365 2234.16 209.365 Q2234.6 209.365 2235.13 209.434 Q2235.67 209.481 2236.31 209.596 L2236.34 213.971 Z\" fill=\"#000000\" fill-rule=\"evenodd\" fill-opacity=\"1\" /></svg>\n"
      ]
     },
     "execution_count": 199,
     "metadata": {},
     "output_type": "execute_result"
    }
   ],
   "source": [
    "error_plotMax=scatter(log.(Sgrid),log.(er1), label=\"Max norm error\" ); \n",
    "plot!(error_plotMax,log.(Sgrid), log.(er1),label=false)\n",
    "title!(\"Error_decay, L=5000\")\n",
    "xlabel!(\"Log number of particles\")\n",
    "ylabel!(\"Log error\")\n",
    "#png(error_plotMax,\"error_plotMax.png\")"
   ]
  },
  {
   "cell_type": "code",
   "execution_count": 200,
   "id": "f0a6da7b",
   "metadata": {},
   "outputs": [
    {
     "data": {
      "image/svg+xml": [
       "<?xml version=\"1.0\" encoding=\"utf-8\"?>\n",
       "<svg xmlns=\"http://www.w3.org/2000/svg\" xmlns:xlink=\"http://www.w3.org/1999/xlink\" width=\"600\" height=\"400\" viewBox=\"0 0 2400 1600\">\n",
       "<defs>\n",
       "  <clipPath id=\"clip390\">\n",
       "    <rect x=\"0\" y=\"0\" width=\"2400\" height=\"1600\"/>\n",
       "  </clipPath>\n",
       "</defs>\n",
       "<path clip-path=\"url(#clip390)\" d=\"\n",
       "M0 1600 L2400 1600 L2400 0 L0 0  Z\n",
       "  \" fill=\"#ffffff\" fill-rule=\"evenodd\" fill-opacity=\"1\"/>\n",
       "<defs>\n",
       "  <clipPath id=\"clip391\">\n",
       "    <rect x=\"480\" y=\"0\" width=\"1681\" height=\"1600\"/>\n",
       "  </clipPath>\n",
       "</defs>\n",
       "<path clip-path=\"url(#clip390)\" d=\"\n",
       "M257.69 1423.18 L2352.76 1423.18 L2352.76 123.472 L257.69 123.472  Z\n",
       "  \" fill=\"#ffffff\" fill-rule=\"evenodd\" fill-opacity=\"1\"/>\n",
       "<defs>\n",
       "  <clipPath id=\"clip392\">\n",
       "    <rect x=\"257\" y=\"123\" width=\"2096\" height=\"1301\"/>\n",
       "  </clipPath>\n",
       "</defs>\n",
       "<polyline clip-path=\"url(#clip392)\" style=\"stroke:#000000; stroke-linecap:butt; stroke-linejoin:round; stroke-width:2; stroke-opacity:0.1; fill:none\" points=\"\n",
       "  441.981,1423.18 441.981,123.472 \n",
       "  \"/>\n",
       "<polyline clip-path=\"url(#clip392)\" style=\"stroke:#000000; stroke-linecap:butt; stroke-linejoin:round; stroke-width:2; stroke-opacity:0.1; fill:none\" points=\"\n",
       "  849.332,1423.18 849.332,123.472 \n",
       "  \"/>\n",
       "<polyline clip-path=\"url(#clip392)\" style=\"stroke:#000000; stroke-linecap:butt; stroke-linejoin:round; stroke-width:2; stroke-opacity:0.1; fill:none\" points=\"\n",
       "  1256.68,1423.18 1256.68,123.472 \n",
       "  \"/>\n",
       "<polyline clip-path=\"url(#clip392)\" style=\"stroke:#000000; stroke-linecap:butt; stroke-linejoin:round; stroke-width:2; stroke-opacity:0.1; fill:none\" points=\"\n",
       "  1664.03,1423.18 1664.03,123.472 \n",
       "  \"/>\n",
       "<polyline clip-path=\"url(#clip392)\" style=\"stroke:#000000; stroke-linecap:butt; stroke-linejoin:round; stroke-width:2; stroke-opacity:0.1; fill:none\" points=\"\n",
       "  2071.38,1423.18 2071.38,123.472 \n",
       "  \"/>\n",
       "<polyline clip-path=\"url(#clip390)\" style=\"stroke:#000000; stroke-linecap:butt; stroke-linejoin:round; stroke-width:4; stroke-opacity:1; fill:none\" points=\"\n",
       "  257.69,1423.18 2352.76,1423.18 \n",
       "  \"/>\n",
       "<polyline clip-path=\"url(#clip390)\" style=\"stroke:#000000; stroke-linecap:butt; stroke-linejoin:round; stroke-width:4; stroke-opacity:1; fill:none\" points=\"\n",
       "  441.981,1423.18 441.981,1404.28 \n",
       "  \"/>\n",
       "<polyline clip-path=\"url(#clip390)\" style=\"stroke:#000000; stroke-linecap:butt; stroke-linejoin:round; stroke-width:4; stroke-opacity:1; fill:none\" points=\"\n",
       "  849.332,1423.18 849.332,1404.28 \n",
       "  \"/>\n",
       "<polyline clip-path=\"url(#clip390)\" style=\"stroke:#000000; stroke-linecap:butt; stroke-linejoin:round; stroke-width:4; stroke-opacity:1; fill:none\" points=\"\n",
       "  1256.68,1423.18 1256.68,1404.28 \n",
       "  \"/>\n",
       "<polyline clip-path=\"url(#clip390)\" style=\"stroke:#000000; stroke-linecap:butt; stroke-linejoin:round; stroke-width:4; stroke-opacity:1; fill:none\" points=\"\n",
       "  1664.03,1423.18 1664.03,1404.28 \n",
       "  \"/>\n",
       "<polyline clip-path=\"url(#clip390)\" style=\"stroke:#000000; stroke-linecap:butt; stroke-linejoin:round; stroke-width:4; stroke-opacity:1; fill:none\" points=\"\n",
       "  2071.38,1423.18 2071.38,1404.28 \n",
       "  \"/>\n",
       "<path clip-path=\"url(#clip390)\" d=\"M432.363 1481.64 L440.002 1481.64 L440.002 1455.28 L431.692 1456.95 L431.692 1452.69 L439.956 1451.02 L444.632 1451.02 L444.632 1481.64 L452.27 1481.64 L452.27 1485.58 L432.363 1485.58 L432.363 1481.64 Z\" fill=\"#000000\" fill-rule=\"evenodd\" fill-opacity=\"1\" /><path clip-path=\"url(#clip390)\" d=\"M843.984 1481.64 L860.304 1481.64 L860.304 1485.58 L838.359 1485.58 L838.359 1481.64 Q841.022 1478.89 845.605 1474.26 Q850.211 1469.61 851.392 1468.27 Q853.637 1465.74 854.517 1464.01 Q855.42 1462.25 855.42 1460.56 Q855.42 1457.8 853.475 1456.07 Q851.554 1454.33 848.452 1454.33 Q846.253 1454.33 843.799 1455.09 Q841.369 1455.86 838.591 1457.41 L838.591 1452.69 Q841.415 1451.55 843.869 1450.97 Q846.322 1450.39 848.359 1450.39 Q853.73 1450.39 856.924 1453.08 Q860.119 1455.77 860.119 1460.26 Q860.119 1462.39 859.308 1464.31 Q858.521 1466.2 856.415 1468.8 Q855.836 1469.47 852.734 1472.69 Q849.633 1475.88 843.984 1481.64 Z\" fill=\"#000000\" fill-rule=\"evenodd\" fill-opacity=\"1\" /><path clip-path=\"url(#clip390)\" d=\"M1260.93 1466.95 Q1264.29 1467.66 1266.16 1469.93 Q1268.06 1472.2 1268.06 1475.53 Q1268.06 1480.65 1264.54 1483.45 Q1261.02 1486.25 1254.54 1486.25 Q1252.37 1486.25 1250.05 1485.81 Q1247.76 1485.39 1245.3 1484.54 L1245.3 1480.02 Q1247.25 1481.16 1249.56 1481.74 Q1251.88 1482.32 1254.4 1482.32 Q1258.8 1482.32 1261.09 1480.58 Q1263.41 1478.84 1263.41 1475.53 Q1263.41 1472.48 1261.25 1470.77 Q1259.12 1469.03 1255.3 1469.03 L1251.28 1469.03 L1251.28 1465.19 L1255.49 1465.19 Q1258.94 1465.19 1260.77 1463.82 Q1262.6 1462.43 1262.6 1459.84 Q1262.6 1457.18 1260.7 1455.77 Q1258.82 1454.33 1255.3 1454.33 Q1253.38 1454.33 1251.18 1454.75 Q1248.99 1455.16 1246.35 1456.04 L1246.35 1451.88 Q1249.01 1451.14 1251.32 1450.77 Q1253.66 1450.39 1255.72 1450.39 Q1261.05 1450.39 1264.15 1452.83 Q1267.25 1455.23 1267.25 1459.35 Q1267.25 1462.22 1265.61 1464.21 Q1263.96 1466.18 1260.93 1466.95 Z\" fill=\"#000000\" fill-rule=\"evenodd\" fill-opacity=\"1\" /><path clip-path=\"url(#clip390)\" d=\"M1667.04 1455.09 L1655.24 1473.54 L1667.04 1473.54 L1667.04 1455.09 M1665.82 1451.02 L1671.69 1451.02 L1671.69 1473.54 L1676.63 1473.54 L1676.63 1477.43 L1671.69 1477.43 L1671.69 1485.58 L1667.04 1485.58 L1667.04 1477.43 L1651.44 1477.43 L1651.44 1472.92 L1665.82 1451.02 Z\" fill=\"#000000\" fill-rule=\"evenodd\" fill-opacity=\"1\" /><path clip-path=\"url(#clip390)\" d=\"M2061.66 1451.02 L2080.02 1451.02 L2080.02 1454.96 L2065.94 1454.96 L2065.94 1463.43 Q2066.96 1463.08 2067.98 1462.92 Q2069 1462.73 2070.02 1462.73 Q2075.8 1462.73 2079.18 1465.9 Q2082.56 1469.08 2082.56 1474.49 Q2082.56 1480.07 2079.09 1483.17 Q2075.62 1486.25 2069.3 1486.25 Q2067.12 1486.25 2064.86 1485.88 Q2062.61 1485.51 2060.2 1484.77 L2060.2 1480.07 Q2062.29 1481.2 2064.51 1481.76 Q2066.73 1482.32 2069.21 1482.32 Q2073.21 1482.32 2075.55 1480.21 Q2077.89 1478.1 2077.89 1474.49 Q2077.89 1470.88 2075.55 1468.77 Q2073.21 1466.67 2069.21 1466.67 Q2067.33 1466.67 2065.46 1467.08 Q2063.61 1467.5 2061.66 1468.38 L2061.66 1451.02 Z\" fill=\"#000000\" fill-rule=\"evenodd\" fill-opacity=\"1\" /><path clip-path=\"url(#clip390)\" d=\"M922.198 1520.52 L928.628 1520.52 L928.628 1562.63 L951.767 1562.63 L951.767 1568.04 L922.198 1568.04 L922.198 1520.52 Z\" fill=\"#000000\" fill-rule=\"evenodd\" fill-opacity=\"1\" /><path clip-path=\"url(#clip390)\" d=\"M970.928 1536.5 Q966.217 1536.5 963.48 1540.19 Q960.743 1543.85 960.743 1550.25 Q960.743 1556.65 963.448 1560.34 Q966.185 1564 970.928 1564 Q975.607 1564 978.344 1560.31 Q981.081 1556.62 981.081 1550.25 Q981.081 1543.92 978.344 1540.23 Q975.607 1536.5 970.928 1536.5 M970.928 1531.54 Q978.567 1531.54 982.927 1536.5 Q987.288 1541.47 987.288 1550.25 Q987.288 1559 982.927 1564 Q978.567 1568.97 970.928 1568.97 Q963.257 1568.97 958.897 1564 Q954.568 1559 954.568 1550.25 Q954.568 1541.47 958.897 1536.5 Q963.257 1531.54 970.928 1531.54 Z\" fill=\"#000000\" fill-rule=\"evenodd\" fill-opacity=\"1\" /><path clip-path=\"url(#clip390)\" d=\"M1020.45 1549.81 Q1020.45 1543.44 1017.81 1539.94 Q1015.2 1536.44 1010.46 1536.44 Q1005.75 1536.44 1003.11 1539.94 Q1000.5 1543.44 1000.5 1549.81 Q1000.5 1556.14 1003.11 1559.64 Q1005.75 1563.14 1010.46 1563.14 Q1015.2 1563.14 1017.81 1559.64 Q1020.45 1556.14 1020.45 1549.81 M1026.31 1563.62 Q1026.31 1572.72 1022.27 1577.15 Q1018.23 1581.6 1009.89 1581.6 Q1006.8 1581.6 1004.06 1581.13 Q1001.32 1580.68 998.746 1579.72 L998.746 1574.03 Q1001.32 1575.43 1003.84 1576.1 Q1006.35 1576.76 1008.96 1576.76 Q1014.72 1576.76 1017.59 1573.74 Q1020.45 1570.75 1020.45 1564.67 L1020.45 1561.77 Q1018.64 1564.92 1015.81 1566.48 Q1012.97 1568.04 1009.03 1568.04 Q1002.47 1568.04 998.46 1563.05 Q994.449 1558.05 994.449 1549.81 Q994.449 1541.53 998.46 1536.53 Q1002.47 1531.54 1009.03 1531.54 Q1012.97 1531.54 1015.81 1533.1 Q1018.64 1534.66 1020.45 1537.81 L1020.45 1532.4 L1026.31 1532.4 L1026.31 1563.62 Z\" fill=\"#000000\" fill-rule=\"evenodd\" fill-opacity=\"1\" /><path clip-path=\"url(#clip390)\" d=\"M1088.73 1546.53 L1088.73 1568.04 L1082.87 1568.04 L1082.87 1546.72 Q1082.87 1541.66 1080.9 1539.14 Q1078.92 1536.63 1074.98 1536.63 Q1070.23 1536.63 1067.5 1539.65 Q1064.76 1542.68 1064.76 1547.9 L1064.76 1568.04 L1058.87 1568.04 L1058.87 1532.4 L1064.76 1532.4 L1064.76 1537.93 Q1066.86 1534.72 1069.69 1533.13 Q1072.56 1531.54 1076.28 1531.54 Q1082.42 1531.54 1085.57 1535.36 Q1088.73 1539.14 1088.73 1546.53 Z\" fill=\"#000000\" fill-rule=\"evenodd\" fill-opacity=\"1\" /><path clip-path=\"url(#clip390)\" d=\"M1099.8 1553.98 L1099.8 1532.4 L1105.66 1532.4 L1105.66 1553.75 Q1105.66 1558.81 1107.63 1561.36 Q1109.6 1563.87 1113.55 1563.87 Q1118.29 1563.87 1121.03 1560.85 Q1123.8 1557.83 1123.8 1552.61 L1123.8 1532.4 L1129.66 1532.4 L1129.66 1568.04 L1123.8 1568.04 L1123.8 1562.57 Q1121.67 1565.82 1118.84 1567.41 Q1116.03 1568.97 1112.31 1568.97 Q1106.17 1568.97 1102.98 1565.15 Q1099.8 1561.33 1099.8 1553.98 M1114.54 1531.54 L1114.54 1531.54 Z\" fill=\"#000000\" fill-rule=\"evenodd\" fill-opacity=\"1\" /><path clip-path=\"url(#clip390)\" d=\"M1169.47 1539.24 Q1171.67 1535.29 1174.73 1533.41 Q1177.78 1531.54 1181.92 1531.54 Q1187.49 1531.54 1190.51 1535.45 Q1193.54 1539.33 1193.54 1546.53 L1193.54 1568.04 L1187.65 1568.04 L1187.65 1546.72 Q1187.65 1541.59 1185.83 1539.11 Q1184.02 1536.63 1180.3 1536.63 Q1175.74 1536.63 1173.1 1539.65 Q1170.46 1542.68 1170.46 1547.9 L1170.46 1568.04 L1164.57 1568.04 L1164.57 1546.72 Q1164.57 1541.56 1162.76 1539.11 Q1160.94 1536.63 1157.16 1536.63 Q1152.67 1536.63 1150.03 1539.68 Q1147.39 1542.71 1147.39 1547.9 L1147.39 1568.04 L1141.5 1568.04 L1141.5 1532.4 L1147.39 1532.4 L1147.39 1537.93 Q1149.39 1534.66 1152.19 1533.1 Q1154.99 1531.54 1158.84 1531.54 Q1162.73 1531.54 1165.43 1533.51 Q1168.17 1535.48 1169.47 1539.24 Z\" fill=\"#000000\" fill-rule=\"evenodd\" fill-opacity=\"1\" /><path clip-path=\"url(#clip390)\" d=\"M1230.81 1550.25 Q1230.81 1543.79 1228.13 1540.13 Q1225.49 1536.44 1220.85 1536.44 Q1216.2 1536.44 1213.53 1540.13 Q1210.88 1543.79 1210.88 1550.25 Q1210.88 1556.71 1213.53 1560.4 Q1216.2 1564.07 1220.85 1564.07 Q1225.49 1564.07 1228.13 1560.4 Q1230.81 1556.71 1230.81 1550.25 M1210.88 1537.81 Q1212.73 1534.62 1215.53 1533.1 Q1218.36 1531.54 1222.28 1531.54 Q1228.77 1531.54 1232.81 1536.69 Q1236.89 1541.85 1236.89 1550.25 Q1236.89 1558.65 1232.81 1563.81 Q1228.77 1568.97 1222.28 1568.97 Q1218.36 1568.97 1215.53 1567.44 Q1212.73 1565.88 1210.88 1562.7 L1210.88 1568.04 L1204.99 1568.04 L1204.99 1518.52 L1210.88 1518.52 L1210.88 1537.81 Z\" fill=\"#000000\" fill-rule=\"evenodd\" fill-opacity=\"1\" /><path clip-path=\"url(#clip390)\" d=\"M1277.09 1548.76 L1277.09 1551.62 L1250.16 1551.62 Q1250.54 1557.67 1253.79 1560.85 Q1257.07 1564 1262.89 1564 Q1266.26 1564 1269.42 1563.17 Q1272.6 1562.35 1275.72 1560.69 L1275.72 1566.23 Q1272.57 1567.57 1269.26 1568.27 Q1265.95 1568.97 1262.54 1568.97 Q1254.01 1568.97 1249.01 1564 Q1244.05 1559.04 1244.05 1550.57 Q1244.05 1541.82 1248.76 1536.69 Q1253.5 1531.54 1261.52 1531.54 Q1268.72 1531.54 1272.89 1536.18 Q1277.09 1540.8 1277.09 1548.76 M1271.23 1547.04 Q1271.17 1542.23 1268.52 1539.37 Q1265.91 1536.5 1261.59 1536.5 Q1256.68 1536.5 1253.72 1539.27 Q1250.8 1542.04 1250.35 1547.07 L1271.23 1547.04 Z\" fill=\"#000000\" fill-rule=\"evenodd\" fill-opacity=\"1\" /><path clip-path=\"url(#clip390)\" d=\"M1307.36 1537.87 Q1306.37 1537.3 1305.19 1537.04 Q1304.05 1536.76 1302.64 1536.76 Q1297.68 1536.76 1295.01 1540 Q1292.36 1543.22 1292.36 1549.27 L1292.36 1568.04 L1286.48 1568.04 L1286.48 1532.4 L1292.36 1532.4 L1292.36 1537.93 Q1294.21 1534.69 1297.17 1533.13 Q1300.13 1531.54 1304.36 1531.54 Q1304.97 1531.54 1305.7 1531.63 Q1306.43 1531.7 1307.32 1531.85 L1307.36 1537.87 Z\" fill=\"#000000\" fill-rule=\"evenodd\" fill-opacity=\"1\" /><path clip-path=\"url(#clip390)\" d=\"M1348.03 1536.5 Q1343.32 1536.5 1340.58 1540.19 Q1337.85 1543.85 1337.85 1550.25 Q1337.85 1556.65 1340.55 1560.34 Q1343.29 1564 1348.03 1564 Q1352.71 1564 1355.45 1560.31 Q1358.19 1556.62 1358.19 1550.25 Q1358.19 1543.92 1355.45 1540.23 Q1352.71 1536.5 1348.03 1536.5 M1348.03 1531.54 Q1355.67 1531.54 1360.03 1536.5 Q1364.39 1541.47 1364.39 1550.25 Q1364.39 1559 1360.03 1564 Q1355.67 1568.97 1348.03 1568.97 Q1340.36 1568.97 1336 1564 Q1331.67 1559 1331.67 1550.25 Q1331.67 1541.47 1336 1536.5 Q1340.36 1531.54 1348.03 1531.54 Z\" fill=\"#000000\" fill-rule=\"evenodd\" fill-opacity=\"1\" /><path clip-path=\"url(#clip390)\" d=\"M1392.15 1518.52 L1392.15 1523.39 L1386.54 1523.39 Q1383.39 1523.39 1382.15 1524.66 Q1380.94 1525.93 1380.94 1529.24 L1380.94 1532.4 L1390.59 1532.4 L1390.59 1536.95 L1380.94 1536.95 L1380.94 1568.04 L1375.05 1568.04 L1375.05 1536.95 L1369.45 1536.95 L1369.45 1532.4 L1375.05 1532.4 L1375.05 1529.91 Q1375.05 1523.96 1377.82 1521.26 Q1380.59 1518.52 1386.61 1518.52 L1392.15 1518.52 Z\" fill=\"#000000\" fill-rule=\"evenodd\" fill-opacity=\"1\" /><path clip-path=\"url(#clip390)\" d=\"M1423.43 1562.7 L1423.43 1581.6 L1417.55 1581.6 L1417.55 1532.4 L1423.43 1532.4 L1423.43 1537.81 Q1425.28 1534.62 1428.08 1533.1 Q1430.91 1531.54 1434.83 1531.54 Q1441.32 1531.54 1445.36 1536.69 Q1449.44 1541.85 1449.44 1550.25 Q1449.44 1558.65 1445.36 1563.81 Q1441.32 1568.97 1434.83 1568.97 Q1430.91 1568.97 1428.08 1567.44 Q1425.28 1565.88 1423.43 1562.7 M1443.36 1550.25 Q1443.36 1543.79 1440.69 1540.13 Q1438.04 1536.44 1433.4 1536.44 Q1428.75 1536.44 1426.08 1540.13 Q1423.43 1543.79 1423.43 1550.25 Q1423.43 1556.71 1426.08 1560.4 Q1428.75 1564.07 1433.4 1564.07 Q1438.04 1564.07 1440.69 1560.4 Q1443.36 1556.71 1443.36 1550.25 Z\" fill=\"#000000\" fill-rule=\"evenodd\" fill-opacity=\"1\" /><path clip-path=\"url(#clip390)\" d=\"M1475.35 1550.12 Q1468.25 1550.12 1465.51 1551.75 Q1462.77 1553.37 1462.77 1557.29 Q1462.77 1560.4 1464.81 1562.25 Q1466.88 1564.07 1470.41 1564.07 Q1475.28 1564.07 1478.21 1560.63 Q1481.17 1557.16 1481.17 1551.43 L1481.17 1550.12 L1475.35 1550.12 M1487.03 1547.71 L1487.03 1568.04 L1481.17 1568.04 L1481.17 1562.63 Q1479.17 1565.88 1476.17 1567.44 Q1473.18 1568.97 1468.85 1568.97 Q1463.38 1568.97 1460.13 1565.91 Q1456.92 1562.82 1456.92 1557.67 Q1456.92 1551.65 1460.93 1548.6 Q1464.97 1545.54 1472.96 1545.54 L1481.17 1545.54 L1481.17 1544.97 Q1481.17 1540.93 1478.5 1538.73 Q1475.86 1536.5 1471.05 1536.5 Q1467.99 1536.5 1465.1 1537.23 Q1462.2 1537.97 1459.53 1539.43 L1459.53 1534.02 Q1462.74 1532.78 1465.77 1532.17 Q1468.79 1531.54 1471.65 1531.54 Q1479.39 1531.54 1483.21 1535.55 Q1487.03 1539.56 1487.03 1547.71 Z\" fill=\"#000000\" fill-rule=\"evenodd\" fill-opacity=\"1\" /><path clip-path=\"url(#clip390)\" d=\"M1519.75 1537.87 Q1518.76 1537.3 1517.58 1537.04 Q1516.44 1536.76 1515.04 1536.76 Q1510.07 1536.76 1507.4 1540 Q1504.76 1543.22 1504.76 1549.27 L1504.76 1568.04 L1498.87 1568.04 L1498.87 1532.4 L1504.76 1532.4 L1504.76 1537.93 Q1506.6 1534.69 1509.56 1533.13 Q1512.52 1531.54 1516.76 1531.54 Q1517.36 1531.54 1518.09 1531.63 Q1518.82 1531.7 1519.72 1531.85 L1519.75 1537.87 Z\" fill=\"#000000\" fill-rule=\"evenodd\" fill-opacity=\"1\" /><path clip-path=\"url(#clip390)\" d=\"M1531.68 1522.27 L1531.68 1532.4 L1543.75 1532.4 L1543.75 1536.95 L1531.68 1536.95 L1531.68 1556.3 Q1531.68 1560.66 1532.86 1561.9 Q1534.07 1563.14 1537.73 1563.14 L1543.75 1563.14 L1543.75 1568.04 L1537.73 1568.04 Q1530.95 1568.04 1528.37 1565.53 Q1525.79 1562.98 1525.79 1556.3 L1525.79 1536.95 L1521.5 1536.95 L1521.5 1532.4 L1525.79 1532.4 L1525.79 1522.27 L1531.68 1522.27 Z\" fill=\"#000000\" fill-rule=\"evenodd\" fill-opacity=\"1\" /><path clip-path=\"url(#clip390)\" d=\"M1551.45 1532.4 L1557.31 1532.4 L1557.31 1568.04 L1551.45 1568.04 L1551.45 1532.4 M1551.45 1518.52 L1557.31 1518.52 L1557.31 1525.93 L1551.45 1525.93 L1551.45 1518.52 Z\" fill=\"#000000\" fill-rule=\"evenodd\" fill-opacity=\"1\" /><path clip-path=\"url(#clip390)\" d=\"M1595.21 1533.76 L1595.21 1539.24 Q1592.73 1537.87 1590.22 1537.2 Q1587.73 1536.5 1585.19 1536.5 Q1579.49 1536.5 1576.34 1540.13 Q1573.19 1543.73 1573.19 1550.25 Q1573.19 1556.78 1576.34 1560.4 Q1579.49 1564 1585.19 1564 Q1587.73 1564 1590.22 1563.33 Q1592.73 1562.63 1595.21 1561.26 L1595.21 1566.68 Q1592.76 1567.82 1590.12 1568.39 Q1587.51 1568.97 1584.55 1568.97 Q1576.5 1568.97 1571.76 1563.91 Q1567.01 1558.85 1567.01 1550.25 Q1567.01 1541.53 1571.79 1536.53 Q1576.59 1531.54 1584.93 1531.54 Q1587.64 1531.54 1590.22 1532.11 Q1592.79 1532.65 1595.21 1533.76 Z\" fill=\"#000000\" fill-rule=\"evenodd\" fill-opacity=\"1\" /><path clip-path=\"url(#clip390)\" d=\"M1605.4 1518.52 L1611.25 1518.52 L1611.25 1568.04 L1605.4 1568.04 L1605.4 1518.52 Z\" fill=\"#000000\" fill-rule=\"evenodd\" fill-opacity=\"1\" /><path clip-path=\"url(#clip390)\" d=\"M1654 1548.76 L1654 1551.62 L1627.07 1551.62 Q1627.46 1557.67 1630.7 1560.85 Q1633.98 1564 1639.8 1564 Q1643.18 1564 1646.33 1563.17 Q1649.51 1562.35 1652.63 1560.69 L1652.63 1566.23 Q1649.48 1567.57 1646.17 1568.27 Q1642.86 1568.97 1639.45 1568.97 Q1630.92 1568.97 1625.93 1564 Q1620.96 1559.04 1620.96 1550.57 Q1620.96 1541.82 1625.67 1536.69 Q1630.42 1531.54 1638.44 1531.54 Q1645.63 1531.54 1649.8 1536.18 Q1654 1540.8 1654 1548.76 M1648.14 1547.04 Q1648.08 1542.23 1645.44 1539.37 Q1642.83 1536.5 1638.5 1536.5 Q1633.6 1536.5 1630.64 1539.27 Q1627.71 1542.04 1627.26 1547.07 L1648.14 1547.04 Z\" fill=\"#000000\" fill-rule=\"evenodd\" fill-opacity=\"1\" /><path clip-path=\"url(#clip390)\" d=\"M1686.34 1533.45 L1686.34 1538.98 Q1683.86 1537.71 1681.18 1537.07 Q1678.51 1536.44 1675.64 1536.44 Q1671.28 1536.44 1669.09 1537.77 Q1666.92 1539.11 1666.92 1541.79 Q1666.92 1543.82 1668.48 1545 Q1670.04 1546.15 1674.75 1547.2 L1676.76 1547.64 Q1683 1548.98 1685.61 1551.43 Q1688.25 1553.85 1688.25 1558.21 Q1688.25 1563.17 1684.3 1566.07 Q1680.39 1568.97 1673.51 1568.97 Q1670.65 1568.97 1667.53 1568.39 Q1664.44 1567.85 1661 1566.74 L1661 1560.69 Q1664.25 1562.38 1667.4 1563.24 Q1670.55 1564.07 1673.64 1564.07 Q1677.78 1564.07 1680 1562.66 Q1682.23 1561.23 1682.23 1558.65 Q1682.23 1556.27 1680.61 1554.99 Q1679.02 1553.72 1673.57 1552.54 L1671.54 1552.07 Q1666.09 1550.92 1663.68 1548.56 Q1661.26 1546.18 1661.26 1542.04 Q1661.26 1537.01 1664.82 1534.27 Q1668.39 1531.54 1674.94 1531.54 Q1678.19 1531.54 1681.05 1532.01 Q1683.92 1532.49 1686.34 1533.45 Z\" fill=\"#000000\" fill-rule=\"evenodd\" fill-opacity=\"1\" /><polyline clip-path=\"url(#clip392)\" style=\"stroke:#000000; stroke-linecap:butt; stroke-linejoin:round; stroke-width:2; stroke-opacity:0.1; fill:none\" points=\"\n",
       "  257.69,1177.81 2352.76,1177.81 \n",
       "  \"/>\n",
       "<polyline clip-path=\"url(#clip392)\" style=\"stroke:#000000; stroke-linecap:butt; stroke-linejoin:round; stroke-width:2; stroke-opacity:0.1; fill:none\" points=\"\n",
       "  257.69,866.293 2352.76,866.293 \n",
       "  \"/>\n",
       "<polyline clip-path=\"url(#clip392)\" style=\"stroke:#000000; stroke-linecap:butt; stroke-linejoin:round; stroke-width:2; stroke-opacity:0.1; fill:none\" points=\"\n",
       "  257.69,554.777 2352.76,554.777 \n",
       "  \"/>\n",
       "<polyline clip-path=\"url(#clip392)\" style=\"stroke:#000000; stroke-linecap:butt; stroke-linejoin:round; stroke-width:2; stroke-opacity:0.1; fill:none\" points=\"\n",
       "  257.69,243.261 2352.76,243.261 \n",
       "  \"/>\n",
       "<polyline clip-path=\"url(#clip390)\" style=\"stroke:#000000; stroke-linecap:butt; stroke-linejoin:round; stroke-width:4; stroke-opacity:1; fill:none\" points=\"\n",
       "  257.69,1423.18 257.69,123.472 \n",
       "  \"/>\n",
       "<polyline clip-path=\"url(#clip390)\" style=\"stroke:#000000; stroke-linecap:butt; stroke-linejoin:round; stroke-width:4; stroke-opacity:1; fill:none\" points=\"\n",
       "  257.69,1177.81 276.588,1177.81 \n",
       "  \"/>\n",
       "<polyline clip-path=\"url(#clip390)\" style=\"stroke:#000000; stroke-linecap:butt; stroke-linejoin:round; stroke-width:4; stroke-opacity:1; fill:none\" points=\"\n",
       "  257.69,866.293 276.588,866.293 \n",
       "  \"/>\n",
       "<polyline clip-path=\"url(#clip390)\" style=\"stroke:#000000; stroke-linecap:butt; stroke-linejoin:round; stroke-width:4; stroke-opacity:1; fill:none\" points=\"\n",
       "  257.69,554.777 276.588,554.777 \n",
       "  \"/>\n",
       "<polyline clip-path=\"url(#clip390)\" style=\"stroke:#000000; stroke-linecap:butt; stroke-linejoin:round; stroke-width:4; stroke-opacity:1; fill:none\" points=\"\n",
       "  257.69,243.261 276.588,243.261 \n",
       "  \"/>\n",
       "<path clip-path=\"url(#clip390)\" d=\"M114.746 1178.26 L144.422 1178.26 L144.422 1182.2 L114.746 1182.2 L114.746 1178.26 Z\" fill=\"#000000\" fill-rule=\"evenodd\" fill-opacity=\"1\" /><path clip-path=\"url(#clip390)\" d=\"M167.362 1164.6 L155.556 1183.05 L167.362 1183.05 L167.362 1164.6 M166.135 1160.53 L172.014 1160.53 L172.014 1183.05 L176.945 1183.05 L176.945 1186.94 L172.014 1186.94 L172.014 1195.09 L167.362 1195.09 L167.362 1186.94 L151.76 1186.94 L151.76 1182.43 L166.135 1160.53 Z\" fill=\"#000000\" fill-rule=\"evenodd\" fill-opacity=\"1\" /><path clip-path=\"url(#clip390)\" d=\"M184.676 1189.21 L189.561 1189.21 L189.561 1195.09 L184.676 1195.09 L184.676 1189.21 Z\" fill=\"#000000\" fill-rule=\"evenodd\" fill-opacity=\"1\" /><path clip-path=\"url(#clip390)\" d=\"M209.746 1163.61 Q206.135 1163.61 204.306 1167.17 Q202.5 1170.71 202.5 1177.84 Q202.5 1184.95 204.306 1188.51 Q206.135 1192.06 209.746 1192.06 Q213.38 1192.06 215.186 1188.51 Q217.014 1184.95 217.014 1177.84 Q217.014 1170.71 215.186 1167.17 Q213.38 1163.61 209.746 1163.61 M209.746 1159.9 Q215.556 1159.9 218.611 1164.51 Q221.69 1169.09 221.69 1177.84 Q221.69 1186.57 218.611 1191.18 Q215.556 1195.76 209.746 1195.76 Q203.936 1195.76 200.857 1191.18 Q197.801 1186.57 197.801 1177.84 Q197.801 1169.09 200.857 1164.51 Q203.936 1159.9 209.746 1159.9 Z\" fill=\"#000000\" fill-rule=\"evenodd\" fill-opacity=\"1\" /><path clip-path=\"url(#clip390)\" d=\"M114.839 866.744 L144.515 866.744 L144.515 870.679 L114.839 870.679 L114.839 866.744 Z\" fill=\"#000000\" fill-rule=\"evenodd\" fill-opacity=\"1\" /><path clip-path=\"url(#clip390)\" d=\"M168.774 864.939 Q172.13 865.656 174.005 867.925 Q175.903 870.193 175.903 873.527 Q175.903 878.642 172.385 881.443 Q168.866 884.244 162.385 884.244 Q160.209 884.244 157.894 883.804 Q155.603 883.388 153.149 882.531 L153.149 878.017 Q155.093 879.152 157.408 879.73 Q159.723 880.309 162.246 880.309 Q166.644 880.309 168.936 878.573 Q171.251 876.837 171.251 873.527 Q171.251 870.471 169.098 868.758 Q166.968 867.022 163.149 867.022 L159.121 867.022 L159.121 863.179 L163.334 863.179 Q166.783 863.179 168.612 861.814 Q170.44 860.425 170.44 857.832 Q170.44 855.17 168.542 853.758 Q166.667 852.323 163.149 852.323 Q161.227 852.323 159.028 852.74 Q156.829 853.156 154.19 854.036 L154.19 849.869 Q156.853 849.129 159.167 848.758 Q161.505 848.388 163.565 848.388 Q168.889 848.388 171.991 850.818 Q175.093 853.226 175.093 857.346 Q175.093 860.216 173.45 862.207 Q171.806 864.175 168.774 864.939 Z\" fill=\"#000000\" fill-rule=\"evenodd\" fill-opacity=\"1\" /><path clip-path=\"url(#clip390)\" d=\"M184.769 877.693 L189.653 877.693 L189.653 883.573 L184.769 883.573 L184.769 877.693 Z\" fill=\"#000000\" fill-rule=\"evenodd\" fill-opacity=\"1\" /><path clip-path=\"url(#clip390)\" d=\"M209.838 867.161 Q206.505 867.161 204.584 868.943 Q202.686 870.726 202.686 873.851 Q202.686 876.976 204.584 878.758 Q206.505 880.54 209.838 880.54 Q213.172 880.54 215.093 878.758 Q217.014 876.952 217.014 873.851 Q217.014 870.726 215.093 868.943 Q213.195 867.161 209.838 867.161 M205.162 865.17 Q202.153 864.429 200.463 862.369 Q198.797 860.309 198.797 857.346 Q198.797 853.203 201.737 850.795 Q204.699 848.388 209.838 848.388 Q215 848.388 217.94 850.795 Q220.88 853.203 220.88 857.346 Q220.88 860.309 219.19 862.369 Q217.523 864.429 214.537 865.17 Q217.917 865.957 219.792 868.249 Q221.69 870.54 221.69 873.851 Q221.69 878.874 218.611 881.559 Q215.556 884.244 209.838 884.244 Q204.121 884.244 201.042 881.559 Q197.987 878.874 197.987 873.851 Q197.987 870.54 199.885 868.249 Q201.783 865.957 205.162 865.17 M203.449 857.786 Q203.449 860.471 205.116 861.976 Q206.806 863.48 209.838 863.48 Q212.848 863.48 214.537 861.976 Q216.25 860.471 216.25 857.786 Q216.25 855.101 214.537 853.596 Q212.848 852.092 209.838 852.092 Q206.806 852.092 205.116 853.596 Q203.449 855.101 203.449 857.786 Z\" fill=\"#000000\" fill-rule=\"evenodd\" fill-opacity=\"1\" /><path clip-path=\"url(#clip390)\" d=\"M114.584 555.228 L144.26 555.228 L144.26 559.163 L114.584 559.163 L114.584 555.228 Z\" fill=\"#000000\" fill-rule=\"evenodd\" fill-opacity=\"1\" /><path clip-path=\"url(#clip390)\" d=\"M168.519 553.423 Q171.876 554.14 173.751 556.409 Q175.649 558.677 175.649 562.011 Q175.649 567.126 172.13 569.927 Q168.612 572.728 162.13 572.728 Q159.954 572.728 157.64 572.288 Q155.348 571.872 152.894 571.015 L152.894 566.501 Q154.839 567.636 157.153 568.214 Q159.468 568.793 161.991 568.793 Q166.39 568.793 168.681 567.057 Q170.996 565.321 170.996 562.011 Q170.996 558.955 168.843 557.242 Q166.714 555.506 162.894 555.506 L158.866 555.506 L158.866 551.663 L163.079 551.663 Q166.528 551.663 168.357 550.298 Q170.186 548.909 170.186 546.316 Q170.186 543.654 168.288 542.242 Q166.413 540.807 162.894 540.807 Q160.973 540.807 158.774 541.224 Q156.575 541.64 153.936 542.52 L153.936 538.353 Q156.598 537.613 158.913 537.242 Q161.251 536.872 163.311 536.872 Q168.635 536.872 171.737 539.302 Q174.839 541.71 174.839 545.83 Q174.839 548.701 173.195 550.691 Q171.552 552.659 168.519 553.423 Z\" fill=\"#000000\" fill-rule=\"evenodd\" fill-opacity=\"1\" /><path clip-path=\"url(#clip390)\" d=\"M184.514 566.177 L189.399 566.177 L189.399 572.057 L184.514 572.057 L184.514 566.177 Z\" fill=\"#000000\" fill-rule=\"evenodd\" fill-opacity=\"1\" /><path clip-path=\"url(#clip390)\" d=\"M210.162 552.913 Q207.014 552.913 205.162 555.066 Q203.334 557.219 203.334 560.969 Q203.334 564.696 205.162 566.872 Q207.014 569.025 210.162 569.025 Q213.311 569.025 215.139 566.872 Q216.991 564.696 216.991 560.969 Q216.991 557.219 215.139 555.066 Q213.311 552.913 210.162 552.913 M219.445 538.261 L219.445 542.52 Q217.686 541.687 215.88 541.247 Q214.098 540.807 212.338 540.807 Q207.709 540.807 205.255 543.932 Q202.824 547.057 202.477 553.376 Q203.843 551.363 205.903 550.298 Q207.963 549.21 210.44 549.21 Q215.649 549.21 218.658 552.381 Q221.69 555.529 221.69 560.969 Q221.69 566.293 218.542 569.511 Q215.394 572.728 210.162 572.728 Q204.167 572.728 200.996 568.145 Q197.825 563.538 197.825 554.812 Q197.825 546.617 201.713 541.756 Q205.602 536.872 212.153 536.872 Q213.912 536.872 215.695 537.219 Q217.5 537.566 219.445 538.261 Z\" fill=\"#000000\" fill-rule=\"evenodd\" fill-opacity=\"1\" /><path clip-path=\"url(#clip390)\" d=\"M114.26 243.712 L143.936 243.712 L143.936 247.648 L114.26 247.648 L114.26 243.712 Z\" fill=\"#000000\" fill-rule=\"evenodd\" fill-opacity=\"1\" /><path clip-path=\"url(#clip390)\" d=\"M168.195 241.907 Q171.552 242.624 173.427 244.893 Q175.325 247.161 175.325 250.495 Q175.325 255.61 171.806 258.411 Q168.288 261.212 161.806 261.212 Q159.63 261.212 157.315 260.772 Q155.024 260.356 152.57 259.499 L152.57 254.985 Q154.515 256.12 156.829 256.698 Q159.144 257.277 161.667 257.277 Q166.065 257.277 168.357 255.541 Q170.672 253.805 170.672 250.495 Q170.672 247.439 168.519 245.726 Q166.39 243.99 162.57 243.99 L158.542 243.99 L158.542 240.148 L162.755 240.148 Q166.204 240.148 168.033 238.782 Q169.862 237.393 169.862 234.8 Q169.862 232.138 167.964 230.726 Q166.089 229.291 162.57 229.291 Q160.649 229.291 158.45 229.708 Q156.251 230.124 153.612 231.004 L153.612 226.837 Q156.274 226.097 158.589 225.726 Q160.927 225.356 162.987 225.356 Q168.311 225.356 171.413 227.787 Q174.514 230.194 174.514 234.314 Q174.514 237.185 172.871 239.175 Q171.227 241.143 168.195 241.907 Z\" fill=\"#000000\" fill-rule=\"evenodd\" fill-opacity=\"1\" /><path clip-path=\"url(#clip390)\" d=\"M184.19 254.661 L189.075 254.661 L189.075 260.541 L184.19 260.541 L184.19 254.661 Z\" fill=\"#000000\" fill-rule=\"evenodd\" fill-opacity=\"1\" /><path clip-path=\"url(#clip390)\" d=\"M212.107 230.055 L200.301 248.504 L212.107 248.504 L212.107 230.055 M210.88 225.981 L216.76 225.981 L216.76 248.504 L221.69 248.504 L221.69 252.393 L216.76 252.393 L216.76 260.541 L212.107 260.541 L212.107 252.393 L196.505 252.393 L196.505 247.879 L210.88 225.981 Z\" fill=\"#000000\" fill-rule=\"evenodd\" fill-opacity=\"1\" /><path clip-path=\"url(#clip390)\" d=\"M16.4842 917.605 L16.4842 911.175 L58.5933 911.175 L58.5933 888.036 L64.0042 888.036 L64.0042 917.605 L16.4842 917.605 Z\" fill=\"#000000\" fill-rule=\"evenodd\" fill-opacity=\"1\" /><path clip-path=\"url(#clip390)\" d=\"M32.4621 868.875 Q32.4621 873.586 36.1542 876.323 Q39.8145 879.06 46.212 879.06 Q52.6095 879.06 56.3017 876.355 Q59.9619 873.618 59.9619 868.875 Q59.9619 864.196 56.2698 861.459 Q52.5777 858.722 46.212 858.722 Q39.8781 858.722 36.186 861.459 Q32.4621 864.196 32.4621 868.875 M27.4968 868.875 Q27.4968 861.236 32.4621 856.876 Q37.4273 852.515 46.212 852.515 Q54.9649 852.515 59.9619 856.876 Q64.9272 861.236 64.9272 868.875 Q64.9272 876.546 59.9619 880.906 Q54.9649 885.235 46.212 885.235 Q37.4273 885.235 32.4621 880.906 Q27.4968 876.546 27.4968 868.875 Z\" fill=\"#000000\" fill-rule=\"evenodd\" fill-opacity=\"1\" /><path clip-path=\"url(#clip390)\" d=\"M45.7664 819.35 Q39.4007 819.35 35.8996 821.992 Q32.3984 824.602 32.3984 829.344 Q32.3984 834.055 35.8996 836.697 Q39.4007 839.307 45.7664 839.307 Q52.1003 839.307 55.6014 836.697 Q59.1026 834.055 59.1026 829.344 Q59.1026 824.602 55.6014 821.992 Q52.1003 819.35 45.7664 819.35 M59.58 813.494 Q68.683 813.494 73.1071 817.536 Q77.5631 821.578 77.5631 829.917 Q77.5631 833.004 77.0857 835.742 Q76.6401 838.479 75.6852 841.057 L69.9879 841.057 Q71.3884 838.479 72.0568 835.965 Q72.7252 833.45 72.7252 830.84 Q72.7252 825.079 69.7015 822.215 Q66.7096 819.35 60.6303 819.35 L57.7339 819.35 Q60.885 821.164 62.4446 823.997 Q64.0042 826.83 64.0042 830.776 Q64.0042 837.333 59.0071 841.344 Q54.01 845.354 45.7664 845.354 Q37.491 845.354 32.4939 841.344 Q27.4968 837.333 27.4968 830.776 Q27.4968 826.83 29.0564 823.997 Q30.616 821.164 33.7671 819.35 L28.3562 819.35 L28.3562 813.494 L59.58 813.494 Z\" fill=\"#000000\" fill-rule=\"evenodd\" fill-opacity=\"1\" /><path clip-path=\"url(#clip390)\" d=\"M44.7161 750.218 L47.5806 750.218 L47.5806 777.145 Q53.6281 776.763 56.8109 773.517 Q59.9619 770.239 59.9619 764.414 Q59.9619 761.04 59.1344 757.889 Q58.3069 754.706 56.6518 751.587 L62.1899 751.587 Q63.5267 754.738 64.227 758.048 Q64.9272 761.358 64.9272 764.764 Q64.9272 773.294 59.9619 778.291 Q54.9967 783.256 46.5303 783.256 Q37.7774 783.256 32.6531 778.546 Q27.4968 773.803 27.4968 765.783 Q27.4968 758.589 32.1438 754.42 Q36.7589 750.218 44.7161 750.218 M42.9973 756.075 Q38.1912 756.139 35.3266 758.78 Q32.4621 761.39 32.4621 765.719 Q32.4621 770.621 35.2312 773.581 Q38.0002 776.509 43.0292 776.954 L42.9973 756.075 Z\" fill=\"#000000\" fill-rule=\"evenodd\" fill-opacity=\"1\" /><path clip-path=\"url(#clip390)\" d=\"M33.8307 719.95 Q33.2578 720.936 33.0032 722.114 Q32.7167 723.26 32.7167 724.66 Q32.7167 729.625 35.9632 732.299 Q39.1779 734.941 45.2253 734.941 L64.0042 734.941 L64.0042 740.829 L28.3562 740.829 L28.3562 734.941 L33.8944 734.941 Q30.6479 733.095 29.0883 730.135 Q27.4968 727.175 27.4968 722.941 Q27.4968 722.337 27.5923 721.605 Q27.656 720.873 27.8151 719.981 L33.8307 719.95 Z\" fill=\"#000000\" fill-rule=\"evenodd\" fill-opacity=\"1\" /><path clip-path=\"url(#clip390)\" d=\"M33.8307 694.296 Q33.2578 695.282 33.0032 696.46 Q32.7167 697.606 32.7167 699.006 Q32.7167 703.972 35.9632 706.645 Q39.1779 709.287 45.2253 709.287 L64.0042 709.287 L64.0042 715.175 L28.3562 715.175 L28.3562 709.287 L33.8944 709.287 Q30.6479 707.441 29.0883 704.481 Q27.4968 701.521 27.4968 697.288 Q27.4968 696.683 27.5923 695.951 Q27.656 695.219 27.8151 694.328 L33.8307 694.296 Z\" fill=\"#000000\" fill-rule=\"evenodd\" fill-opacity=\"1\" /><path clip-path=\"url(#clip390)\" d=\"M32.4621 675.772 Q32.4621 680.482 36.1542 683.219 Q39.8145 685.957 46.212 685.957 Q52.6095 685.957 56.3017 683.251 Q59.9619 680.514 59.9619 675.772 Q59.9619 671.093 56.2698 668.355 Q52.5777 665.618 46.212 665.618 Q39.8781 665.618 36.186 668.355 Q32.4621 671.093 32.4621 675.772 M27.4968 675.772 Q27.4968 668.133 32.4621 663.772 Q37.4273 659.412 46.212 659.412 Q54.9649 659.412 59.9619 663.772 Q64.9272 668.133 64.9272 675.772 Q64.9272 683.442 59.9619 687.803 Q54.9649 692.131 46.212 692.131 Q37.4273 692.131 32.4621 687.803 Q27.4968 683.442 27.4968 675.772 Z\" fill=\"#000000\" fill-rule=\"evenodd\" fill-opacity=\"1\" /><path clip-path=\"url(#clip390)\" d=\"M33.8307 629.047 Q33.2578 630.034 33.0032 631.212 Q32.7167 632.357 32.7167 633.758 Q32.7167 638.723 35.9632 641.397 Q39.1779 644.038 45.2253 644.038 L64.0042 644.038 L64.0042 649.927 L28.3562 649.927 L28.3562 644.038 L33.8944 644.038 Q30.6479 642.192 29.0883 639.232 Q27.4968 636.272 27.4968 632.039 Q27.4968 631.434 27.5923 630.702 Q27.656 629.97 27.8151 629.079 L33.8307 629.047 Z\" fill=\"#000000\" fill-rule=\"evenodd\" fill-opacity=\"1\" /><path clip-path=\"url(#clip390)\" d=\"M875.766 12.096 L914.007 12.096 L914.007 18.9825 L883.949 18.9825 L883.949 36.8875 L912.751 36.8875 L912.751 43.7741 L883.949 43.7741 L883.949 65.6895 L914.736 65.6895 L914.736 72.576 L875.766 72.576 L875.766 12.096 Z\" fill=\"#000000\" fill-rule=\"evenodd\" fill-opacity=\"1\" /><path clip-path=\"url(#clip390)\" d=\"M954.151 34.1734 Q952.896 33.4443 951.397 33.1202 Q949.938 32.7556 948.156 32.7556 Q941.837 32.7556 938.434 36.8875 Q935.072 40.9789 935.072 48.6757 L935.072 72.576 L927.577 72.576 L927.577 27.2059 L935.072 27.2059 L935.072 34.2544 Q937.421 30.1225 941.189 28.1376 Q944.956 26.1121 950.344 26.1121 Q951.113 26.1121 952.045 26.2337 Q952.977 26.3147 954.111 26.5172 L954.151 34.1734 Z\" fill=\"#000000\" fill-rule=\"evenodd\" fill-opacity=\"1\" /><path clip-path=\"url(#clip390)\" d=\"M986.802 34.1734 Q985.546 33.4443 984.047 33.1202 Q982.589 32.7556 980.806 32.7556 Q974.487 32.7556 971.084 36.8875 Q967.722 40.9789 967.722 48.6757 L967.722 72.576 L960.228 72.576 L960.228 27.2059 L967.722 27.2059 L967.722 34.2544 Q970.071 30.1225 973.839 28.1376 Q977.606 26.1121 982.994 26.1121 Q983.764 26.1121 984.695 26.2337 Q985.627 26.3147 986.761 26.5172 L986.802 34.1734 Z\" fill=\"#000000\" fill-rule=\"evenodd\" fill-opacity=\"1\" /><path clip-path=\"url(#clip390)\" d=\"M1010.38 32.4315 Q1004.38 32.4315 1000.9 37.1306 Q997.415 41.7891 997.415 49.9314 Q997.415 58.0738 1000.86 62.7728 Q1004.34 67.4314 1010.38 67.4314 Q1016.33 67.4314 1019.82 62.7323 Q1023.3 58.0333 1023.3 49.9314 Q1023.3 41.8701 1019.82 37.1711 Q1016.33 32.4315 1010.38 32.4315 M1010.38 26.1121 Q1020.1 26.1121 1025.65 32.4315 Q1031.2 38.7509 1031.2 49.9314 Q1031.2 61.0714 1025.65 67.4314 Q1020.1 73.7508 1010.38 73.7508 Q1000.62 73.7508 995.066 67.4314 Q989.556 61.0714 989.556 49.9314 Q989.556 38.7509 995.066 32.4315 Q1000.62 26.1121 1010.38 26.1121 Z\" fill=\"#000000\" fill-rule=\"evenodd\" fill-opacity=\"1\" /><path clip-path=\"url(#clip390)\" d=\"M1069.85 34.1734 Q1068.59 33.4443 1067.09 33.1202 Q1065.63 32.7556 1063.85 32.7556 Q1057.53 32.7556 1054.13 36.8875 Q1050.77 40.9789 1050.77 48.6757 L1050.77 72.576 L1043.27 72.576 L1043.27 27.2059 L1050.77 27.2059 L1050.77 34.2544 Q1053.11 30.1225 1056.88 28.1376 Q1060.65 26.1121 1066.04 26.1121 Q1066.81 26.1121 1067.74 26.2337 Q1068.67 26.3147 1069.8 26.5172 L1069.85 34.1734 Z\" fill=\"#000000\" fill-rule=\"evenodd\" fill-opacity=\"1\" /><path clip-path=\"url(#clip390)\" d=\"M1112.14 86.3491 L1112.14 92.1419 L1069.04 92.1419 L1069.04 86.3491 L1112.14 86.3491 Z\" fill=\"#000000\" fill-rule=\"evenodd\" fill-opacity=\"1\" /><path clip-path=\"url(#clip390)\" d=\"M1149 34.0924 L1149 9.54393 L1156.45 9.54393 L1156.45 72.576 L1149 72.576 L1149 65.7705 Q1146.65 69.8214 1143.05 71.8063 Q1139.48 73.7508 1134.46 73.7508 Q1126.23 73.7508 1121.05 67.1883 Q1115.9 60.6258 1115.9 49.9314 Q1115.9 39.2371 1121.05 32.6746 Q1126.23 26.1121 1134.46 26.1121 Q1139.48 26.1121 1143.05 28.0971 Q1146.65 30.0415 1149 34.0924 M1123.6 49.9314 Q1123.6 58.1548 1126.96 62.8538 Q1130.37 67.5124 1136.28 67.5124 Q1142.19 67.5124 1145.6 62.8538 Q1149 58.1548 1149 49.9314 Q1149 41.7081 1145.6 37.0496 Q1142.19 32.3505 1136.28 32.3505 Q1130.37 32.3505 1126.96 37.0496 Q1123.6 41.7081 1123.6 49.9314 Z\" fill=\"#000000\" fill-rule=\"evenodd\" fill-opacity=\"1\" /><path clip-path=\"url(#clip390)\" d=\"M1210.61 48.0275 L1210.61 51.6733 L1176.34 51.6733 Q1176.83 59.3701 1180.96 63.421 Q1185.13 67.4314 1192.55 67.4314 Q1196.84 67.4314 1200.85 66.3781 Q1204.9 65.3249 1208.87 63.2184 L1208.87 70.267 Q1204.86 71.9684 1200.65 72.8596 Q1196.44 73.7508 1192.1 73.7508 Q1181.25 73.7508 1174.89 67.4314 Q1168.57 61.1119 1168.57 50.3365 Q1168.57 39.1965 1174.56 32.6746 Q1180.6 26.1121 1190.81 26.1121 Q1199.96 26.1121 1205.27 32.0264 Q1210.61 37.9003 1210.61 48.0275 M1203.16 45.84 Q1203.08 39.7232 1199.72 36.0774 Q1196.4 32.4315 1190.89 32.4315 Q1184.65 32.4315 1180.88 35.9558 Q1177.15 39.4801 1176.59 45.8805 L1203.16 45.84 Z\" fill=\"#000000\" fill-rule=\"evenodd\" fill-opacity=\"1\" /><path clip-path=\"url(#clip390)\" d=\"M1255.5 28.9478 L1255.5 35.9153 Q1252.34 34.1734 1249.14 33.3227 Q1245.98 32.4315 1242.74 32.4315 Q1235.49 32.4315 1231.48 37.0496 Q1227.47 41.6271 1227.47 49.9314 Q1227.47 58.2358 1231.48 62.8538 Q1235.49 67.4314 1242.74 67.4314 Q1245.98 67.4314 1249.14 66.5807 Q1252.34 65.6895 1255.5 63.9476 L1255.5 70.8341 Q1252.38 72.2924 1249.02 73.0216 Q1245.69 73.7508 1241.93 73.7508 Q1231.68 73.7508 1225.64 67.3098 Q1219.61 60.8689 1219.61 49.9314 Q1219.61 38.832 1225.68 32.472 Q1231.8 26.1121 1242.41 26.1121 Q1245.86 26.1121 1249.14 26.8413 Q1252.42 27.5299 1255.5 28.9478 Z\" fill=\"#000000\" fill-rule=\"evenodd\" fill-opacity=\"1\" /><path clip-path=\"url(#clip390)\" d=\"M1289.08 49.7694 Q1280.05 49.7694 1276.56 51.8354 Q1273.08 53.9013 1273.08 58.8839 Q1273.08 62.8538 1275.67 65.2034 Q1278.3 67.5124 1282.8 67.5124 Q1289 67.5124 1292.73 63.1374 Q1296.49 58.7219 1296.49 51.4303 L1296.49 49.7694 L1289.08 49.7694 M1303.95 46.6907 L1303.95 72.576 L1296.49 72.576 L1296.49 65.6895 Q1293.94 69.8214 1290.13 71.8063 Q1286.33 73.7508 1280.82 73.7508 Q1273.85 73.7508 1269.72 69.8619 Q1265.63 65.9325 1265.63 59.3701 Q1265.63 51.7138 1270.73 47.825 Q1275.87 43.9361 1286.04 43.9361 L1296.49 43.9361 L1296.49 43.2069 Q1296.49 38.0623 1293.09 35.2672 Q1289.73 32.4315 1283.61 32.4315 Q1279.72 32.4315 1276.04 33.3632 Q1272.35 34.295 1268.95 36.1584 L1268.95 29.2718 Q1273.04 27.692 1276.89 26.9223 Q1280.74 26.1121 1284.38 26.1121 Q1294.22 26.1121 1299.09 31.2163 Q1303.95 36.3204 1303.95 46.6907 Z\" fill=\"#000000\" fill-rule=\"evenodd\" fill-opacity=\"1\" /><path clip-path=\"url(#clip390)\" d=\"M1338.18 76.7889 Q1335.02 84.8907 1332.02 87.3618 Q1329.02 89.8329 1324 89.8329 L1318.04 89.8329 L1318.04 83.5945 L1322.42 83.5945 Q1325.5 83.5945 1327.2 82.1361 Q1328.9 80.6778 1330.97 75.2496 L1332.3 71.8468 L1313.95 27.2059 L1321.85 27.2059 L1336.03 62.6918 L1350.21 27.2059 L1358.11 27.2059 L1338.18 76.7889 Z\" fill=\"#000000\" fill-rule=\"evenodd\" fill-opacity=\"1\" /><path clip-path=\"url(#clip390)\" d=\"M1370.3 62.2867 L1378.85 62.2867 L1378.85 69.2543 L1372.2 82.2172 L1366.98 82.2172 L1370.3 69.2543 L1370.3 62.2867 Z\" fill=\"#000000\" fill-rule=\"evenodd\" fill-opacity=\"1\" /><path clip-path=\"url(#clip390)\" d=\"M1421.46 12.096 L1429.65 12.096 L1429.65 65.6895 L1459.1 65.6895 L1459.1 72.576 L1421.46 72.576 L1421.46 12.096 Z\" fill=\"#000000\" fill-rule=\"evenodd\" fill-opacity=\"1\" /><path clip-path=\"url(#clip390)\" d=\"M1468.33 34.9026 L1520.27 34.9026 L1520.27 41.7081 L1468.33 41.7081 L1468.33 34.9026 M1468.33 51.4303 L1520.27 51.4303 L1520.27 58.3168 L1468.33 58.3168 L1468.33 51.4303 Z\" fill=\"#000000\" fill-rule=\"evenodd\" fill-opacity=\"1\" /><path clip-path=\"url(#clip390)\" d=\"M1538.01 12.096 L1570.13 12.096 L1570.13 18.9825 L1545.5 18.9825 L1545.5 33.8088 Q1547.28 33.2012 1549.07 32.9176 Q1550.85 32.5936 1552.63 32.5936 Q1562.76 32.5936 1568.67 38.1433 Q1574.59 43.6931 1574.59 53.1722 Q1574.59 62.9348 1568.51 68.3631 Q1562.44 73.7508 1551.38 73.7508 Q1547.57 73.7508 1543.6 73.1026 Q1539.67 72.4545 1535.46 71.1582 L1535.46 62.9348 Q1539.1 64.9198 1542.99 65.892 Q1546.88 66.8642 1551.21 66.8642 Q1558.22 66.8642 1562.31 63.1779 Q1566.41 59.4916 1566.41 53.1722 Q1566.41 46.8528 1562.31 43.1664 Q1558.22 39.4801 1551.21 39.4801 Q1547.93 39.4801 1544.65 40.2093 Q1541.41 40.9384 1538.01 42.4778 L1538.01 12.096 Z\" fill=\"#000000\" fill-rule=\"evenodd\" fill-opacity=\"1\" /><path clip-path=\"url(#clip390)\" d=\"M1608.21 17.4837 Q1601.89 17.4837 1598.69 23.7221 Q1595.53 29.92 1595.53 42.3968 Q1595.53 54.833 1598.69 61.0714 Q1601.89 67.2693 1608.21 67.2693 Q1614.57 67.2693 1617.73 61.0714 Q1620.93 54.833 1620.93 42.3968 Q1620.93 29.92 1617.73 23.7221 Q1614.57 17.4837 1608.21 17.4837 M1608.21 11.0023 Q1618.38 11.0023 1623.73 19.0636 Q1629.11 27.0843 1629.11 42.3968 Q1629.11 57.6687 1623.73 65.73 Q1618.38 73.7508 1608.21 73.7508 Q1598.04 73.7508 1592.65 65.73 Q1587.31 57.6687 1587.31 42.3968 Q1587.31 27.0843 1592.65 19.0636 Q1598.04 11.0023 1608.21 11.0023 Z\" fill=\"#000000\" fill-rule=\"evenodd\" fill-opacity=\"1\" /><path clip-path=\"url(#clip390)\" d=\"M1660.99 17.4837 Q1654.67 17.4837 1651.47 23.7221 Q1648.31 29.92 1648.31 42.3968 Q1648.31 54.833 1651.47 61.0714 Q1654.67 67.2693 1660.99 67.2693 Q1667.35 67.2693 1670.51 61.0714 Q1673.71 54.833 1673.71 42.3968 Q1673.71 29.92 1670.51 23.7221 Q1667.35 17.4837 1660.99 17.4837 M1660.99 11.0023 Q1671.16 11.0023 1676.51 19.0636 Q1681.9 27.0843 1681.9 42.3968 Q1681.9 57.6687 1676.51 65.73 Q1671.16 73.7508 1660.99 73.7508 Q1650.83 73.7508 1645.44 65.73 Q1640.09 57.6687 1640.09 42.3968 Q1640.09 27.0843 1645.44 19.0636 Q1650.83 11.0023 1660.99 11.0023 Z\" fill=\"#000000\" fill-rule=\"evenodd\" fill-opacity=\"1\" /><path clip-path=\"url(#clip390)\" d=\"M1713.78 17.4837 Q1707.46 17.4837 1704.26 23.7221 Q1701.1 29.92 1701.1 42.3968 Q1701.1 54.833 1704.26 61.0714 Q1707.46 67.2693 1713.78 67.2693 Q1720.14 67.2693 1723.3 61.0714 Q1726.5 54.833 1726.5 42.3968 Q1726.5 29.92 1723.3 23.7221 Q1720.14 17.4837 1713.78 17.4837 M1713.78 11.0023 Q1723.94 11.0023 1729.29 19.0636 Q1734.68 27.0843 1734.68 42.3968 Q1734.68 57.6687 1729.29 65.73 Q1723.94 73.7508 1713.78 73.7508 Q1703.61 73.7508 1698.22 65.73 Q1692.87 57.6687 1692.87 42.3968 Q1692.87 27.0843 1698.22 19.0636 Q1703.61 11.0023 1713.78 11.0023 Z\" fill=\"#000000\" fill-rule=\"evenodd\" fill-opacity=\"1\" /><circle clip-path=\"url(#clip392)\" cx=\"316.984\" cy=\"160.256\" r=\"14\" fill=\"#009af9\" fill-rule=\"evenodd\" fill-opacity=\"1\" stroke=\"#000000\" stroke-opacity=\"1\" stroke-width=\"3.2\"/>\n",
       "<circle clip-path=\"url(#clip392)\" cx=\"599.338\" cy=\"393.735\" r=\"14\" fill=\"#009af9\" fill-rule=\"evenodd\" fill-opacity=\"1\" stroke=\"#000000\" stroke-opacity=\"1\" stroke-width=\"3.2\"/>\n",
       "<circle clip-path=\"url(#clip392)\" cx=\"881.692\" cy=\"750.321\" r=\"14\" fill=\"#009af9\" fill-rule=\"evenodd\" fill-opacity=\"1\" stroke=\"#000000\" stroke-opacity=\"1\" stroke-width=\"3.2\"/>\n",
       "<circle clip-path=\"url(#clip392)\" cx=\"1164.05\" cy=\"810.273\" r=\"14\" fill=\"#009af9\" fill-rule=\"evenodd\" fill-opacity=\"1\" stroke=\"#000000\" stroke-opacity=\"1\" stroke-width=\"3.2\"/>\n",
       "<circle clip-path=\"url(#clip392)\" cx=\"1446.4\" cy=\"979.688\" r=\"14\" fill=\"#009af9\" fill-rule=\"evenodd\" fill-opacity=\"1\" stroke=\"#000000\" stroke-opacity=\"1\" stroke-width=\"3.2\"/>\n",
       "<circle clip-path=\"url(#clip392)\" cx=\"1728.75\" cy=\"1137.15\" r=\"14\" fill=\"#009af9\" fill-rule=\"evenodd\" fill-opacity=\"1\" stroke=\"#000000\" stroke-opacity=\"1\" stroke-width=\"3.2\"/>\n",
       "<circle clip-path=\"url(#clip392)\" cx=\"2011.11\" cy=\"1232.82\" r=\"14\" fill=\"#009af9\" fill-rule=\"evenodd\" fill-opacity=\"1\" stroke=\"#000000\" stroke-opacity=\"1\" stroke-width=\"3.2\"/>\n",
       "<circle clip-path=\"url(#clip392)\" cx=\"2293.46\" cy=\"1386.4\" r=\"14\" fill=\"#009af9\" fill-rule=\"evenodd\" fill-opacity=\"1\" stroke=\"#000000\" stroke-opacity=\"1\" stroke-width=\"3.2\"/>\n",
       "<polyline clip-path=\"url(#clip392)\" style=\"stroke:#e26f46; stroke-linecap:butt; stroke-linejoin:round; stroke-width:4; stroke-opacity:1; fill:none\" points=\"\n",
       "  316.984,160.256 599.338,393.735 881.692,750.321 1164.05,810.273 1446.4,979.688 1728.75,1137.15 2011.11,1232.82 2293.46,1386.4 \n",
       "  \"/>\n",
       "<path clip-path=\"url(#clip390)\" d=\"\n",
       "M1729.42 270.476 L2282.92 270.476 L2282.92 166.796 L1729.42 166.796  Z\n",
       "  \" fill=\"#ffffff\" fill-rule=\"evenodd\" fill-opacity=\"1\"/>\n",
       "<polyline clip-path=\"url(#clip390)\" style=\"stroke:#000000; stroke-linecap:butt; stroke-linejoin:round; stroke-width:4; stroke-opacity:1; fill:none\" points=\"\n",
       "  1729.42,270.476 2282.92,270.476 2282.92,166.796 1729.42,166.796 1729.42,270.476 \n",
       "  \"/>\n",
       "<circle clip-path=\"url(#clip390)\" cx=\"1822.53\" cy=\"218.636\" r=\"23\" fill=\"#009af9\" fill-rule=\"evenodd\" fill-opacity=\"1\" stroke=\"#000000\" stroke-opacity=\"1\" stroke-width=\"5.12\"/>\n",
       "<path clip-path=\"url(#clip390)\" d=\"M1915.65 201.356 L1920.32 201.356 L1920.32 231.981 L1937.15 231.981 L1937.15 235.916 L1915.65 235.916 L1915.65 201.356 Z\" fill=\"#000000\" fill-rule=\"evenodd\" fill-opacity=\"1\" /><path clip-path=\"url(#clip390)\" d=\"M1946.5 231.981 L1962.82 231.981 L1962.82 235.916 L1940.88 235.916 L1940.88 231.981 Q1943.54 229.226 1948.12 224.596 Q1952.73 219.944 1953.91 218.601 Q1956.16 216.078 1957.04 214.342 Q1957.94 212.583 1957.94 210.893 Q1957.94 208.138 1955.99 206.402 Q1954.07 204.666 1950.97 204.666 Q1948.77 204.666 1946.32 205.43 Q1943.89 206.194 1941.11 207.745 L1941.11 203.022 Q1943.93 201.888 1946.39 201.309 Q1948.84 200.731 1950.88 200.731 Q1956.25 200.731 1959.44 203.416 Q1962.64 206.101 1962.64 210.592 Q1962.64 212.721 1961.83 214.643 Q1961.04 216.541 1958.93 219.133 Q1958.36 219.805 1955.25 223.022 Q1952.15 226.217 1946.5 231.981 Z\" fill=\"#000000\" fill-rule=\"evenodd\" fill-opacity=\"1\" /><path clip-path=\"url(#clip390)\" d=\"M2008.66 220.268 L2008.66 235.916 L2004.4 235.916 L2004.4 220.407 Q2004.4 216.726 2002.96 214.897 Q2001.53 213.069 1998.66 213.069 Q1995.21 213.069 1993.22 215.268 Q1991.23 217.467 1991.23 221.263 L1991.23 235.916 L1986.94 235.916 L1986.94 209.99 L1991.23 209.99 L1991.23 214.018 Q1992.75 211.68 1994.81 210.522 Q1996.9 209.365 1999.61 209.365 Q2004.07 209.365 2006.36 212.143 Q2008.66 214.897 2008.66 220.268 Z\" fill=\"#000000\" fill-rule=\"evenodd\" fill-opacity=\"1\" /><path clip-path=\"url(#clip390)\" d=\"M2027.2 212.976 Q2023.77 212.976 2021.78 215.661 Q2019.79 218.323 2019.79 222.976 Q2019.79 227.629 2021.76 230.314 Q2023.75 232.976 2027.2 232.976 Q2030.6 232.976 2032.59 230.291 Q2034.58 227.606 2034.58 222.976 Q2034.58 218.37 2032.59 215.684 Q2030.6 212.976 2027.2 212.976 M2027.2 209.365 Q2032.75 209.365 2035.92 212.976 Q2039.1 216.587 2039.1 222.976 Q2039.1 229.342 2035.92 232.976 Q2032.75 236.587 2027.2 236.587 Q2021.62 236.587 2018.45 232.976 Q2015.3 229.342 2015.3 222.976 Q2015.3 216.587 2018.45 212.976 Q2021.62 209.365 2027.2 209.365 Z\" fill=\"#000000\" fill-rule=\"evenodd\" fill-opacity=\"1\" /><path clip-path=\"url(#clip390)\" d=\"M2061.18 213.971 Q2060.46 213.555 2059.61 213.37 Q2058.77 213.161 2057.75 213.161 Q2054.14 213.161 2052.2 215.522 Q2050.28 217.86 2050.28 222.258 L2050.28 235.916 L2045.99 235.916 L2045.99 209.99 L2050.28 209.99 L2050.28 214.018 Q2051.62 211.657 2053.77 210.522 Q2055.92 209.365 2059 209.365 Q2059.44 209.365 2059.98 209.434 Q2060.51 209.481 2061.16 209.596 L2061.18 213.971 Z\" fill=\"#000000\" fill-rule=\"evenodd\" fill-opacity=\"1\" /><path clip-path=\"url(#clip390)\" d=\"M2085 214.967 Q2086.6 212.096 2088.82 210.731 Q2091.04 209.365 2094.05 209.365 Q2098.1 209.365 2100.3 212.212 Q2102.5 215.036 2102.5 220.268 L2102.5 235.916 L2098.22 235.916 L2098.22 220.407 Q2098.22 216.68 2096.9 214.874 Q2095.58 213.069 2092.87 213.069 Q2089.56 213.069 2087.64 215.268 Q2085.72 217.467 2085.72 221.263 L2085.72 235.916 L2081.43 235.916 L2081.43 220.407 Q2081.43 216.657 2080.11 214.874 Q2078.79 213.069 2076.04 213.069 Q2072.78 213.069 2070.85 215.291 Q2068.93 217.49 2068.93 221.263 L2068.93 235.916 L2064.65 235.916 L2064.65 209.99 L2068.93 209.99 L2068.93 214.018 Q2070.39 211.633 2072.43 210.499 Q2074.47 209.365 2077.27 209.365 Q2080.09 209.365 2082.06 210.8 Q2084.05 212.235 2085 214.967 Z\" fill=\"#000000\" fill-rule=\"evenodd\" fill-opacity=\"1\" /><path clip-path=\"url(#clip390)\" d=\"M2148.24 221.888 L2148.24 223.971 L2128.66 223.971 Q2128.93 228.369 2131.29 230.684 Q2133.68 232.976 2137.91 232.976 Q2140.37 232.976 2142.66 232.374 Q2144.97 231.772 2147.24 230.569 L2147.24 234.596 Q2144.95 235.568 2142.54 236.078 Q2140.14 236.587 2137.66 236.587 Q2131.46 236.587 2127.82 232.976 Q2124.21 229.365 2124.21 223.207 Q2124.21 216.842 2127.64 213.115 Q2131.09 209.365 2136.92 209.365 Q2142.15 209.365 2145.18 212.745 Q2148.24 216.101 2148.24 221.888 M2143.98 220.638 Q2143.93 217.143 2142.01 215.059 Q2140.11 212.976 2136.97 212.976 Q2133.4 212.976 2131.25 214.99 Q2129.12 217.004 2128.79 220.661 L2143.98 220.638 Z\" fill=\"#000000\" fill-rule=\"evenodd\" fill-opacity=\"1\" /><path clip-path=\"url(#clip390)\" d=\"M2170.25 213.971 Q2169.54 213.555 2168.68 213.37 Q2167.85 213.161 2166.83 213.161 Q2163.22 213.161 2161.27 215.522 Q2159.35 217.86 2159.35 222.258 L2159.35 235.916 L2155.07 235.916 L2155.07 209.99 L2159.35 209.99 L2159.35 214.018 Q2160.69 211.657 2162.85 210.522 Q2165 209.365 2168.08 209.365 Q2168.52 209.365 2169.05 209.434 Q2169.58 209.481 2170.23 209.596 L2170.25 213.971 Z\" fill=\"#000000\" fill-rule=\"evenodd\" fill-opacity=\"1\" /><path clip-path=\"url(#clip390)\" d=\"M2188.91 213.971 Q2188.19 213.555 2187.34 213.37 Q2186.5 213.161 2185.48 213.161 Q2181.87 213.161 2179.93 215.522 Q2178.01 217.86 2178.01 222.258 L2178.01 235.916 L2173.72 235.916 L2173.72 209.99 L2178.01 209.99 L2178.01 214.018 Q2179.35 211.657 2181.5 210.522 Q2183.66 209.365 2186.73 209.365 Q2187.17 209.365 2187.71 209.434 Q2188.24 209.481 2188.89 209.596 L2188.91 213.971 Z\" fill=\"#000000\" fill-rule=\"evenodd\" fill-opacity=\"1\" /><path clip-path=\"url(#clip390)\" d=\"M2202.38 212.976 Q2198.96 212.976 2196.97 215.661 Q2194.97 218.323 2194.97 222.976 Q2194.97 227.629 2196.94 230.314 Q2198.93 232.976 2202.38 232.976 Q2205.78 232.976 2207.78 230.291 Q2209.77 227.606 2209.77 222.976 Q2209.77 218.37 2207.78 215.684 Q2205.78 212.976 2202.38 212.976 M2202.38 209.365 Q2207.94 209.365 2211.11 212.976 Q2214.28 216.587 2214.28 222.976 Q2214.28 229.342 2211.11 232.976 Q2207.94 236.587 2202.38 236.587 Q2196.8 236.587 2193.63 232.976 Q2190.48 229.342 2190.48 222.976 Q2190.48 216.587 2193.63 212.976 Q2196.8 209.365 2202.38 209.365 Z\" fill=\"#000000\" fill-rule=\"evenodd\" fill-opacity=\"1\" /><path clip-path=\"url(#clip390)\" d=\"M2236.36 213.971 Q2235.65 213.555 2234.79 213.37 Q2233.96 213.161 2232.94 213.161 Q2229.33 213.161 2227.38 215.522 Q2225.46 217.86 2225.46 222.258 L2225.46 235.916 L2221.18 235.916 L2221.18 209.99 L2225.46 209.99 L2225.46 214.018 Q2226.8 211.657 2228.96 210.522 Q2231.11 209.365 2234.19 209.365 Q2234.63 209.365 2235.16 209.434 Q2235.69 209.481 2236.34 209.596 L2236.36 213.971 Z\" fill=\"#000000\" fill-rule=\"evenodd\" fill-opacity=\"1\" /></svg>\n"
      ]
     },
     "execution_count": 200,
     "metadata": {},
     "output_type": "execute_result"
    }
   ],
   "source": [
    "error_plotL2=scatter(log.(Sgrid),log.(er2), label=\"L2 norm error\" ); \n",
    "plot!(error_plotL2,log.(Sgrid), log.(er2),label=false)\n",
    "title!(\"Error_decay, L=5000\")\n",
    "xlabel!(\"Log number of particles\")\n",
    "ylabel!(\"Log error\")\n",
    "#png(error_plotL2,\"error_plotL2.png\")"
   ]
  },
  {
   "cell_type": "code",
   "execution_count": null,
   "id": "a25cf05e",
   "metadata": {},
   "outputs": [],
   "source": []
  },
  {
   "cell_type": "code",
   "execution_count": null,
   "id": "5a922bf4",
   "metadata": {},
   "outputs": [],
   "source": []
  },
  {
   "cell_type": "code",
   "execution_count": null,
   "id": "8744a83f",
   "metadata": {},
   "outputs": [],
   "source": []
  },
  {
   "cell_type": "code",
   "execution_count": null,
   "id": "e4ee9930",
   "metadata": {},
   "outputs": [],
   "source": []
  },
  {
   "cell_type": "code",
   "execution_count": 16,
   "id": "79066994",
   "metadata": {},
   "outputs": [
    {
     "data": {
      "image/svg+xml": [
       "<?xml version=\"1.0\" encoding=\"utf-8\"?>\n",
       "<svg xmlns=\"http://www.w3.org/2000/svg\" xmlns:xlink=\"http://www.w3.org/1999/xlink\" width=\"600\" height=\"400\" viewBox=\"0 0 2400 1600\">\n",
       "<defs>\n",
       "  <clipPath id=\"clip690\">\n",
       "    <rect x=\"0\" y=\"0\" width=\"2400\" height=\"1600\"/>\n",
       "  </clipPath>\n",
       "</defs>\n",
       "<path clip-path=\"url(#clip690)\" d=\"\n",
       "M0 1600 L2400 1600 L2400 0 L0 0  Z\n",
       "  \" fill=\"#ffffff\" fill-rule=\"evenodd\" fill-opacity=\"1\"/>\n",
       "<defs>\n",
       "  <clipPath id=\"clip691\">\n",
       "    <rect x=\"480\" y=\"0\" width=\"1681\" height=\"1600\"/>\n",
       "  </clipPath>\n",
       "</defs>\n",
       "<path clip-path=\"url(#clip690)\" d=\"\n",
       "M192.709 1486.45 L2352.76 1486.45 L2352.76 123.472 L192.709 123.472  Z\n",
       "  \" fill=\"#ffffff\" fill-rule=\"evenodd\" fill-opacity=\"1\"/>\n",
       "<defs>\n",
       "  <clipPath id=\"clip692\">\n",
       "    <rect x=\"192\" y=\"123\" width=\"2161\" height=\"1364\"/>\n",
       "  </clipPath>\n",
       "</defs>\n",
       "<polyline clip-path=\"url(#clip692)\" style=\"stroke:#000000; stroke-linecap:butt; stroke-linejoin:round; stroke-width:2; stroke-opacity:0.1; fill:none\" points=\"\n",
       "  212.255,1486.45 212.255,123.472 \n",
       "  \"/>\n",
       "<polyline clip-path=\"url(#clip692)\" style=\"stroke:#000000; stroke-linecap:butt; stroke-linejoin:round; stroke-width:2; stroke-opacity:0.1; fill:none\" points=\"\n",
       "  628.129,1486.45 628.129,123.472 \n",
       "  \"/>\n",
       "<polyline clip-path=\"url(#clip692)\" style=\"stroke:#000000; stroke-linecap:butt; stroke-linejoin:round; stroke-width:2; stroke-opacity:0.1; fill:none\" points=\"\n",
       "  1044,1486.45 1044,123.472 \n",
       "  \"/>\n",
       "<polyline clip-path=\"url(#clip692)\" style=\"stroke:#000000; stroke-linecap:butt; stroke-linejoin:round; stroke-width:2; stroke-opacity:0.1; fill:none\" points=\"\n",
       "  1459.88,1486.45 1459.88,123.472 \n",
       "  \"/>\n",
       "<polyline clip-path=\"url(#clip692)\" style=\"stroke:#000000; stroke-linecap:butt; stroke-linejoin:round; stroke-width:2; stroke-opacity:0.1; fill:none\" points=\"\n",
       "  1875.75,1486.45 1875.75,123.472 \n",
       "  \"/>\n",
       "<polyline clip-path=\"url(#clip692)\" style=\"stroke:#000000; stroke-linecap:butt; stroke-linejoin:round; stroke-width:2; stroke-opacity:0.1; fill:none\" points=\"\n",
       "  2291.62,1486.45 2291.62,123.472 \n",
       "  \"/>\n",
       "<polyline clip-path=\"url(#clip690)\" style=\"stroke:#000000; stroke-linecap:butt; stroke-linejoin:round; stroke-width:4; stroke-opacity:1; fill:none\" points=\"\n",
       "  192.709,1486.45 2352.76,1486.45 \n",
       "  \"/>\n",
       "<polyline clip-path=\"url(#clip690)\" style=\"stroke:#000000; stroke-linecap:butt; stroke-linejoin:round; stroke-width:4; stroke-opacity:1; fill:none\" points=\"\n",
       "  212.255,1486.45 212.255,1467.55 \n",
       "  \"/>\n",
       "<polyline clip-path=\"url(#clip690)\" style=\"stroke:#000000; stroke-linecap:butt; stroke-linejoin:round; stroke-width:4; stroke-opacity:1; fill:none\" points=\"\n",
       "  628.129,1486.45 628.129,1467.55 \n",
       "  \"/>\n",
       "<polyline clip-path=\"url(#clip690)\" style=\"stroke:#000000; stroke-linecap:butt; stroke-linejoin:round; stroke-width:4; stroke-opacity:1; fill:none\" points=\"\n",
       "  1044,1486.45 1044,1467.55 \n",
       "  \"/>\n",
       "<polyline clip-path=\"url(#clip690)\" style=\"stroke:#000000; stroke-linecap:butt; stroke-linejoin:round; stroke-width:4; stroke-opacity:1; fill:none\" points=\"\n",
       "  1459.88,1486.45 1459.88,1467.55 \n",
       "  \"/>\n",
       "<polyline clip-path=\"url(#clip690)\" style=\"stroke:#000000; stroke-linecap:butt; stroke-linejoin:round; stroke-width:4; stroke-opacity:1; fill:none\" points=\"\n",
       "  1875.75,1486.45 1875.75,1467.55 \n",
       "  \"/>\n",
       "<polyline clip-path=\"url(#clip690)\" style=\"stroke:#000000; stroke-linecap:butt; stroke-linejoin:round; stroke-width:4; stroke-opacity:1; fill:none\" points=\"\n",
       "  2291.62,1486.45 2291.62,1467.55 \n",
       "  \"/>\n",
       "<path clip-path=\"url(#clip690)\" d=\"M212.255 1517.37 Q208.644 1517.37 206.815 1520.93 Q205.01 1524.47 205.01 1531.6 Q205.01 1538.71 206.815 1542.27 Q208.644 1545.82 212.255 1545.82 Q215.889 1545.82 217.695 1542.27 Q219.524 1538.71 219.524 1531.6 Q219.524 1524.47 217.695 1520.93 Q215.889 1517.37 212.255 1517.37 M212.255 1513.66 Q218.065 1513.66 221.121 1518.27 Q224.2 1522.85 224.2 1531.6 Q224.2 1540.33 221.121 1544.94 Q218.065 1549.52 212.255 1549.52 Q206.445 1549.52 203.366 1544.94 Q200.311 1540.33 200.311 1531.6 Q200.311 1522.85 203.366 1518.27 Q206.445 1513.66 212.255 1513.66 Z\" fill=\"#000000\" fill-rule=\"evenodd\" fill-opacity=\"1\" /><path clip-path=\"url(#clip690)\" d=\"M602.816 1544.91 L610.455 1544.91 L610.455 1518.55 L602.145 1520.21 L602.145 1515.95 L610.409 1514.29 L615.085 1514.29 L615.085 1544.91 L622.724 1544.91 L622.724 1548.85 L602.816 1548.85 L602.816 1544.91 Z\" fill=\"#000000\" fill-rule=\"evenodd\" fill-opacity=\"1\" /><path clip-path=\"url(#clip690)\" d=\"M642.168 1517.37 Q638.557 1517.37 636.728 1520.93 Q634.923 1524.47 634.923 1531.6 Q634.923 1538.71 636.728 1542.27 Q638.557 1545.82 642.168 1545.82 Q645.802 1545.82 647.608 1542.27 Q649.436 1538.71 649.436 1531.6 Q649.436 1524.47 647.608 1520.93 Q645.802 1517.37 642.168 1517.37 M642.168 1513.66 Q647.978 1513.66 651.034 1518.27 Q654.112 1522.85 654.112 1531.6 Q654.112 1540.33 651.034 1544.94 Q647.978 1549.52 642.168 1549.52 Q636.358 1549.52 633.279 1544.94 Q630.224 1540.33 630.224 1531.6 Q630.224 1522.85 633.279 1518.27 Q636.358 1513.66 642.168 1513.66 Z\" fill=\"#000000\" fill-rule=\"evenodd\" fill-opacity=\"1\" /><path clip-path=\"url(#clip690)\" d=\"M1022.78 1544.91 L1039.09 1544.91 L1039.09 1548.85 L1017.15 1548.85 L1017.15 1544.91 Q1019.81 1542.16 1024.4 1537.53 Q1029 1532.88 1030.18 1531.53 Q1032.43 1529.01 1033.31 1527.27 Q1034.21 1525.51 1034.21 1523.82 Q1034.21 1521.07 1032.27 1519.33 Q1030.34 1517.6 1027.24 1517.6 Q1025.04 1517.6 1022.59 1518.36 Q1020.16 1519.13 1017.38 1520.68 L1017.38 1515.95 Q1020.21 1514.82 1022.66 1514.24 Q1025.11 1513.66 1027.15 1513.66 Q1032.52 1513.66 1035.72 1516.35 Q1038.91 1519.03 1038.91 1523.52 Q1038.91 1525.65 1038.1 1527.57 Q1037.31 1529.47 1035.21 1532.07 Q1034.63 1532.74 1031.53 1535.95 Q1028.42 1539.15 1022.78 1544.91 Z\" fill=\"#000000\" fill-rule=\"evenodd\" fill-opacity=\"1\" /><path clip-path=\"url(#clip690)\" d=\"M1058.91 1517.37 Q1055.3 1517.37 1053.47 1520.93 Q1051.66 1524.47 1051.66 1531.6 Q1051.66 1538.71 1053.47 1542.27 Q1055.3 1545.82 1058.91 1545.82 Q1062.54 1545.82 1064.35 1542.27 Q1066.18 1538.71 1066.18 1531.6 Q1066.18 1524.47 1064.35 1520.93 Q1062.54 1517.37 1058.91 1517.37 M1058.91 1513.66 Q1064.72 1513.66 1067.78 1518.27 Q1070.85 1522.85 1070.85 1531.6 Q1070.85 1540.33 1067.78 1544.94 Q1064.72 1549.52 1058.91 1549.52 Q1053.1 1549.52 1050.02 1544.94 Q1046.97 1540.33 1046.97 1531.6 Q1046.97 1522.85 1050.02 1518.27 Q1053.1 1513.66 1058.91 1513.66 Z\" fill=\"#000000\" fill-rule=\"evenodd\" fill-opacity=\"1\" /><path clip-path=\"url(#clip690)\" d=\"M1448.72 1530.21 Q1452.07 1530.93 1453.95 1533.2 Q1455.85 1535.47 1455.85 1538.8 Q1455.85 1543.92 1452.33 1546.72 Q1448.81 1549.52 1442.33 1549.52 Q1440.15 1549.52 1437.84 1549.08 Q1435.55 1548.66 1433.09 1547.81 L1433.09 1543.29 Q1435.04 1544.43 1437.35 1545.01 Q1439.67 1545.58 1442.19 1545.58 Q1446.59 1545.58 1448.88 1543.85 Q1451.2 1542.11 1451.2 1538.8 Q1451.2 1535.75 1449.04 1534.03 Q1446.91 1532.3 1443.09 1532.3 L1439.07 1532.3 L1439.07 1528.45 L1443.28 1528.45 Q1446.73 1528.45 1448.56 1527.09 Q1450.38 1525.7 1450.38 1523.11 Q1450.38 1520.45 1448.49 1519.03 Q1446.61 1517.6 1443.09 1517.6 Q1441.17 1517.6 1438.97 1518.01 Q1436.77 1518.43 1434.13 1519.31 L1434.13 1515.14 Q1436.8 1514.4 1439.11 1514.03 Q1441.45 1513.66 1443.51 1513.66 Q1448.83 1513.66 1451.94 1516.09 Q1455.04 1518.5 1455.04 1522.62 Q1455.04 1525.49 1453.39 1527.48 Q1451.75 1529.45 1448.72 1530.21 Z\" fill=\"#000000\" fill-rule=\"evenodd\" fill-opacity=\"1\" /><path clip-path=\"url(#clip690)\" d=\"M1474.71 1517.37 Q1471.1 1517.37 1469.27 1520.93 Q1467.47 1524.47 1467.47 1531.6 Q1467.47 1538.71 1469.27 1542.27 Q1471.1 1545.82 1474.71 1545.82 Q1478.35 1545.82 1480.15 1542.27 Q1481.98 1538.71 1481.98 1531.6 Q1481.98 1524.47 1480.15 1520.93 Q1478.35 1517.37 1474.71 1517.37 M1474.71 1513.66 Q1480.52 1513.66 1483.58 1518.27 Q1486.66 1522.85 1486.66 1531.6 Q1486.66 1540.33 1483.58 1544.94 Q1480.52 1549.52 1474.71 1549.52 Q1468.9 1549.52 1465.82 1544.94 Q1462.77 1540.33 1462.77 1531.6 Q1462.77 1522.85 1465.82 1518.27 Q1468.9 1513.66 1474.71 1513.66 Z\" fill=\"#000000\" fill-rule=\"evenodd\" fill-opacity=\"1\" /><path clip-path=\"url(#clip690)\" d=\"M1863.92 1518.36 L1852.11 1536.81 L1863.92 1536.81 L1863.92 1518.36 M1862.69 1514.29 L1868.57 1514.29 L1868.57 1536.81 L1873.5 1536.81 L1873.5 1540.7 L1868.57 1540.7 L1868.57 1548.85 L1863.92 1548.85 L1863.92 1540.7 L1848.32 1540.7 L1848.32 1536.19 L1862.69 1514.29 Z\" fill=\"#000000\" fill-rule=\"evenodd\" fill-opacity=\"1\" /><path clip-path=\"url(#clip690)\" d=\"M1891.24 1517.37 Q1887.62 1517.37 1885.8 1520.93 Q1883.99 1524.47 1883.99 1531.6 Q1883.99 1538.71 1885.8 1542.27 Q1887.62 1545.82 1891.24 1545.82 Q1894.87 1545.82 1896.67 1542.27 Q1898.5 1538.71 1898.5 1531.6 Q1898.5 1524.47 1896.67 1520.93 Q1894.87 1517.37 1891.24 1517.37 M1891.24 1513.66 Q1897.05 1513.66 1900.1 1518.27 Q1903.18 1522.85 1903.18 1531.6 Q1903.18 1540.33 1900.1 1544.94 Q1897.05 1549.52 1891.24 1549.52 Q1885.42 1549.52 1882.35 1544.94 Q1879.29 1540.33 1879.29 1531.6 Q1879.29 1522.85 1882.35 1518.27 Q1885.42 1513.66 1891.24 1513.66 Z\" fill=\"#000000\" fill-rule=\"evenodd\" fill-opacity=\"1\" /><path clip-path=\"url(#clip690)\" d=\"M2266.32 1514.29 L2284.68 1514.29 L2284.68 1518.22 L2270.6 1518.22 L2270.6 1526.7 Q2271.62 1526.35 2272.64 1526.19 Q2273.66 1526 2274.68 1526 Q2280.47 1526 2283.84 1529.17 Q2287.22 1532.34 2287.22 1537.76 Q2287.22 1543.34 2283.75 1546.44 Q2280.28 1549.52 2273.96 1549.52 Q2271.78 1549.52 2269.52 1549.15 Q2267.27 1548.78 2264.86 1548.04 L2264.86 1543.34 Q2266.95 1544.47 2269.17 1545.03 Q2271.39 1545.58 2273.87 1545.58 Q2277.87 1545.58 2280.21 1543.48 Q2282.55 1541.37 2282.55 1537.76 Q2282.55 1534.15 2280.21 1532.04 Q2277.87 1529.94 2273.87 1529.94 Q2271.99 1529.94 2270.12 1530.35 Q2268.27 1530.77 2266.32 1531.65 L2266.32 1514.29 Z\" fill=\"#000000\" fill-rule=\"evenodd\" fill-opacity=\"1\" /><path clip-path=\"url(#clip690)\" d=\"M2306.44 1517.37 Q2302.83 1517.37 2301 1520.93 Q2299.19 1524.47 2299.19 1531.6 Q2299.19 1538.71 2301 1542.27 Q2302.83 1545.82 2306.44 1545.82 Q2310.07 1545.82 2311.88 1542.27 Q2313.71 1538.71 2313.71 1531.6 Q2313.71 1524.47 2311.88 1520.93 Q2310.07 1517.37 2306.44 1517.37 M2306.44 1513.66 Q2312.25 1513.66 2315.3 1518.27 Q2318.38 1522.85 2318.38 1531.6 Q2318.38 1540.33 2315.3 1544.94 Q2312.25 1549.52 2306.44 1549.52 Q2300.63 1549.52 2297.55 1544.94 Q2294.49 1540.33 2294.49 1531.6 Q2294.49 1522.85 2297.55 1518.27 Q2300.63 1513.66 2306.44 1513.66 Z\" fill=\"#000000\" fill-rule=\"evenodd\" fill-opacity=\"1\" /><polyline clip-path=\"url(#clip692)\" style=\"stroke:#000000; stroke-linecap:butt; stroke-linejoin:round; stroke-width:2; stroke-opacity:0.1; fill:none\" points=\"\n",
       "  192.709,1375.96 2352.76,1375.96 \n",
       "  \"/>\n",
       "<polyline clip-path=\"url(#clip692)\" style=\"stroke:#000000; stroke-linecap:butt; stroke-linejoin:round; stroke-width:2; stroke-opacity:0.1; fill:none\" points=\"\n",
       "  192.709,1113.37 2352.76,1113.37 \n",
       "  \"/>\n",
       "<polyline clip-path=\"url(#clip692)\" style=\"stroke:#000000; stroke-linecap:butt; stroke-linejoin:round; stroke-width:2; stroke-opacity:0.1; fill:none\" points=\"\n",
       "  192.709,850.782 2352.76,850.782 \n",
       "  \"/>\n",
       "<polyline clip-path=\"url(#clip692)\" style=\"stroke:#000000; stroke-linecap:butt; stroke-linejoin:round; stroke-width:2; stroke-opacity:0.1; fill:none\" points=\"\n",
       "  192.709,588.192 2352.76,588.192 \n",
       "  \"/>\n",
       "<polyline clip-path=\"url(#clip692)\" style=\"stroke:#000000; stroke-linecap:butt; stroke-linejoin:round; stroke-width:2; stroke-opacity:0.1; fill:none\" points=\"\n",
       "  192.709,325.603 2352.76,325.603 \n",
       "  \"/>\n",
       "<polyline clip-path=\"url(#clip690)\" style=\"stroke:#000000; stroke-linecap:butt; stroke-linejoin:round; stroke-width:4; stroke-opacity:1; fill:none\" points=\"\n",
       "  192.709,1486.45 192.709,123.472 \n",
       "  \"/>\n",
       "<polyline clip-path=\"url(#clip690)\" style=\"stroke:#000000; stroke-linecap:butt; stroke-linejoin:round; stroke-width:4; stroke-opacity:1; fill:none\" points=\"\n",
       "  192.709,1375.96 211.607,1375.96 \n",
       "  \"/>\n",
       "<polyline clip-path=\"url(#clip690)\" style=\"stroke:#000000; stroke-linecap:butt; stroke-linejoin:round; stroke-width:4; stroke-opacity:1; fill:none\" points=\"\n",
       "  192.709,1113.37 211.607,1113.37 \n",
       "  \"/>\n",
       "<polyline clip-path=\"url(#clip690)\" style=\"stroke:#000000; stroke-linecap:butt; stroke-linejoin:round; stroke-width:4; stroke-opacity:1; fill:none\" points=\"\n",
       "  192.709,850.782 211.607,850.782 \n",
       "  \"/>\n",
       "<polyline clip-path=\"url(#clip690)\" style=\"stroke:#000000; stroke-linecap:butt; stroke-linejoin:round; stroke-width:4; stroke-opacity:1; fill:none\" points=\"\n",
       "  192.709,588.192 211.607,588.192 \n",
       "  \"/>\n",
       "<polyline clip-path=\"url(#clip690)\" style=\"stroke:#000000; stroke-linecap:butt; stroke-linejoin:round; stroke-width:4; stroke-opacity:1; fill:none\" points=\"\n",
       "  192.709,325.603 211.607,325.603 \n",
       "  \"/>\n",
       "<path clip-path=\"url(#clip690)\" d=\"M51.3625 1376.41 L81.0383 1376.41 L81.0383 1380.35 L51.3625 1380.35 L51.3625 1376.41 Z\" fill=\"#000000\" fill-rule=\"evenodd\" fill-opacity=\"1\" /><path clip-path=\"url(#clip690)\" d=\"M101.131 1361.76 Q97.5197 1361.76 95.691 1365.32 Q93.8854 1368.87 93.8854 1375.99 Q93.8854 1383.1 95.691 1386.67 Q97.5197 1390.21 101.131 1390.21 Q104.765 1390.21 106.571 1386.67 Q108.399 1383.1 108.399 1375.99 Q108.399 1368.87 106.571 1365.32 Q104.765 1361.76 101.131 1361.76 M101.131 1358.06 Q106.941 1358.06 109.996 1362.66 Q113.075 1367.24 113.075 1375.99 Q113.075 1384.72 109.996 1389.33 Q106.941 1393.91 101.131 1393.91 Q95.3206 1393.91 92.2419 1389.33 Q89.1864 1384.72 89.1864 1375.99 Q89.1864 1367.24 92.2419 1362.66 Q95.3206 1358.06 101.131 1358.06 Z\" fill=\"#000000\" fill-rule=\"evenodd\" fill-opacity=\"1\" /><path clip-path=\"url(#clip690)\" d=\"M121.293 1387.36 L126.177 1387.36 L126.177 1393.24 L121.293 1393.24 L121.293 1387.36 Z\" fill=\"#000000\" fill-rule=\"evenodd\" fill-opacity=\"1\" /><path clip-path=\"url(#clip690)\" d=\"M140.39 1389.31 L156.709 1389.31 L156.709 1393.24 L134.765 1393.24 L134.765 1389.31 Q137.427 1386.55 142.01 1381.92 Q146.617 1377.27 147.797 1375.93 Q150.043 1373.4 150.922 1371.67 Q151.825 1369.91 151.825 1368.22 Q151.825 1365.46 149.88 1363.73 Q147.959 1361.99 144.857 1361.99 Q142.658 1361.99 140.205 1362.75 Q137.774 1363.52 134.996 1365.07 L134.996 1360.35 Q137.82 1359.21 140.274 1358.63 Q142.728 1358.06 144.765 1358.06 Q150.135 1358.06 153.33 1360.74 Q156.524 1363.43 156.524 1367.92 Q156.524 1370.05 155.714 1371.97 Q154.927 1373.87 152.82 1376.46 Q152.242 1377.13 149.14 1380.35 Q146.038 1383.54 140.39 1389.31 Z\" fill=\"#000000\" fill-rule=\"evenodd\" fill-opacity=\"1\" /><path clip-path=\"url(#clip690)\" d=\"M50.9921 1113.82 L80.6679 1113.82 L80.6679 1117.76 L50.9921 1117.76 L50.9921 1113.82 Z\" fill=\"#000000\" fill-rule=\"evenodd\" fill-opacity=\"1\" /><path clip-path=\"url(#clip690)\" d=\"M100.76 1099.17 Q97.1493 1099.17 95.3206 1102.73 Q93.515 1106.28 93.515 1113.41 Q93.515 1120.51 95.3206 1124.08 Q97.1493 1127.62 100.76 1127.62 Q104.395 1127.62 106.2 1124.08 Q108.029 1120.51 108.029 1113.41 Q108.029 1106.28 106.2 1102.73 Q104.395 1099.17 100.76 1099.17 M100.76 1095.47 Q106.571 1095.47 109.626 1100.07 Q112.705 1104.66 112.705 1113.41 Q112.705 1122.13 109.626 1126.74 Q106.571 1131.32 100.76 1131.32 Q94.9502 1131.32 91.8715 1126.74 Q88.816 1122.13 88.816 1113.41 Q88.816 1104.66 91.8715 1100.07 Q94.9502 1095.47 100.76 1095.47 Z\" fill=\"#000000\" fill-rule=\"evenodd\" fill-opacity=\"1\" /><path clip-path=\"url(#clip690)\" d=\"M120.922 1124.77 L125.807 1124.77 L125.807 1130.65 L120.922 1130.65 L120.922 1124.77 Z\" fill=\"#000000\" fill-rule=\"evenodd\" fill-opacity=\"1\" /><path clip-path=\"url(#clip690)\" d=\"M136.802 1126.72 L144.441 1126.72 L144.441 1100.35 L136.131 1102.02 L136.131 1097.76 L144.394 1096.09 L149.07 1096.09 L149.07 1126.72 L156.709 1126.72 L156.709 1130.65 L136.802 1130.65 L136.802 1126.72 Z\" fill=\"#000000\" fill-rule=\"evenodd\" fill-opacity=\"1\" /><path clip-path=\"url(#clip690)\" d=\"M99.5335 836.58 Q95.9224 836.58 94.0937 840.145 Q92.2882 843.687 92.2882 850.816 Q92.2882 857.923 94.0937 861.488 Q95.9224 865.029 99.5335 865.029 Q103.168 865.029 104.973 861.488 Q106.802 857.923 106.802 850.816 Q106.802 843.687 104.973 840.145 Q103.168 836.58 99.5335 836.58 M99.5335 832.877 Q105.344 832.877 108.399 837.483 Q111.478 842.066 111.478 850.816 Q111.478 859.543 108.399 864.15 Q105.344 868.733 99.5335 868.733 Q93.7234 868.733 90.6447 864.15 Q87.5892 859.543 87.5892 850.816 Q87.5892 842.066 90.6447 837.483 Q93.7234 832.877 99.5335 832.877 Z\" fill=\"#000000\" fill-rule=\"evenodd\" fill-opacity=\"1\" /><path clip-path=\"url(#clip690)\" d=\"M119.695 862.182 L124.58 862.182 L124.58 868.062 L119.695 868.062 L119.695 862.182 Z\" fill=\"#000000\" fill-rule=\"evenodd\" fill-opacity=\"1\" /><path clip-path=\"url(#clip690)\" d=\"M144.765 836.58 Q141.154 836.58 139.325 840.145 Q137.519 843.687 137.519 850.816 Q137.519 857.923 139.325 861.488 Q141.154 865.029 144.765 865.029 Q148.399 865.029 150.205 861.488 Q152.033 857.923 152.033 850.816 Q152.033 843.687 150.205 840.145 Q148.399 836.58 144.765 836.58 M144.765 832.877 Q150.575 832.877 153.63 837.483 Q156.709 842.066 156.709 850.816 Q156.709 859.543 153.63 864.15 Q150.575 868.733 144.765 868.733 Q138.955 868.733 135.876 864.15 Q132.82 859.543 132.82 850.816 Q132.82 842.066 135.876 837.483 Q138.955 832.877 144.765 832.877 Z\" fill=\"#000000\" fill-rule=\"evenodd\" fill-opacity=\"1\" /><path clip-path=\"url(#clip690)\" d=\"M100.76 573.991 Q97.1493 573.991 95.3206 577.556 Q93.515 581.097 93.515 588.227 Q93.515 595.333 95.3206 598.898 Q97.1493 602.44 100.76 602.44 Q104.395 602.44 106.2 598.898 Q108.029 595.333 108.029 588.227 Q108.029 581.097 106.2 577.556 Q104.395 573.991 100.76 573.991 M100.76 570.287 Q106.571 570.287 109.626 574.894 Q112.705 579.477 112.705 588.227 Q112.705 596.954 109.626 601.56 Q106.571 606.144 100.76 606.144 Q94.9502 606.144 91.8715 601.56 Q88.816 596.954 88.816 588.227 Q88.816 579.477 91.8715 574.894 Q94.9502 570.287 100.76 570.287 Z\" fill=\"#000000\" fill-rule=\"evenodd\" fill-opacity=\"1\" /><path clip-path=\"url(#clip690)\" d=\"M120.922 599.593 L125.807 599.593 L125.807 605.472 L120.922 605.472 L120.922 599.593 Z\" fill=\"#000000\" fill-rule=\"evenodd\" fill-opacity=\"1\" /><path clip-path=\"url(#clip690)\" d=\"M136.802 601.537 L144.441 601.537 L144.441 575.172 L136.131 576.838 L136.131 572.579 L144.394 570.912 L149.07 570.912 L149.07 601.537 L156.709 601.537 L156.709 605.472 L136.802 605.472 L136.802 601.537 Z\" fill=\"#000000\" fill-rule=\"evenodd\" fill-opacity=\"1\" /><path clip-path=\"url(#clip690)\" d=\"M101.131 311.402 Q97.5197 311.402 95.691 314.967 Q93.8854 318.508 93.8854 325.638 Q93.8854 332.744 95.691 336.309 Q97.5197 339.851 101.131 339.851 Q104.765 339.851 106.571 336.309 Q108.399 332.744 108.399 325.638 Q108.399 318.508 106.571 314.967 Q104.765 311.402 101.131 311.402 M101.131 307.698 Q106.941 307.698 109.996 312.304 Q113.075 316.888 113.075 325.638 Q113.075 334.365 109.996 338.971 Q106.941 343.554 101.131 343.554 Q95.3206 343.554 92.2419 338.971 Q89.1864 334.365 89.1864 325.638 Q89.1864 316.888 92.2419 312.304 Q95.3206 307.698 101.131 307.698 Z\" fill=\"#000000\" fill-rule=\"evenodd\" fill-opacity=\"1\" /><path clip-path=\"url(#clip690)\" d=\"M121.293 337.003 L126.177 337.003 L126.177 342.883 L121.293 342.883 L121.293 337.003 Z\" fill=\"#000000\" fill-rule=\"evenodd\" fill-opacity=\"1\" /><path clip-path=\"url(#clip690)\" d=\"M140.39 338.948 L156.709 338.948 L156.709 342.883 L134.765 342.883 L134.765 338.948 Q137.427 336.193 142.01 331.564 Q146.617 326.911 147.797 325.568 Q150.043 323.045 150.922 321.309 Q151.825 319.55 151.825 317.86 Q151.825 315.105 149.88 313.369 Q147.959 311.633 144.857 311.633 Q142.658 311.633 140.205 312.397 Q137.774 313.161 134.996 314.712 L134.996 309.99 Q137.82 308.855 140.274 308.277 Q142.728 307.698 144.765 307.698 Q150.135 307.698 153.33 310.383 Q156.524 313.068 156.524 317.559 Q156.524 319.689 155.714 321.61 Q154.927 323.508 152.82 326.101 Q152.242 326.772 149.14 329.99 Q146.038 333.184 140.39 338.948 Z\" fill=\"#000000\" fill-rule=\"evenodd\" fill-opacity=\"1\" /><path clip-path=\"url(#clip690)\" d=\"M1075.43 28.9478 L1075.43 35.9153 Q1072.27 34.1734 1069.07 33.3227 Q1065.91 32.4315 1062.67 32.4315 Q1055.42 32.4315 1051.41 37.0496 Q1047.4 41.6271 1047.4 49.9314 Q1047.4 58.2358 1051.41 62.8538 Q1055.42 67.4314 1062.67 67.4314 Q1065.91 67.4314 1069.07 66.5807 Q1072.27 65.6895 1075.43 63.9476 L1075.43 70.8341 Q1072.31 72.2924 1068.95 73.0216 Q1065.63 73.7508 1061.86 73.7508 Q1051.61 73.7508 1045.58 67.3098 Q1039.54 60.8689 1039.54 49.9314 Q1039.54 38.832 1045.62 32.472 Q1051.74 26.1121 1062.35 26.1121 Q1065.79 26.1121 1069.07 26.8413 Q1072.35 27.5299 1075.43 28.9478 Z\" fill=\"#000000\" fill-rule=\"evenodd\" fill-opacity=\"1\" /><path clip-path=\"url(#clip690)\" d=\"M1105.98 32.4315 Q1099.98 32.4315 1096.5 37.1306 Q1093.01 41.7891 1093.01 49.9314 Q1093.01 58.0738 1096.46 62.7728 Q1099.94 67.4314 1105.98 67.4314 Q1111.93 67.4314 1115.42 62.7323 Q1118.9 58.0333 1118.9 49.9314 Q1118.9 41.8701 1115.42 37.1711 Q1111.93 32.4315 1105.98 32.4315 M1105.98 26.1121 Q1115.7 26.1121 1121.25 32.4315 Q1126.8 38.7509 1126.8 49.9314 Q1126.8 61.0714 1121.25 67.4314 Q1115.7 73.7508 1105.98 73.7508 Q1096.21 73.7508 1090.66 67.4314 Q1085.16 61.0714 1085.16 49.9314 Q1085.16 38.7509 1090.66 32.4315 Q1096.21 26.1121 1105.98 26.1121 Z\" fill=\"#000000\" fill-rule=\"evenodd\" fill-opacity=\"1\" /><path clip-path=\"url(#clip690)\" d=\"M1176.87 45.1919 L1176.87 72.576 L1169.41 72.576 L1169.41 45.4349 Q1169.41 38.994 1166.9 35.7938 Q1164.39 32.5936 1159.37 32.5936 Q1153.33 32.5936 1149.85 36.4419 Q1146.36 40.2903 1146.36 46.9338 L1146.36 72.576 L1138.87 72.576 L1138.87 27.2059 L1146.36 27.2059 L1146.36 34.2544 Q1149.04 30.163 1152.64 28.1376 Q1156.29 26.1121 1161.03 26.1121 Q1168.85 26.1121 1172.86 30.9732 Q1176.87 35.7938 1176.87 45.1919 Z\" fill=\"#000000\" fill-rule=\"evenodd\" fill-opacity=\"1\" /><path clip-path=\"url(#clip690)\" d=\"M1199.11 14.324 L1199.11 27.2059 L1214.46 27.2059 L1214.46 32.9987 L1199.11 32.9987 L1199.11 57.6282 Q1199.11 63.1779 1200.61 64.7578 Q1202.15 66.3376 1206.8 66.3376 L1214.46 66.3376 L1214.46 72.576 L1206.8 72.576 Q1198.18 72.576 1194.89 69.3758 Q1191.61 66.1351 1191.61 57.6282 L1191.61 32.9987 L1186.14 32.9987 L1186.14 27.2059 L1191.61 27.2059 L1191.61 14.324 L1199.11 14.324 Z\" fill=\"#000000\" fill-rule=\"evenodd\" fill-opacity=\"1\" /><path clip-path=\"url(#clip690)\" d=\"M1250.55 34.1734 Q1249.3 33.4443 1247.8 33.1202 Q1246.34 32.7556 1244.56 32.7556 Q1238.24 32.7556 1234.84 36.8875 Q1231.47 40.9789 1231.47 48.6757 L1231.47 72.576 L1223.98 72.576 L1223.98 27.2059 L1231.47 27.2059 L1231.47 34.2544 Q1233.82 30.1225 1237.59 28.1376 Q1241.36 26.1121 1246.75 26.1121 Q1247.52 26.1121 1248.45 26.2337 Q1249.38 26.3147 1250.51 26.5172 L1250.55 34.1734 Z\" fill=\"#000000\" fill-rule=\"evenodd\" fill-opacity=\"1\" /><path clip-path=\"url(#clip690)\" d=\"M1274.13 32.4315 Q1268.13 32.4315 1264.65 37.1306 Q1261.17 41.7891 1261.17 49.9314 Q1261.17 58.0738 1264.61 62.7728 Q1268.09 67.4314 1274.13 67.4314 Q1280.08 67.4314 1283.57 62.7323 Q1287.05 58.0333 1287.05 49.9314 Q1287.05 41.8701 1283.57 37.1711 Q1280.08 32.4315 1274.13 32.4315 M1274.13 26.1121 Q1283.85 26.1121 1289.4 32.4315 Q1294.95 38.7509 1294.95 49.9314 Q1294.95 61.0714 1289.4 67.4314 Q1283.85 73.7508 1274.13 73.7508 Q1264.37 73.7508 1258.82 67.4314 Q1253.31 61.0714 1253.31 49.9314 Q1253.31 38.7509 1258.82 32.4315 Q1264.37 26.1121 1274.13 26.1121 Z\" fill=\"#000000\" fill-rule=\"evenodd\" fill-opacity=\"1\" /><path clip-path=\"url(#clip690)\" d=\"M1307.31 9.54393 L1314.76 9.54393 L1314.76 72.576 L1307.31 72.576 L1307.31 9.54393 Z\" fill=\"#000000\" fill-rule=\"evenodd\" fill-opacity=\"1\" /><path clip-path=\"url(#clip690)\" d=\"M1363.94 65.7705 L1363.94 89.8329 L1356.44 89.8329 L1356.44 27.2059 L1363.94 27.2059 L1363.94 34.0924 Q1366.29 30.0415 1369.85 28.0971 Q1373.46 26.1121 1378.44 26.1121 Q1386.7 26.1121 1391.85 32.6746 Q1397.03 39.2371 1397.03 49.9314 Q1397.03 60.6258 1391.85 67.1883 Q1386.7 73.7508 1378.44 73.7508 Q1373.46 73.7508 1369.85 71.8063 Q1366.29 69.8214 1363.94 65.7705 M1389.3 49.9314 Q1389.3 41.7081 1385.89 37.0496 Q1382.53 32.3505 1376.62 32.3505 Q1370.7 32.3505 1367.3 37.0496 Q1363.94 41.7081 1363.94 49.9314 Q1363.94 58.1548 1367.3 62.8538 Q1370.7 67.5124 1376.62 67.5124 Q1382.53 67.5124 1385.89 62.8538 Q1389.3 58.1548 1389.3 49.9314 Z\" fill=\"#000000\" fill-rule=\"evenodd\" fill-opacity=\"1\" /><path clip-path=\"url(#clip690)\" d=\"M1409.39 9.54393 L1416.84 9.54393 L1416.84 72.576 L1409.39 72.576 L1409.39 9.54393 Z\" fill=\"#000000\" fill-rule=\"evenodd\" fill-opacity=\"1\" /><path clip-path=\"url(#clip690)\" d=\"M1450.02 32.4315 Q1444.03 32.4315 1440.54 37.1306 Q1437.06 41.7891 1437.06 49.9314 Q1437.06 58.0738 1440.5 62.7728 Q1443.98 67.4314 1450.02 67.4314 Q1455.98 67.4314 1459.46 62.7323 Q1462.94 58.0333 1462.94 49.9314 Q1462.94 41.8701 1459.46 37.1711 Q1455.98 32.4315 1450.02 32.4315 M1450.02 26.1121 Q1459.74 26.1121 1465.29 32.4315 Q1470.84 38.7509 1470.84 49.9314 Q1470.84 61.0714 1465.29 67.4314 Q1459.74 73.7508 1450.02 73.7508 Q1440.26 73.7508 1434.71 67.4314 Q1429.2 61.0714 1429.2 49.9314 Q1429.2 38.7509 1434.71 32.4315 Q1440.26 26.1121 1450.02 26.1121 Z\" fill=\"#000000\" fill-rule=\"evenodd\" fill-opacity=\"1\" /><path clip-path=\"url(#clip690)\" d=\"M1490.57 14.324 L1490.57 27.2059 L1505.92 27.2059 L1505.92 32.9987 L1490.57 32.9987 L1490.57 57.6282 Q1490.57 63.1779 1492.07 64.7578 Q1493.61 66.3376 1498.27 66.3376 L1505.92 66.3376 L1505.92 72.576 L1498.27 72.576 Q1489.64 72.576 1486.36 69.3758 Q1483.08 66.1351 1483.08 57.6282 L1483.08 32.9987 L1477.61 32.9987 L1477.61 27.2059 L1483.08 27.2059 L1483.08 14.324 L1490.57 14.324 Z\" fill=\"#000000\" fill-rule=\"evenodd\" fill-opacity=\"1\" /><circle clip-path=\"url(#clip692)\" cx=\"253.843\" cy=\"303.151\" r=\"14\" fill=\"#ff0000\" fill-rule=\"evenodd\" fill-opacity=\"1\" stroke=\"#000000\" stroke-opacity=\"1\" stroke-width=\"3.2\"/>\n",
       "<circle clip-path=\"url(#clip692)\" cx=\"295.43\" cy=\"178.773\" r=\"14\" fill=\"#ff0000\" fill-rule=\"evenodd\" fill-opacity=\"1\" stroke=\"#000000\" stroke-opacity=\"1\" stroke-width=\"3.2\"/>\n",
       "<circle clip-path=\"url(#clip692)\" cx=\"337.017\" cy=\"178.141\" r=\"14\" fill=\"#ff0000\" fill-rule=\"evenodd\" fill-opacity=\"1\" stroke=\"#000000\" stroke-opacity=\"1\" stroke-width=\"3.2\"/>\n",
       "<circle clip-path=\"url(#clip692)\" cx=\"378.605\" cy=\"162.21\" r=\"14\" fill=\"#ff0000\" fill-rule=\"evenodd\" fill-opacity=\"1\" stroke=\"#000000\" stroke-opacity=\"1\" stroke-width=\"3.2\"/>\n",
       "<circle clip-path=\"url(#clip692)\" cx=\"420.192\" cy=\"162.521\" r=\"14\" fill=\"#ff0000\" fill-rule=\"evenodd\" fill-opacity=\"1\" stroke=\"#000000\" stroke-opacity=\"1\" stroke-width=\"3.2\"/>\n",
       "<circle clip-path=\"url(#clip692)\" cx=\"461.779\" cy=\"175.31\" r=\"14\" fill=\"#ff0000\" fill-rule=\"evenodd\" fill-opacity=\"1\" stroke=\"#000000\" stroke-opacity=\"1\" stroke-width=\"3.2\"/>\n",
       "<circle clip-path=\"url(#clip692)\" cx=\"503.367\" cy=\"162.721\" r=\"14\" fill=\"#ff0000\" fill-rule=\"evenodd\" fill-opacity=\"1\" stroke=\"#000000\" stroke-opacity=\"1\" stroke-width=\"3.2\"/>\n",
       "<circle clip-path=\"url(#clip692)\" cx=\"544.954\" cy=\"176.705\" r=\"14\" fill=\"#ff0000\" fill-rule=\"evenodd\" fill-opacity=\"1\" stroke=\"#000000\" stroke-opacity=\"1\" stroke-width=\"3.2\"/>\n",
       "<circle clip-path=\"url(#clip692)\" cx=\"586.541\" cy=\"162.047\" r=\"14\" fill=\"#ff0000\" fill-rule=\"evenodd\" fill-opacity=\"1\" stroke=\"#000000\" stroke-opacity=\"1\" stroke-width=\"3.2\"/>\n",
       "<circle clip-path=\"url(#clip692)\" cx=\"628.129\" cy=\"187.561\" r=\"14\" fill=\"#ff0000\" fill-rule=\"evenodd\" fill-opacity=\"1\" stroke=\"#000000\" stroke-opacity=\"1\" stroke-width=\"3.2\"/>\n",
       "<circle clip-path=\"url(#clip692)\" cx=\"669.716\" cy=\"215.802\" r=\"14\" fill=\"#ff0000\" fill-rule=\"evenodd\" fill-opacity=\"1\" stroke=\"#000000\" stroke-opacity=\"1\" stroke-width=\"3.2\"/>\n",
       "<circle clip-path=\"url(#clip692)\" cx=\"711.303\" cy=\"199.202\" r=\"14\" fill=\"#ff0000\" fill-rule=\"evenodd\" fill-opacity=\"1\" stroke=\"#000000\" stroke-opacity=\"1\" stroke-width=\"3.2\"/>\n",
       "<circle clip-path=\"url(#clip692)\" cx=\"752.891\" cy=\"213.163\" r=\"14\" fill=\"#ff0000\" fill-rule=\"evenodd\" fill-opacity=\"1\" stroke=\"#000000\" stroke-opacity=\"1\" stroke-width=\"3.2\"/>\n",
       "<circle clip-path=\"url(#clip692)\" cx=\"794.478\" cy=\"236.829\" r=\"14\" fill=\"#ff0000\" fill-rule=\"evenodd\" fill-opacity=\"1\" stroke=\"#000000\" stroke-opacity=\"1\" stroke-width=\"3.2\"/>\n",
       "<circle clip-path=\"url(#clip692)\" cx=\"836.065\" cy=\"268.418\" r=\"14\" fill=\"#ff0000\" fill-rule=\"evenodd\" fill-opacity=\"1\" stroke=\"#000000\" stroke-opacity=\"1\" stroke-width=\"3.2\"/>\n",
       "<circle clip-path=\"url(#clip692)\" cx=\"877.653\" cy=\"289.723\" r=\"14\" fill=\"#ff0000\" fill-rule=\"evenodd\" fill-opacity=\"1\" stroke=\"#000000\" stroke-opacity=\"1\" stroke-width=\"3.2\"/>\n",
       "<circle clip-path=\"url(#clip692)\" cx=\"919.24\" cy=\"314.399\" r=\"14\" fill=\"#ff0000\" fill-rule=\"evenodd\" fill-opacity=\"1\" stroke=\"#000000\" stroke-opacity=\"1\" stroke-width=\"3.2\"/>\n",
       "<circle clip-path=\"url(#clip692)\" cx=\"960.827\" cy=\"339.495\" r=\"14\" fill=\"#ff0000\" fill-rule=\"evenodd\" fill-opacity=\"1\" stroke=\"#000000\" stroke-opacity=\"1\" stroke-width=\"3.2\"/>\n",
       "<circle clip-path=\"url(#clip692)\" cx=\"1002.41\" cy=\"357.848\" r=\"14\" fill=\"#ff0000\" fill-rule=\"evenodd\" fill-opacity=\"1\" stroke=\"#000000\" stroke-opacity=\"1\" stroke-width=\"3.2\"/>\n",
       "<circle clip-path=\"url(#clip692)\" cx=\"1044\" cy=\"387.285\" r=\"14\" fill=\"#ff0000\" fill-rule=\"evenodd\" fill-opacity=\"1\" stroke=\"#000000\" stroke-opacity=\"1\" stroke-width=\"3.2\"/>\n",
       "<circle clip-path=\"url(#clip692)\" cx=\"1085.59\" cy=\"403.332\" r=\"14\" fill=\"#ff0000\" fill-rule=\"evenodd\" fill-opacity=\"1\" stroke=\"#000000\" stroke-opacity=\"1\" stroke-width=\"3.2\"/>\n",
       "<circle clip-path=\"url(#clip692)\" cx=\"1127.18\" cy=\"431.333\" r=\"14\" fill=\"#ff0000\" fill-rule=\"evenodd\" fill-opacity=\"1\" stroke=\"#000000\" stroke-opacity=\"1\" stroke-width=\"3.2\"/>\n",
       "<circle clip-path=\"url(#clip692)\" cx=\"1168.76\" cy=\"449.939\" r=\"14\" fill=\"#ff0000\" fill-rule=\"evenodd\" fill-opacity=\"1\" stroke=\"#000000\" stroke-opacity=\"1\" stroke-width=\"3.2\"/>\n",
       "<circle clip-path=\"url(#clip692)\" cx=\"1210.35\" cy=\"478.885\" r=\"14\" fill=\"#ff0000\" fill-rule=\"evenodd\" fill-opacity=\"1\" stroke=\"#000000\" stroke-opacity=\"1\" stroke-width=\"3.2\"/>\n",
       "<circle clip-path=\"url(#clip692)\" cx=\"1251.94\" cy=\"498.695\" r=\"14\" fill=\"#ff0000\" fill-rule=\"evenodd\" fill-opacity=\"1\" stroke=\"#000000\" stroke-opacity=\"1\" stroke-width=\"3.2\"/>\n",
       "<circle clip-path=\"url(#clip692)\" cx=\"1293.53\" cy=\"528.632\" r=\"14\" fill=\"#ff0000\" fill-rule=\"evenodd\" fill-opacity=\"1\" stroke=\"#000000\" stroke-opacity=\"1\" stroke-width=\"3.2\"/>\n",
       "<circle clip-path=\"url(#clip692)\" cx=\"1335.11\" cy=\"545.171\" r=\"14\" fill=\"#ff0000\" fill-rule=\"evenodd\" fill-opacity=\"1\" stroke=\"#000000\" stroke-opacity=\"1\" stroke-width=\"3.2\"/>\n",
       "<circle clip-path=\"url(#clip692)\" cx=\"1376.7\" cy=\"576.234\" r=\"14\" fill=\"#ff0000\" fill-rule=\"evenodd\" fill-opacity=\"1\" stroke=\"#000000\" stroke-opacity=\"1\" stroke-width=\"3.2\"/>\n",
       "<circle clip-path=\"url(#clip692)\" cx=\"1418.29\" cy=\"597.586\" r=\"14\" fill=\"#ff0000\" fill-rule=\"evenodd\" fill-opacity=\"1\" stroke=\"#000000\" stroke-opacity=\"1\" stroke-width=\"3.2\"/>\n",
       "<circle clip-path=\"url(#clip692)\" cx=\"1459.88\" cy=\"628.424\" r=\"14\" fill=\"#ff0000\" fill-rule=\"evenodd\" fill-opacity=\"1\" stroke=\"#000000\" stroke-opacity=\"1\" stroke-width=\"3.2\"/>\n",
       "<circle clip-path=\"url(#clip692)\" cx=\"1501.46\" cy=\"645.304\" r=\"14\" fill=\"#ff0000\" fill-rule=\"evenodd\" fill-opacity=\"1\" stroke=\"#000000\" stroke-opacity=\"1\" stroke-width=\"3.2\"/>\n",
       "<circle clip-path=\"url(#clip692)\" cx=\"1543.05\" cy=\"674.934\" r=\"14\" fill=\"#ff0000\" fill-rule=\"evenodd\" fill-opacity=\"1\" stroke=\"#000000\" stroke-opacity=\"1\" stroke-width=\"3.2\"/>\n",
       "<circle clip-path=\"url(#clip692)\" cx=\"1584.64\" cy=\"709.166\" r=\"14\" fill=\"#ff0000\" fill-rule=\"evenodd\" fill-opacity=\"1\" stroke=\"#000000\" stroke-opacity=\"1\" stroke-width=\"3.2\"/>\n",
       "<circle clip-path=\"url(#clip692)\" cx=\"1626.22\" cy=\"740.025\" r=\"14\" fill=\"#ff0000\" fill-rule=\"evenodd\" fill-opacity=\"1\" stroke=\"#000000\" stroke-opacity=\"1\" stroke-width=\"3.2\"/>\n",
       "<circle clip-path=\"url(#clip692)\" cx=\"1667.81\" cy=\"777.324\" r=\"14\" fill=\"#ff0000\" fill-rule=\"evenodd\" fill-opacity=\"1\" stroke=\"#000000\" stroke-opacity=\"1\" stroke-width=\"3.2\"/>\n",
       "<circle clip-path=\"url(#clip692)\" cx=\"1709.4\" cy=\"816.655\" r=\"14\" fill=\"#ff0000\" fill-rule=\"evenodd\" fill-opacity=\"1\" stroke=\"#000000\" stroke-opacity=\"1\" stroke-width=\"3.2\"/>\n",
       "<circle clip-path=\"url(#clip692)\" cx=\"1750.99\" cy=\"855.661\" r=\"14\" fill=\"#ff0000\" fill-rule=\"evenodd\" fill-opacity=\"1\" stroke=\"#000000\" stroke-opacity=\"1\" stroke-width=\"3.2\"/>\n",
       "<circle clip-path=\"url(#clip692)\" cx=\"1792.57\" cy=\"892.805\" r=\"14\" fill=\"#ff0000\" fill-rule=\"evenodd\" fill-opacity=\"1\" stroke=\"#000000\" stroke-opacity=\"1\" stroke-width=\"3.2\"/>\n",
       "<circle clip-path=\"url(#clip692)\" cx=\"1834.16\" cy=\"930.418\" r=\"14\" fill=\"#ff0000\" fill-rule=\"evenodd\" fill-opacity=\"1\" stroke=\"#000000\" stroke-opacity=\"1\" stroke-width=\"3.2\"/>\n",
       "<circle clip-path=\"url(#clip692)\" cx=\"1875.75\" cy=\"971.668\" r=\"14\" fill=\"#ff0000\" fill-rule=\"evenodd\" fill-opacity=\"1\" stroke=\"#000000\" stroke-opacity=\"1\" stroke-width=\"3.2\"/>\n",
       "<circle clip-path=\"url(#clip692)\" cx=\"1917.34\" cy=\"1012.31\" r=\"14\" fill=\"#ff0000\" fill-rule=\"evenodd\" fill-opacity=\"1\" stroke=\"#000000\" stroke-opacity=\"1\" stroke-width=\"3.2\"/>\n",
       "<circle clip-path=\"url(#clip692)\" cx=\"1958.92\" cy=\"1051.72\" r=\"14\" fill=\"#ff0000\" fill-rule=\"evenodd\" fill-opacity=\"1\" stroke=\"#000000\" stroke-opacity=\"1\" stroke-width=\"3.2\"/>\n",
       "<circle clip-path=\"url(#clip692)\" cx=\"2000.51\" cy=\"1104.02\" r=\"14\" fill=\"#ff0000\" fill-rule=\"evenodd\" fill-opacity=\"1\" stroke=\"#000000\" stroke-opacity=\"1\" stroke-width=\"3.2\"/>\n",
       "<circle clip-path=\"url(#clip692)\" cx=\"2042.1\" cy=\"1145.07\" r=\"14\" fill=\"#ff0000\" fill-rule=\"evenodd\" fill-opacity=\"1\" stroke=\"#000000\" stroke-opacity=\"1\" stroke-width=\"3.2\"/>\n",
       "<circle clip-path=\"url(#clip692)\" cx=\"2083.69\" cy=\"1190.41\" r=\"14\" fill=\"#ff0000\" fill-rule=\"evenodd\" fill-opacity=\"1\" stroke=\"#000000\" stroke-opacity=\"1\" stroke-width=\"3.2\"/>\n",
       "<circle clip-path=\"url(#clip692)\" cx=\"2125.27\" cy=\"1235.99\" r=\"14\" fill=\"#ff0000\" fill-rule=\"evenodd\" fill-opacity=\"1\" stroke=\"#000000\" stroke-opacity=\"1\" stroke-width=\"3.2\"/>\n",
       "<circle clip-path=\"url(#clip692)\" cx=\"2166.86\" cy=\"1285.08\" r=\"14\" fill=\"#ff0000\" fill-rule=\"evenodd\" fill-opacity=\"1\" stroke=\"#000000\" stroke-opacity=\"1\" stroke-width=\"3.2\"/>\n",
       "<circle clip-path=\"url(#clip692)\" cx=\"2208.45\" cy=\"1314.14\" r=\"14\" fill=\"#ff0000\" fill-rule=\"evenodd\" fill-opacity=\"1\" stroke=\"#000000\" stroke-opacity=\"1\" stroke-width=\"3.2\"/>\n",
       "<circle clip-path=\"url(#clip692)\" cx=\"2250.04\" cy=\"1355.86\" r=\"14\" fill=\"#ff0000\" fill-rule=\"evenodd\" fill-opacity=\"1\" stroke=\"#000000\" stroke-opacity=\"1\" stroke-width=\"3.2\"/>\n",
       "<circle clip-path=\"url(#clip692)\" cx=\"2291.62\" cy=\"1431.15\" r=\"14\" fill=\"#ff0000\" fill-rule=\"evenodd\" fill-opacity=\"1\" stroke=\"#000000\" stroke-opacity=\"1\" stroke-width=\"3.2\"/>\n",
       "<line clip-path=\"url(#clip692)\" x1=\"253.843\" y1=\"218.611\" x2=\"237.843\" y2=\"202.611\" style=\"stroke:#0000ff; stroke-width:3.2; stroke-opacity:1\"/>\n",
       "<line clip-path=\"url(#clip692)\" x1=\"253.843\" y1=\"218.611\" x2=\"237.843\" y2=\"234.611\" style=\"stroke:#0000ff; stroke-width:3.2; stroke-opacity:1\"/>\n",
       "<line clip-path=\"url(#clip692)\" x1=\"253.843\" y1=\"218.611\" x2=\"269.843\" y2=\"234.611\" style=\"stroke:#0000ff; stroke-width:3.2; stroke-opacity:1\"/>\n",
       "<line clip-path=\"url(#clip692)\" x1=\"253.843\" y1=\"218.611\" x2=\"269.843\" y2=\"202.611\" style=\"stroke:#0000ff; stroke-width:3.2; stroke-opacity:1\"/>\n",
       "<line clip-path=\"url(#clip692)\" x1=\"295.43\" y1=\"210.021\" x2=\"279.43\" y2=\"194.021\" style=\"stroke:#0000ff; stroke-width:3.2; stroke-opacity:1\"/>\n",
       "<line clip-path=\"url(#clip692)\" x1=\"295.43\" y1=\"210.021\" x2=\"279.43\" y2=\"226.021\" style=\"stroke:#0000ff; stroke-width:3.2; stroke-opacity:1\"/>\n",
       "<line clip-path=\"url(#clip692)\" x1=\"295.43\" y1=\"210.021\" x2=\"311.43\" y2=\"226.021\" style=\"stroke:#0000ff; stroke-width:3.2; stroke-opacity:1\"/>\n",
       "<line clip-path=\"url(#clip692)\" x1=\"295.43\" y1=\"210.021\" x2=\"311.43\" y2=\"194.021\" style=\"stroke:#0000ff; stroke-width:3.2; stroke-opacity:1\"/>\n",
       "<line clip-path=\"url(#clip692)\" x1=\"337.017\" y1=\"196.756\" x2=\"321.017\" y2=\"180.756\" style=\"stroke:#0000ff; stroke-width:3.2; stroke-opacity:1\"/>\n",
       "<line clip-path=\"url(#clip692)\" x1=\"337.017\" y1=\"196.756\" x2=\"321.017\" y2=\"212.756\" style=\"stroke:#0000ff; stroke-width:3.2; stroke-opacity:1\"/>\n",
       "<line clip-path=\"url(#clip692)\" x1=\"337.017\" y1=\"196.756\" x2=\"353.017\" y2=\"212.756\" style=\"stroke:#0000ff; stroke-width:3.2; stroke-opacity:1\"/>\n",
       "<line clip-path=\"url(#clip692)\" x1=\"337.017\" y1=\"196.756\" x2=\"353.017\" y2=\"180.756\" style=\"stroke:#0000ff; stroke-width:3.2; stroke-opacity:1\"/>\n",
       "<line clip-path=\"url(#clip692)\" x1=\"378.605\" y1=\"216.117\" x2=\"362.605\" y2=\"200.117\" style=\"stroke:#0000ff; stroke-width:3.2; stroke-opacity:1\"/>\n",
       "<line clip-path=\"url(#clip692)\" x1=\"378.605\" y1=\"216.117\" x2=\"362.605\" y2=\"232.117\" style=\"stroke:#0000ff; stroke-width:3.2; stroke-opacity:1\"/>\n",
       "<line clip-path=\"url(#clip692)\" x1=\"378.605\" y1=\"216.117\" x2=\"394.605\" y2=\"232.117\" style=\"stroke:#0000ff; stroke-width:3.2; stroke-opacity:1\"/>\n",
       "<line clip-path=\"url(#clip692)\" x1=\"378.605\" y1=\"216.117\" x2=\"394.605\" y2=\"200.117\" style=\"stroke:#0000ff; stroke-width:3.2; stroke-opacity:1\"/>\n",
       "<line clip-path=\"url(#clip692)\" x1=\"420.192\" y1=\"216.958\" x2=\"404.192\" y2=\"200.958\" style=\"stroke:#0000ff; stroke-width:3.2; stroke-opacity:1\"/>\n",
       "<line clip-path=\"url(#clip692)\" x1=\"420.192\" y1=\"216.958\" x2=\"404.192\" y2=\"232.958\" style=\"stroke:#0000ff; stroke-width:3.2; stroke-opacity:1\"/>\n",
       "<line clip-path=\"url(#clip692)\" x1=\"420.192\" y1=\"216.958\" x2=\"436.192\" y2=\"232.958\" style=\"stroke:#0000ff; stroke-width:3.2; stroke-opacity:1\"/>\n",
       "<line clip-path=\"url(#clip692)\" x1=\"420.192\" y1=\"216.958\" x2=\"436.192\" y2=\"200.958\" style=\"stroke:#0000ff; stroke-width:3.2; stroke-opacity:1\"/>\n",
       "<line clip-path=\"url(#clip692)\" x1=\"461.779\" y1=\"223.198\" x2=\"445.779\" y2=\"207.198\" style=\"stroke:#0000ff; stroke-width:3.2; stroke-opacity:1\"/>\n",
       "<line clip-path=\"url(#clip692)\" x1=\"461.779\" y1=\"223.198\" x2=\"445.779\" y2=\"239.198\" style=\"stroke:#0000ff; stroke-width:3.2; stroke-opacity:1\"/>\n",
       "<line clip-path=\"url(#clip692)\" x1=\"461.779\" y1=\"223.198\" x2=\"477.779\" y2=\"239.198\" style=\"stroke:#0000ff; stroke-width:3.2; stroke-opacity:1\"/>\n",
       "<line clip-path=\"url(#clip692)\" x1=\"461.779\" y1=\"223.198\" x2=\"477.779\" y2=\"207.198\" style=\"stroke:#0000ff; stroke-width:3.2; stroke-opacity:1\"/>\n",
       "<line clip-path=\"url(#clip692)\" x1=\"503.367\" y1=\"242.854\" x2=\"487.367\" y2=\"226.854\" style=\"stroke:#0000ff; stroke-width:3.2; stroke-opacity:1\"/>\n",
       "<line clip-path=\"url(#clip692)\" x1=\"503.367\" y1=\"242.854\" x2=\"487.367\" y2=\"258.854\" style=\"stroke:#0000ff; stroke-width:3.2; stroke-opacity:1\"/>\n",
       "<line clip-path=\"url(#clip692)\" x1=\"503.367\" y1=\"242.854\" x2=\"519.367\" y2=\"258.854\" style=\"stroke:#0000ff; stroke-width:3.2; stroke-opacity:1\"/>\n",
       "<line clip-path=\"url(#clip692)\" x1=\"503.367\" y1=\"242.854\" x2=\"519.367\" y2=\"226.854\" style=\"stroke:#0000ff; stroke-width:3.2; stroke-opacity:1\"/>\n",
       "<line clip-path=\"url(#clip692)\" x1=\"544.954\" y1=\"247.577\" x2=\"528.954\" y2=\"231.577\" style=\"stroke:#0000ff; stroke-width:3.2; stroke-opacity:1\"/>\n",
       "<line clip-path=\"url(#clip692)\" x1=\"544.954\" y1=\"247.577\" x2=\"528.954\" y2=\"263.577\" style=\"stroke:#0000ff; stroke-width:3.2; stroke-opacity:1\"/>\n",
       "<line clip-path=\"url(#clip692)\" x1=\"544.954\" y1=\"247.577\" x2=\"560.954\" y2=\"263.577\" style=\"stroke:#0000ff; stroke-width:3.2; stroke-opacity:1\"/>\n",
       "<line clip-path=\"url(#clip692)\" x1=\"544.954\" y1=\"247.577\" x2=\"560.954\" y2=\"231.577\" style=\"stroke:#0000ff; stroke-width:3.2; stroke-opacity:1\"/>\n",
       "<line clip-path=\"url(#clip692)\" x1=\"586.541\" y1=\"260.714\" x2=\"570.541\" y2=\"244.714\" style=\"stroke:#0000ff; stroke-width:3.2; stroke-opacity:1\"/>\n",
       "<line clip-path=\"url(#clip692)\" x1=\"586.541\" y1=\"260.714\" x2=\"570.541\" y2=\"276.714\" style=\"stroke:#0000ff; stroke-width:3.2; stroke-opacity:1\"/>\n",
       "<line clip-path=\"url(#clip692)\" x1=\"586.541\" y1=\"260.714\" x2=\"602.541\" y2=\"276.714\" style=\"stroke:#0000ff; stroke-width:3.2; stroke-opacity:1\"/>\n",
       "<line clip-path=\"url(#clip692)\" x1=\"586.541\" y1=\"260.714\" x2=\"602.541\" y2=\"244.714\" style=\"stroke:#0000ff; stroke-width:3.2; stroke-opacity:1\"/>\n",
       "<line clip-path=\"url(#clip692)\" x1=\"628.129\" y1=\"278.634\" x2=\"612.129\" y2=\"262.634\" style=\"stroke:#0000ff; stroke-width:3.2; stroke-opacity:1\"/>\n",
       "<line clip-path=\"url(#clip692)\" x1=\"628.129\" y1=\"278.634\" x2=\"612.129\" y2=\"294.634\" style=\"stroke:#0000ff; stroke-width:3.2; stroke-opacity:1\"/>\n",
       "<line clip-path=\"url(#clip692)\" x1=\"628.129\" y1=\"278.634\" x2=\"644.129\" y2=\"294.634\" style=\"stroke:#0000ff; stroke-width:3.2; stroke-opacity:1\"/>\n",
       "<line clip-path=\"url(#clip692)\" x1=\"628.129\" y1=\"278.634\" x2=\"644.129\" y2=\"262.634\" style=\"stroke:#0000ff; stroke-width:3.2; stroke-opacity:1\"/>\n",
       "<line clip-path=\"url(#clip692)\" x1=\"669.716\" y1=\"290.964\" x2=\"653.716\" y2=\"274.964\" style=\"stroke:#0000ff; stroke-width:3.2; stroke-opacity:1\"/>\n",
       "<line clip-path=\"url(#clip692)\" x1=\"669.716\" y1=\"290.964\" x2=\"653.716\" y2=\"306.964\" style=\"stroke:#0000ff; stroke-width:3.2; stroke-opacity:1\"/>\n",
       "<line clip-path=\"url(#clip692)\" x1=\"669.716\" y1=\"290.964\" x2=\"685.716\" y2=\"306.964\" style=\"stroke:#0000ff; stroke-width:3.2; stroke-opacity:1\"/>\n",
       "<line clip-path=\"url(#clip692)\" x1=\"669.716\" y1=\"290.964\" x2=\"685.716\" y2=\"274.964\" style=\"stroke:#0000ff; stroke-width:3.2; stroke-opacity:1\"/>\n",
       "<line clip-path=\"url(#clip692)\" x1=\"711.303\" y1=\"298.367\" x2=\"695.303\" y2=\"282.367\" style=\"stroke:#0000ff; stroke-width:3.2; stroke-opacity:1\"/>\n",
       "<line clip-path=\"url(#clip692)\" x1=\"711.303\" y1=\"298.367\" x2=\"695.303\" y2=\"314.367\" style=\"stroke:#0000ff; stroke-width:3.2; stroke-opacity:1\"/>\n",
       "<line clip-path=\"url(#clip692)\" x1=\"711.303\" y1=\"298.367\" x2=\"727.303\" y2=\"314.367\" style=\"stroke:#0000ff; stroke-width:3.2; stroke-opacity:1\"/>\n",
       "<line clip-path=\"url(#clip692)\" x1=\"711.303\" y1=\"298.367\" x2=\"727.303\" y2=\"282.367\" style=\"stroke:#0000ff; stroke-width:3.2; stroke-opacity:1\"/>\n",
       "<line clip-path=\"url(#clip692)\" x1=\"752.891\" y1=\"301.022\" x2=\"736.891\" y2=\"285.022\" style=\"stroke:#0000ff; stroke-width:3.2; stroke-opacity:1\"/>\n",
       "<line clip-path=\"url(#clip692)\" x1=\"752.891\" y1=\"301.022\" x2=\"736.891\" y2=\"317.022\" style=\"stroke:#0000ff; stroke-width:3.2; stroke-opacity:1\"/>\n",
       "<line clip-path=\"url(#clip692)\" x1=\"752.891\" y1=\"301.022\" x2=\"768.891\" y2=\"317.022\" style=\"stroke:#0000ff; stroke-width:3.2; stroke-opacity:1\"/>\n",
       "<line clip-path=\"url(#clip692)\" x1=\"752.891\" y1=\"301.022\" x2=\"768.891\" y2=\"285.022\" style=\"stroke:#0000ff; stroke-width:3.2; stroke-opacity:1\"/>\n",
       "<line clip-path=\"url(#clip692)\" x1=\"794.478\" y1=\"320.795\" x2=\"778.478\" y2=\"304.795\" style=\"stroke:#0000ff; stroke-width:3.2; stroke-opacity:1\"/>\n",
       "<line clip-path=\"url(#clip692)\" x1=\"794.478\" y1=\"320.795\" x2=\"778.478\" y2=\"336.795\" style=\"stroke:#0000ff; stroke-width:3.2; stroke-opacity:1\"/>\n",
       "<line clip-path=\"url(#clip692)\" x1=\"794.478\" y1=\"320.795\" x2=\"810.478\" y2=\"336.795\" style=\"stroke:#0000ff; stroke-width:3.2; stroke-opacity:1\"/>\n",
       "<line clip-path=\"url(#clip692)\" x1=\"794.478\" y1=\"320.795\" x2=\"810.478\" y2=\"304.795\" style=\"stroke:#0000ff; stroke-width:3.2; stroke-opacity:1\"/>\n",
       "<line clip-path=\"url(#clip692)\" x1=\"836.065\" y1=\"324.989\" x2=\"820.065\" y2=\"308.989\" style=\"stroke:#0000ff; stroke-width:3.2; stroke-opacity:1\"/>\n",
       "<line clip-path=\"url(#clip692)\" x1=\"836.065\" y1=\"324.989\" x2=\"820.065\" y2=\"340.989\" style=\"stroke:#0000ff; stroke-width:3.2; stroke-opacity:1\"/>\n",
       "<line clip-path=\"url(#clip692)\" x1=\"836.065\" y1=\"324.989\" x2=\"852.065\" y2=\"340.989\" style=\"stroke:#0000ff; stroke-width:3.2; stroke-opacity:1\"/>\n",
       "<line clip-path=\"url(#clip692)\" x1=\"836.065\" y1=\"324.989\" x2=\"852.065\" y2=\"308.989\" style=\"stroke:#0000ff; stroke-width:3.2; stroke-opacity:1\"/>\n",
       "<line clip-path=\"url(#clip692)\" x1=\"877.653\" y1=\"349.627\" x2=\"861.653\" y2=\"333.627\" style=\"stroke:#0000ff; stroke-width:3.2; stroke-opacity:1\"/>\n",
       "<line clip-path=\"url(#clip692)\" x1=\"877.653\" y1=\"349.627\" x2=\"861.653\" y2=\"365.627\" style=\"stroke:#0000ff; stroke-width:3.2; stroke-opacity:1\"/>\n",
       "<line clip-path=\"url(#clip692)\" x1=\"877.653\" y1=\"349.627\" x2=\"893.653\" y2=\"365.627\" style=\"stroke:#0000ff; stroke-width:3.2; stroke-opacity:1\"/>\n",
       "<line clip-path=\"url(#clip692)\" x1=\"877.653\" y1=\"349.627\" x2=\"893.653\" y2=\"333.627\" style=\"stroke:#0000ff; stroke-width:3.2; stroke-opacity:1\"/>\n",
       "<line clip-path=\"url(#clip692)\" x1=\"919.24\" y1=\"372.724\" x2=\"903.24\" y2=\"356.724\" style=\"stroke:#0000ff; stroke-width:3.2; stroke-opacity:1\"/>\n",
       "<line clip-path=\"url(#clip692)\" x1=\"919.24\" y1=\"372.724\" x2=\"903.24\" y2=\"388.724\" style=\"stroke:#0000ff; stroke-width:3.2; stroke-opacity:1\"/>\n",
       "<line clip-path=\"url(#clip692)\" x1=\"919.24\" y1=\"372.724\" x2=\"935.24\" y2=\"388.724\" style=\"stroke:#0000ff; stroke-width:3.2; stroke-opacity:1\"/>\n",
       "<line clip-path=\"url(#clip692)\" x1=\"919.24\" y1=\"372.724\" x2=\"935.24\" y2=\"356.724\" style=\"stroke:#0000ff; stroke-width:3.2; stroke-opacity:1\"/>\n",
       "<line clip-path=\"url(#clip692)\" x1=\"960.827\" y1=\"385.303\" x2=\"944.827\" y2=\"369.303\" style=\"stroke:#0000ff; stroke-width:3.2; stroke-opacity:1\"/>\n",
       "<line clip-path=\"url(#clip692)\" x1=\"960.827\" y1=\"385.303\" x2=\"944.827\" y2=\"401.303\" style=\"stroke:#0000ff; stroke-width:3.2; stroke-opacity:1\"/>\n",
       "<line clip-path=\"url(#clip692)\" x1=\"960.827\" y1=\"385.303\" x2=\"976.827\" y2=\"401.303\" style=\"stroke:#0000ff; stroke-width:3.2; stroke-opacity:1\"/>\n",
       "<line clip-path=\"url(#clip692)\" x1=\"960.827\" y1=\"385.303\" x2=\"976.827\" y2=\"369.303\" style=\"stroke:#0000ff; stroke-width:3.2; stroke-opacity:1\"/>\n",
       "<line clip-path=\"url(#clip692)\" x1=\"1002.41\" y1=\"411.469\" x2=\"986.415\" y2=\"395.469\" style=\"stroke:#0000ff; stroke-width:3.2; stroke-opacity:1\"/>\n",
       "<line clip-path=\"url(#clip692)\" x1=\"1002.41\" y1=\"411.469\" x2=\"986.415\" y2=\"427.469\" style=\"stroke:#0000ff; stroke-width:3.2; stroke-opacity:1\"/>\n",
       "<line clip-path=\"url(#clip692)\" x1=\"1002.41\" y1=\"411.469\" x2=\"1018.41\" y2=\"427.469\" style=\"stroke:#0000ff; stroke-width:3.2; stroke-opacity:1\"/>\n",
       "<line clip-path=\"url(#clip692)\" x1=\"1002.41\" y1=\"411.469\" x2=\"1018.41\" y2=\"395.469\" style=\"stroke:#0000ff; stroke-width:3.2; stroke-opacity:1\"/>\n",
       "<line clip-path=\"url(#clip692)\" x1=\"1044\" y1=\"418.679\" x2=\"1028\" y2=\"402.679\" style=\"stroke:#0000ff; stroke-width:3.2; stroke-opacity:1\"/>\n",
       "<line clip-path=\"url(#clip692)\" x1=\"1044\" y1=\"418.679\" x2=\"1028\" y2=\"434.679\" style=\"stroke:#0000ff; stroke-width:3.2; stroke-opacity:1\"/>\n",
       "<line clip-path=\"url(#clip692)\" x1=\"1044\" y1=\"418.679\" x2=\"1060\" y2=\"434.679\" style=\"stroke:#0000ff; stroke-width:3.2; stroke-opacity:1\"/>\n",
       "<line clip-path=\"url(#clip692)\" x1=\"1044\" y1=\"418.679\" x2=\"1060\" y2=\"402.679\" style=\"stroke:#0000ff; stroke-width:3.2; stroke-opacity:1\"/>\n",
       "<line clip-path=\"url(#clip692)\" x1=\"1085.59\" y1=\"444.47\" x2=\"1069.59\" y2=\"428.47\" style=\"stroke:#0000ff; stroke-width:3.2; stroke-opacity:1\"/>\n",
       "<line clip-path=\"url(#clip692)\" x1=\"1085.59\" y1=\"444.47\" x2=\"1069.59\" y2=\"460.47\" style=\"stroke:#0000ff; stroke-width:3.2; stroke-opacity:1\"/>\n",
       "<line clip-path=\"url(#clip692)\" x1=\"1085.59\" y1=\"444.47\" x2=\"1101.59\" y2=\"460.47\" style=\"stroke:#0000ff; stroke-width:3.2; stroke-opacity:1\"/>\n",
       "<line clip-path=\"url(#clip692)\" x1=\"1085.59\" y1=\"444.47\" x2=\"1101.59\" y2=\"428.47\" style=\"stroke:#0000ff; stroke-width:3.2; stroke-opacity:1\"/>\n",
       "<line clip-path=\"url(#clip692)\" x1=\"1127.18\" y1=\"468.22\" x2=\"1111.18\" y2=\"452.22\" style=\"stroke:#0000ff; stroke-width:3.2; stroke-opacity:1\"/>\n",
       "<line clip-path=\"url(#clip692)\" x1=\"1127.18\" y1=\"468.22\" x2=\"1111.18\" y2=\"484.22\" style=\"stroke:#0000ff; stroke-width:3.2; stroke-opacity:1\"/>\n",
       "<line clip-path=\"url(#clip692)\" x1=\"1127.18\" y1=\"468.22\" x2=\"1143.18\" y2=\"484.22\" style=\"stroke:#0000ff; stroke-width:3.2; stroke-opacity:1\"/>\n",
       "<line clip-path=\"url(#clip692)\" x1=\"1127.18\" y1=\"468.22\" x2=\"1143.18\" y2=\"452.22\" style=\"stroke:#0000ff; stroke-width:3.2; stroke-opacity:1\"/>\n",
       "<line clip-path=\"url(#clip692)\" x1=\"1168.76\" y1=\"492.188\" x2=\"1152.76\" y2=\"476.188\" style=\"stroke:#0000ff; stroke-width:3.2; stroke-opacity:1\"/>\n",
       "<line clip-path=\"url(#clip692)\" x1=\"1168.76\" y1=\"492.188\" x2=\"1152.76\" y2=\"508.188\" style=\"stroke:#0000ff; stroke-width:3.2; stroke-opacity:1\"/>\n",
       "<line clip-path=\"url(#clip692)\" x1=\"1168.76\" y1=\"492.188\" x2=\"1184.76\" y2=\"508.188\" style=\"stroke:#0000ff; stroke-width:3.2; stroke-opacity:1\"/>\n",
       "<line clip-path=\"url(#clip692)\" x1=\"1168.76\" y1=\"492.188\" x2=\"1184.76\" y2=\"476.188\" style=\"stroke:#0000ff; stroke-width:3.2; stroke-opacity:1\"/>\n",
       "<line clip-path=\"url(#clip692)\" x1=\"1210.35\" y1=\"514.638\" x2=\"1194.35\" y2=\"498.638\" style=\"stroke:#0000ff; stroke-width:3.2; stroke-opacity:1\"/>\n",
       "<line clip-path=\"url(#clip692)\" x1=\"1210.35\" y1=\"514.638\" x2=\"1194.35\" y2=\"530.638\" style=\"stroke:#0000ff; stroke-width:3.2; stroke-opacity:1\"/>\n",
       "<line clip-path=\"url(#clip692)\" x1=\"1210.35\" y1=\"514.638\" x2=\"1226.35\" y2=\"530.638\" style=\"stroke:#0000ff; stroke-width:3.2; stroke-opacity:1\"/>\n",
       "<line clip-path=\"url(#clip692)\" x1=\"1210.35\" y1=\"514.638\" x2=\"1226.35\" y2=\"498.638\" style=\"stroke:#0000ff; stroke-width:3.2; stroke-opacity:1\"/>\n",
       "<line clip-path=\"url(#clip692)\" x1=\"1251.94\" y1=\"541.993\" x2=\"1235.94\" y2=\"525.993\" style=\"stroke:#0000ff; stroke-width:3.2; stroke-opacity:1\"/>\n",
       "<line clip-path=\"url(#clip692)\" x1=\"1251.94\" y1=\"541.993\" x2=\"1235.94\" y2=\"557.993\" style=\"stroke:#0000ff; stroke-width:3.2; stroke-opacity:1\"/>\n",
       "<line clip-path=\"url(#clip692)\" x1=\"1251.94\" y1=\"541.993\" x2=\"1267.94\" y2=\"557.993\" style=\"stroke:#0000ff; stroke-width:3.2; stroke-opacity:1\"/>\n",
       "<line clip-path=\"url(#clip692)\" x1=\"1251.94\" y1=\"541.993\" x2=\"1267.94\" y2=\"525.993\" style=\"stroke:#0000ff; stroke-width:3.2; stroke-opacity:1\"/>\n",
       "<line clip-path=\"url(#clip692)\" x1=\"1293.53\" y1=\"562.188\" x2=\"1277.53\" y2=\"546.188\" style=\"stroke:#0000ff; stroke-width:3.2; stroke-opacity:1\"/>\n",
       "<line clip-path=\"url(#clip692)\" x1=\"1293.53\" y1=\"562.188\" x2=\"1277.53\" y2=\"578.188\" style=\"stroke:#0000ff; stroke-width:3.2; stroke-opacity:1\"/>\n",
       "<line clip-path=\"url(#clip692)\" x1=\"1293.53\" y1=\"562.188\" x2=\"1309.53\" y2=\"578.188\" style=\"stroke:#0000ff; stroke-width:3.2; stroke-opacity:1\"/>\n",
       "<line clip-path=\"url(#clip692)\" x1=\"1293.53\" y1=\"562.188\" x2=\"1309.53\" y2=\"546.188\" style=\"stroke:#0000ff; stroke-width:3.2; stroke-opacity:1\"/>\n",
       "<line clip-path=\"url(#clip692)\" x1=\"1335.11\" y1=\"592.279\" x2=\"1319.11\" y2=\"576.279\" style=\"stroke:#0000ff; stroke-width:3.2; stroke-opacity:1\"/>\n",
       "<line clip-path=\"url(#clip692)\" x1=\"1335.11\" y1=\"592.279\" x2=\"1319.11\" y2=\"608.279\" style=\"stroke:#0000ff; stroke-width:3.2; stroke-opacity:1\"/>\n",
       "<line clip-path=\"url(#clip692)\" x1=\"1335.11\" y1=\"592.279\" x2=\"1351.11\" y2=\"608.279\" style=\"stroke:#0000ff; stroke-width:3.2; stroke-opacity:1\"/>\n",
       "<line clip-path=\"url(#clip692)\" x1=\"1335.11\" y1=\"592.279\" x2=\"1351.11\" y2=\"576.279\" style=\"stroke:#0000ff; stroke-width:3.2; stroke-opacity:1\"/>\n",
       "<line clip-path=\"url(#clip692)\" x1=\"1376.7\" y1=\"622.52\" x2=\"1360.7\" y2=\"606.52\" style=\"stroke:#0000ff; stroke-width:3.2; stroke-opacity:1\"/>\n",
       "<line clip-path=\"url(#clip692)\" x1=\"1376.7\" y1=\"622.52\" x2=\"1360.7\" y2=\"638.52\" style=\"stroke:#0000ff; stroke-width:3.2; stroke-opacity:1\"/>\n",
       "<line clip-path=\"url(#clip692)\" x1=\"1376.7\" y1=\"622.52\" x2=\"1392.7\" y2=\"638.52\" style=\"stroke:#0000ff; stroke-width:3.2; stroke-opacity:1\"/>\n",
       "<line clip-path=\"url(#clip692)\" x1=\"1376.7\" y1=\"622.52\" x2=\"1392.7\" y2=\"606.52\" style=\"stroke:#0000ff; stroke-width:3.2; stroke-opacity:1\"/>\n",
       "<line clip-path=\"url(#clip692)\" x1=\"1418.29\" y1=\"653.294\" x2=\"1402.29\" y2=\"637.294\" style=\"stroke:#0000ff; stroke-width:3.2; stroke-opacity:1\"/>\n",
       "<line clip-path=\"url(#clip692)\" x1=\"1418.29\" y1=\"653.294\" x2=\"1402.29\" y2=\"669.294\" style=\"stroke:#0000ff; stroke-width:3.2; stroke-opacity:1\"/>\n",
       "<line clip-path=\"url(#clip692)\" x1=\"1418.29\" y1=\"653.294\" x2=\"1434.29\" y2=\"669.294\" style=\"stroke:#0000ff; stroke-width:3.2; stroke-opacity:1\"/>\n",
       "<line clip-path=\"url(#clip692)\" x1=\"1418.29\" y1=\"653.294\" x2=\"1434.29\" y2=\"637.294\" style=\"stroke:#0000ff; stroke-width:3.2; stroke-opacity:1\"/>\n",
       "<line clip-path=\"url(#clip692)\" x1=\"1459.88\" y1=\"682.217\" x2=\"1443.88\" y2=\"666.217\" style=\"stroke:#0000ff; stroke-width:3.2; stroke-opacity:1\"/>\n",
       "<line clip-path=\"url(#clip692)\" x1=\"1459.88\" y1=\"682.217\" x2=\"1443.88\" y2=\"698.217\" style=\"stroke:#0000ff; stroke-width:3.2; stroke-opacity:1\"/>\n",
       "<line clip-path=\"url(#clip692)\" x1=\"1459.88\" y1=\"682.217\" x2=\"1475.88\" y2=\"698.217\" style=\"stroke:#0000ff; stroke-width:3.2; stroke-opacity:1\"/>\n",
       "<line clip-path=\"url(#clip692)\" x1=\"1459.88\" y1=\"682.217\" x2=\"1475.88\" y2=\"666.217\" style=\"stroke:#0000ff; stroke-width:3.2; stroke-opacity:1\"/>\n",
       "<line clip-path=\"url(#clip692)\" x1=\"1501.46\" y1=\"713.778\" x2=\"1485.46\" y2=\"697.778\" style=\"stroke:#0000ff; stroke-width:3.2; stroke-opacity:1\"/>\n",
       "<line clip-path=\"url(#clip692)\" x1=\"1501.46\" y1=\"713.778\" x2=\"1485.46\" y2=\"729.778\" style=\"stroke:#0000ff; stroke-width:3.2; stroke-opacity:1\"/>\n",
       "<line clip-path=\"url(#clip692)\" x1=\"1501.46\" y1=\"713.778\" x2=\"1517.46\" y2=\"729.778\" style=\"stroke:#0000ff; stroke-width:3.2; stroke-opacity:1\"/>\n",
       "<line clip-path=\"url(#clip692)\" x1=\"1501.46\" y1=\"713.778\" x2=\"1517.46\" y2=\"697.778\" style=\"stroke:#0000ff; stroke-width:3.2; stroke-opacity:1\"/>\n",
       "<line clip-path=\"url(#clip692)\" x1=\"1543.05\" y1=\"739.261\" x2=\"1527.05\" y2=\"723.261\" style=\"stroke:#0000ff; stroke-width:3.2; stroke-opacity:1\"/>\n",
       "<line clip-path=\"url(#clip692)\" x1=\"1543.05\" y1=\"739.261\" x2=\"1527.05\" y2=\"755.261\" style=\"stroke:#0000ff; stroke-width:3.2; stroke-opacity:1\"/>\n",
       "<line clip-path=\"url(#clip692)\" x1=\"1543.05\" y1=\"739.261\" x2=\"1559.05\" y2=\"755.261\" style=\"stroke:#0000ff; stroke-width:3.2; stroke-opacity:1\"/>\n",
       "<line clip-path=\"url(#clip692)\" x1=\"1543.05\" y1=\"739.261\" x2=\"1559.05\" y2=\"723.261\" style=\"stroke:#0000ff; stroke-width:3.2; stroke-opacity:1\"/>\n",
       "<line clip-path=\"url(#clip692)\" x1=\"1584.64\" y1=\"768.696\" x2=\"1568.64\" y2=\"752.696\" style=\"stroke:#0000ff; stroke-width:3.2; stroke-opacity:1\"/>\n",
       "<line clip-path=\"url(#clip692)\" x1=\"1584.64\" y1=\"768.696\" x2=\"1568.64\" y2=\"784.696\" style=\"stroke:#0000ff; stroke-width:3.2; stroke-opacity:1\"/>\n",
       "<line clip-path=\"url(#clip692)\" x1=\"1584.64\" y1=\"768.696\" x2=\"1600.64\" y2=\"784.696\" style=\"stroke:#0000ff; stroke-width:3.2; stroke-opacity:1\"/>\n",
       "<line clip-path=\"url(#clip692)\" x1=\"1584.64\" y1=\"768.696\" x2=\"1600.64\" y2=\"752.696\" style=\"stroke:#0000ff; stroke-width:3.2; stroke-opacity:1\"/>\n",
       "<line clip-path=\"url(#clip692)\" x1=\"1626.22\" y1=\"801.13\" x2=\"1610.22\" y2=\"785.13\" style=\"stroke:#0000ff; stroke-width:3.2; stroke-opacity:1\"/>\n",
       "<line clip-path=\"url(#clip692)\" x1=\"1626.22\" y1=\"801.13\" x2=\"1610.22\" y2=\"817.13\" style=\"stroke:#0000ff; stroke-width:3.2; stroke-opacity:1\"/>\n",
       "<line clip-path=\"url(#clip692)\" x1=\"1626.22\" y1=\"801.13\" x2=\"1642.22\" y2=\"817.13\" style=\"stroke:#0000ff; stroke-width:3.2; stroke-opacity:1\"/>\n",
       "<line clip-path=\"url(#clip692)\" x1=\"1626.22\" y1=\"801.13\" x2=\"1642.22\" y2=\"785.13\" style=\"stroke:#0000ff; stroke-width:3.2; stroke-opacity:1\"/>\n",
       "<line clip-path=\"url(#clip692)\" x1=\"1667.81\" y1=\"834.949\" x2=\"1651.81\" y2=\"818.949\" style=\"stroke:#0000ff; stroke-width:3.2; stroke-opacity:1\"/>\n",
       "<line clip-path=\"url(#clip692)\" x1=\"1667.81\" y1=\"834.949\" x2=\"1651.81\" y2=\"850.949\" style=\"stroke:#0000ff; stroke-width:3.2; stroke-opacity:1\"/>\n",
       "<line clip-path=\"url(#clip692)\" x1=\"1667.81\" y1=\"834.949\" x2=\"1683.81\" y2=\"850.949\" style=\"stroke:#0000ff; stroke-width:3.2; stroke-opacity:1\"/>\n",
       "<line clip-path=\"url(#clip692)\" x1=\"1667.81\" y1=\"834.949\" x2=\"1683.81\" y2=\"818.949\" style=\"stroke:#0000ff; stroke-width:3.2; stroke-opacity:1\"/>\n",
       "<line clip-path=\"url(#clip692)\" x1=\"1709.4\" y1=\"869.42\" x2=\"1693.4\" y2=\"853.42\" style=\"stroke:#0000ff; stroke-width:3.2; stroke-opacity:1\"/>\n",
       "<line clip-path=\"url(#clip692)\" x1=\"1709.4\" y1=\"869.42\" x2=\"1693.4\" y2=\"885.42\" style=\"stroke:#0000ff; stroke-width:3.2; stroke-opacity:1\"/>\n",
       "<line clip-path=\"url(#clip692)\" x1=\"1709.4\" y1=\"869.42\" x2=\"1725.4\" y2=\"885.42\" style=\"stroke:#0000ff; stroke-width:3.2; stroke-opacity:1\"/>\n",
       "<line clip-path=\"url(#clip692)\" x1=\"1709.4\" y1=\"869.42\" x2=\"1725.4\" y2=\"853.42\" style=\"stroke:#0000ff; stroke-width:3.2; stroke-opacity:1\"/>\n",
       "<line clip-path=\"url(#clip692)\" x1=\"1750.99\" y1=\"905.331\" x2=\"1734.99\" y2=\"889.331\" style=\"stroke:#0000ff; stroke-width:3.2; stroke-opacity:1\"/>\n",
       "<line clip-path=\"url(#clip692)\" x1=\"1750.99\" y1=\"905.331\" x2=\"1734.99\" y2=\"921.331\" style=\"stroke:#0000ff; stroke-width:3.2; stroke-opacity:1\"/>\n",
       "<line clip-path=\"url(#clip692)\" x1=\"1750.99\" y1=\"905.331\" x2=\"1766.99\" y2=\"921.331\" style=\"stroke:#0000ff; stroke-width:3.2; stroke-opacity:1\"/>\n",
       "<line clip-path=\"url(#clip692)\" x1=\"1750.99\" y1=\"905.331\" x2=\"1766.99\" y2=\"889.331\" style=\"stroke:#0000ff; stroke-width:3.2; stroke-opacity:1\"/>\n",
       "<line clip-path=\"url(#clip692)\" x1=\"1792.57\" y1=\"940.74\" x2=\"1776.57\" y2=\"924.74\" style=\"stroke:#0000ff; stroke-width:3.2; stroke-opacity:1\"/>\n",
       "<line clip-path=\"url(#clip692)\" x1=\"1792.57\" y1=\"940.74\" x2=\"1776.57\" y2=\"956.74\" style=\"stroke:#0000ff; stroke-width:3.2; stroke-opacity:1\"/>\n",
       "<line clip-path=\"url(#clip692)\" x1=\"1792.57\" y1=\"940.74\" x2=\"1808.57\" y2=\"956.74\" style=\"stroke:#0000ff; stroke-width:3.2; stroke-opacity:1\"/>\n",
       "<line clip-path=\"url(#clip692)\" x1=\"1792.57\" y1=\"940.74\" x2=\"1808.57\" y2=\"924.74\" style=\"stroke:#0000ff; stroke-width:3.2; stroke-opacity:1\"/>\n",
       "<line clip-path=\"url(#clip692)\" x1=\"1834.16\" y1=\"978.948\" x2=\"1818.16\" y2=\"962.948\" style=\"stroke:#0000ff; stroke-width:3.2; stroke-opacity:1\"/>\n",
       "<line clip-path=\"url(#clip692)\" x1=\"1834.16\" y1=\"978.948\" x2=\"1818.16\" y2=\"994.948\" style=\"stroke:#0000ff; stroke-width:3.2; stroke-opacity:1\"/>\n",
       "<line clip-path=\"url(#clip692)\" x1=\"1834.16\" y1=\"978.948\" x2=\"1850.16\" y2=\"994.948\" style=\"stroke:#0000ff; stroke-width:3.2; stroke-opacity:1\"/>\n",
       "<line clip-path=\"url(#clip692)\" x1=\"1834.16\" y1=\"978.948\" x2=\"1850.16\" y2=\"962.948\" style=\"stroke:#0000ff; stroke-width:3.2; stroke-opacity:1\"/>\n",
       "<line clip-path=\"url(#clip692)\" x1=\"1875.75\" y1=\"1017.43\" x2=\"1859.75\" y2=\"1001.43\" style=\"stroke:#0000ff; stroke-width:3.2; stroke-opacity:1\"/>\n",
       "<line clip-path=\"url(#clip692)\" x1=\"1875.75\" y1=\"1017.43\" x2=\"1859.75\" y2=\"1033.43\" style=\"stroke:#0000ff; stroke-width:3.2; stroke-opacity:1\"/>\n",
       "<line clip-path=\"url(#clip692)\" x1=\"1875.75\" y1=\"1017.43\" x2=\"1891.75\" y2=\"1033.43\" style=\"stroke:#0000ff; stroke-width:3.2; stroke-opacity:1\"/>\n",
       "<line clip-path=\"url(#clip692)\" x1=\"1875.75\" y1=\"1017.43\" x2=\"1891.75\" y2=\"1001.43\" style=\"stroke:#0000ff; stroke-width:3.2; stroke-opacity:1\"/>\n",
       "<line clip-path=\"url(#clip692)\" x1=\"1917.34\" y1=\"1059.17\" x2=\"1901.34\" y2=\"1043.17\" style=\"stroke:#0000ff; stroke-width:3.2; stroke-opacity:1\"/>\n",
       "<line clip-path=\"url(#clip692)\" x1=\"1917.34\" y1=\"1059.17\" x2=\"1901.34\" y2=\"1075.17\" style=\"stroke:#0000ff; stroke-width:3.2; stroke-opacity:1\"/>\n",
       "<line clip-path=\"url(#clip692)\" x1=\"1917.34\" y1=\"1059.17\" x2=\"1933.34\" y2=\"1075.17\" style=\"stroke:#0000ff; stroke-width:3.2; stroke-opacity:1\"/>\n",
       "<line clip-path=\"url(#clip692)\" x1=\"1917.34\" y1=\"1059.17\" x2=\"1933.34\" y2=\"1043.17\" style=\"stroke:#0000ff; stroke-width:3.2; stroke-opacity:1\"/>\n",
       "<line clip-path=\"url(#clip692)\" x1=\"1958.92\" y1=\"1102.51\" x2=\"1942.92\" y2=\"1086.51\" style=\"stroke:#0000ff; stroke-width:3.2; stroke-opacity:1\"/>\n",
       "<line clip-path=\"url(#clip692)\" x1=\"1958.92\" y1=\"1102.51\" x2=\"1942.92\" y2=\"1118.51\" style=\"stroke:#0000ff; stroke-width:3.2; stroke-opacity:1\"/>\n",
       "<line clip-path=\"url(#clip692)\" x1=\"1958.92\" y1=\"1102.51\" x2=\"1974.92\" y2=\"1118.51\" style=\"stroke:#0000ff; stroke-width:3.2; stroke-opacity:1\"/>\n",
       "<line clip-path=\"url(#clip692)\" x1=\"1958.92\" y1=\"1102.51\" x2=\"1974.92\" y2=\"1086.51\" style=\"stroke:#0000ff; stroke-width:3.2; stroke-opacity:1\"/>\n",
       "<line clip-path=\"url(#clip692)\" x1=\"2000.51\" y1=\"1138.68\" x2=\"1984.51\" y2=\"1122.68\" style=\"stroke:#0000ff; stroke-width:3.2; stroke-opacity:1\"/>\n",
       "<line clip-path=\"url(#clip692)\" x1=\"2000.51\" y1=\"1138.68\" x2=\"1984.51\" y2=\"1154.68\" style=\"stroke:#0000ff; stroke-width:3.2; stroke-opacity:1\"/>\n",
       "<line clip-path=\"url(#clip692)\" x1=\"2000.51\" y1=\"1138.68\" x2=\"2016.51\" y2=\"1154.68\" style=\"stroke:#0000ff; stroke-width:3.2; stroke-opacity:1\"/>\n",
       "<line clip-path=\"url(#clip692)\" x1=\"2000.51\" y1=\"1138.68\" x2=\"2016.51\" y2=\"1122.68\" style=\"stroke:#0000ff; stroke-width:3.2; stroke-opacity:1\"/>\n",
       "<line clip-path=\"url(#clip692)\" x1=\"2042.1\" y1=\"1192.05\" x2=\"2026.1\" y2=\"1176.05\" style=\"stroke:#0000ff; stroke-width:3.2; stroke-opacity:1\"/>\n",
       "<line clip-path=\"url(#clip692)\" x1=\"2042.1\" y1=\"1192.05\" x2=\"2026.1\" y2=\"1208.05\" style=\"stroke:#0000ff; stroke-width:3.2; stroke-opacity:1\"/>\n",
       "<line clip-path=\"url(#clip692)\" x1=\"2042.1\" y1=\"1192.05\" x2=\"2058.1\" y2=\"1208.05\" style=\"stroke:#0000ff; stroke-width:3.2; stroke-opacity:1\"/>\n",
       "<line clip-path=\"url(#clip692)\" x1=\"2042.1\" y1=\"1192.05\" x2=\"2058.1\" y2=\"1176.05\" style=\"stroke:#0000ff; stroke-width:3.2; stroke-opacity:1\"/>\n",
       "<line clip-path=\"url(#clip692)\" x1=\"2083.69\" y1=\"1240.98\" x2=\"2067.69\" y2=\"1224.98\" style=\"stroke:#0000ff; stroke-width:3.2; stroke-opacity:1\"/>\n",
       "<line clip-path=\"url(#clip692)\" x1=\"2083.69\" y1=\"1240.98\" x2=\"2067.69\" y2=\"1256.98\" style=\"stroke:#0000ff; stroke-width:3.2; stroke-opacity:1\"/>\n",
       "<line clip-path=\"url(#clip692)\" x1=\"2083.69\" y1=\"1240.98\" x2=\"2099.69\" y2=\"1256.98\" style=\"stroke:#0000ff; stroke-width:3.2; stroke-opacity:1\"/>\n",
       "<line clip-path=\"url(#clip692)\" x1=\"2083.69\" y1=\"1240.98\" x2=\"2099.69\" y2=\"1224.98\" style=\"stroke:#0000ff; stroke-width:3.2; stroke-opacity:1\"/>\n",
       "<line clip-path=\"url(#clip692)\" x1=\"2125.27\" y1=\"1286.26\" x2=\"2109.27\" y2=\"1270.26\" style=\"stroke:#0000ff; stroke-width:3.2; stroke-opacity:1\"/>\n",
       "<line clip-path=\"url(#clip692)\" x1=\"2125.27\" y1=\"1286.26\" x2=\"2109.27\" y2=\"1302.26\" style=\"stroke:#0000ff; stroke-width:3.2; stroke-opacity:1\"/>\n",
       "<line clip-path=\"url(#clip692)\" x1=\"2125.27\" y1=\"1286.26\" x2=\"2141.27\" y2=\"1302.26\" style=\"stroke:#0000ff; stroke-width:3.2; stroke-opacity:1\"/>\n",
       "<line clip-path=\"url(#clip692)\" x1=\"2125.27\" y1=\"1286.26\" x2=\"2141.27\" y2=\"1270.26\" style=\"stroke:#0000ff; stroke-width:3.2; stroke-opacity:1\"/>\n",
       "<line clip-path=\"url(#clip692)\" x1=\"2166.86\" y1=\"1309.75\" x2=\"2150.86\" y2=\"1293.75\" style=\"stroke:#0000ff; stroke-width:3.2; stroke-opacity:1\"/>\n",
       "<line clip-path=\"url(#clip692)\" x1=\"2166.86\" y1=\"1309.75\" x2=\"2150.86\" y2=\"1325.75\" style=\"stroke:#0000ff; stroke-width:3.2; stroke-opacity:1\"/>\n",
       "<line clip-path=\"url(#clip692)\" x1=\"2166.86\" y1=\"1309.75\" x2=\"2182.86\" y2=\"1325.75\" style=\"stroke:#0000ff; stroke-width:3.2; stroke-opacity:1\"/>\n",
       "<line clip-path=\"url(#clip692)\" x1=\"2166.86\" y1=\"1309.75\" x2=\"2182.86\" y2=\"1293.75\" style=\"stroke:#0000ff; stroke-width:3.2; stroke-opacity:1\"/>\n",
       "<line clip-path=\"url(#clip692)\" x1=\"2208.45\" y1=\"1361.43\" x2=\"2192.45\" y2=\"1345.43\" style=\"stroke:#0000ff; stroke-width:3.2; stroke-opacity:1\"/>\n",
       "<line clip-path=\"url(#clip692)\" x1=\"2208.45\" y1=\"1361.43\" x2=\"2192.45\" y2=\"1377.43\" style=\"stroke:#0000ff; stroke-width:3.2; stroke-opacity:1\"/>\n",
       "<line clip-path=\"url(#clip692)\" x1=\"2208.45\" y1=\"1361.43\" x2=\"2224.45\" y2=\"1377.43\" style=\"stroke:#0000ff; stroke-width:3.2; stroke-opacity:1\"/>\n",
       "<line clip-path=\"url(#clip692)\" x1=\"2208.45\" y1=\"1361.43\" x2=\"2224.45\" y2=\"1345.43\" style=\"stroke:#0000ff; stroke-width:3.2; stroke-opacity:1\"/>\n",
       "<line clip-path=\"url(#clip692)\" x1=\"2250.04\" y1=\"1409.61\" x2=\"2234.04\" y2=\"1393.61\" style=\"stroke:#0000ff; stroke-width:3.2; stroke-opacity:1\"/>\n",
       "<line clip-path=\"url(#clip692)\" x1=\"2250.04\" y1=\"1409.61\" x2=\"2234.04\" y2=\"1425.61\" style=\"stroke:#0000ff; stroke-width:3.2; stroke-opacity:1\"/>\n",
       "<line clip-path=\"url(#clip692)\" x1=\"2250.04\" y1=\"1409.61\" x2=\"2266.04\" y2=\"1425.61\" style=\"stroke:#0000ff; stroke-width:3.2; stroke-opacity:1\"/>\n",
       "<line clip-path=\"url(#clip692)\" x1=\"2250.04\" y1=\"1409.61\" x2=\"2266.04\" y2=\"1393.61\" style=\"stroke:#0000ff; stroke-width:3.2; stroke-opacity:1\"/>\n",
       "<line clip-path=\"url(#clip692)\" x1=\"2291.62\" y1=\"1447.87\" x2=\"2275.62\" y2=\"1431.87\" style=\"stroke:#0000ff; stroke-width:3.2; stroke-opacity:1\"/>\n",
       "<line clip-path=\"url(#clip692)\" x1=\"2291.62\" y1=\"1447.87\" x2=\"2275.62\" y2=\"1463.87\" style=\"stroke:#0000ff; stroke-width:3.2; stroke-opacity:1\"/>\n",
       "<line clip-path=\"url(#clip692)\" x1=\"2291.62\" y1=\"1447.87\" x2=\"2307.62\" y2=\"1463.87\" style=\"stroke:#0000ff; stroke-width:3.2; stroke-opacity:1\"/>\n",
       "<line clip-path=\"url(#clip692)\" x1=\"2291.62\" y1=\"1447.87\" x2=\"2307.62\" y2=\"1431.87\" style=\"stroke:#0000ff; stroke-width:3.2; stroke-opacity:1\"/>\n",
       "<path clip-path=\"url(#clip690)\" d=\"\n",
       "M1392.79 324.425 L2280.75 324.425 L2280.75 168.905 L1392.79 168.905  Z\n",
       "  \" fill=\"#ffffff\" fill-rule=\"evenodd\" fill-opacity=\"1\"/>\n",
       "<polyline clip-path=\"url(#clip690)\" style=\"stroke:#000000; stroke-linecap:butt; stroke-linejoin:round; stroke-width:4; stroke-opacity:1; fill:none\" points=\"\n",
       "  1392.79,324.425 2280.75,324.425 2280.75,168.905 1392.79,168.905 1392.79,324.425 \n",
       "  \"/>\n",
       "<circle clip-path=\"url(#clip690)\" cx=\"1488.79\" cy=\"220.745\" r=\"23\" fill=\"#ff0000\" fill-rule=\"evenodd\" fill-opacity=\"1\" stroke=\"#000000\" stroke-opacity=\"1\" stroke-width=\"5.12\"/>\n",
       "<path clip-path=\"url(#clip690)\" d=\"M1584.79 203.465 L1591.09 203.465 L1606.41 232.377 L1606.41 203.465 L1610.95 203.465 L1610.95 238.025 L1604.65 238.025 L1589.33 209.113 L1589.33 238.025 L1584.79 238.025 L1584.79 203.465 Z\" fill=\"#000000\" fill-rule=\"evenodd\" fill-opacity=\"1\" /><path clip-path=\"url(#clip690)\" d=\"M1619.63 227.793 L1619.63 212.099 L1623.89 212.099 L1623.89 227.631 Q1623.89 231.312 1625.33 233.164 Q1626.76 234.992 1629.63 234.992 Q1633.08 234.992 1635.07 232.793 Q1637.09 230.594 1637.09 226.798 L1637.09 212.099 L1641.34 212.099 L1641.34 238.025 L1637.09 238.025 L1637.09 234.043 Q1635.53 236.404 1633.47 237.562 Q1631.44 238.696 1628.73 238.696 Q1624.26 238.696 1621.95 235.918 Q1619.63 233.14 1619.63 227.793 M1630.35 211.474 L1630.35 211.474 Z\" fill=\"#000000\" fill-rule=\"evenodd\" fill-opacity=\"1\" /><path clip-path=\"url(#clip690)\" d=\"M1670.3 217.076 Q1671.9 214.205 1674.12 212.84 Q1676.34 211.474 1679.35 211.474 Q1683.4 211.474 1685.6 214.321 Q1687.8 217.145 1687.8 222.377 L1687.8 238.025 L1683.52 238.025 L1683.52 222.515 Q1683.52 218.789 1682.2 216.983 Q1680.88 215.178 1678.17 215.178 Q1674.86 215.178 1672.94 217.377 Q1671.02 219.576 1671.02 223.372 L1671.02 238.025 L1666.74 238.025 L1666.74 222.515 Q1666.74 218.765 1665.42 216.983 Q1664.1 215.178 1661.34 215.178 Q1658.08 215.178 1656.16 217.4 Q1654.24 219.599 1654.24 223.372 L1654.24 238.025 L1649.96 238.025 L1649.96 212.099 L1654.24 212.099 L1654.24 216.127 Q1655.7 213.742 1657.73 212.608 Q1659.77 211.474 1662.57 211.474 Q1665.4 211.474 1667.36 212.909 Q1669.35 214.344 1670.3 217.076 Z\" fill=\"#000000\" fill-rule=\"evenodd\" fill-opacity=\"1\" /><path clip-path=\"url(#clip690)\" d=\"M1718.47 223.997 L1718.47 226.08 L1698.89 226.08 Q1699.17 230.478 1701.53 232.793 Q1703.91 235.085 1708.15 235.085 Q1710.6 235.085 1712.89 234.483 Q1715.21 233.881 1717.48 232.677 L1717.48 236.705 Q1715.19 237.677 1712.78 238.187 Q1710.37 238.696 1707.9 238.696 Q1701.69 238.696 1698.06 235.085 Q1694.45 231.474 1694.45 225.316 Q1694.45 218.951 1697.87 215.224 Q1701.32 211.474 1707.15 211.474 Q1712.39 211.474 1715.42 214.853 Q1718.47 218.21 1718.47 223.997 M1714.21 222.747 Q1714.17 219.252 1712.25 217.168 Q1710.35 215.085 1707.2 215.085 Q1703.64 215.085 1701.48 217.099 Q1699.35 219.113 1699.03 222.77 L1714.21 222.747 Z\" fill=\"#000000\" fill-rule=\"evenodd\" fill-opacity=\"1\" /><path clip-path=\"url(#clip690)\" d=\"M1740.49 216.08 Q1739.77 215.664 1738.91 215.478 Q1738.08 215.27 1737.06 215.27 Q1733.45 215.27 1731.51 217.631 Q1729.58 219.969 1729.58 224.367 L1729.58 238.025 L1725.3 238.025 L1725.3 212.099 L1729.58 212.099 L1729.58 216.127 Q1730.93 213.766 1733.08 212.631 Q1735.23 211.474 1738.31 211.474 Q1738.75 211.474 1739.28 211.543 Q1739.82 211.59 1740.46 211.705 L1740.49 216.08 Z\" fill=\"#000000\" fill-rule=\"evenodd\" fill-opacity=\"1\" /><path clip-path=\"url(#clip690)\" d=\"M1744.95 212.099 L1749.21 212.099 L1749.21 238.025 L1744.95 238.025 L1744.95 212.099 M1744.95 202.006 L1749.21 202.006 L1749.21 207.4 L1744.95 207.4 L1744.95 202.006 Z\" fill=\"#000000\" fill-rule=\"evenodd\" fill-opacity=\"1\" /><path clip-path=\"url(#clip690)\" d=\"M1776.78 213.094 L1776.78 217.076 Q1774.98 216.08 1773.15 215.594 Q1771.34 215.085 1769.49 215.085 Q1765.35 215.085 1763.06 217.724 Q1760.77 220.34 1760.77 225.085 Q1760.77 229.83 1763.06 232.469 Q1765.35 235.085 1769.49 235.085 Q1771.34 235.085 1773.15 234.599 Q1774.98 234.089 1776.78 233.094 L1776.78 237.029 Q1775 237.863 1773.08 238.279 Q1771.18 238.696 1769.03 238.696 Q1763.17 238.696 1759.72 235.015 Q1756.27 231.335 1756.27 225.085 Q1756.27 218.742 1759.75 215.108 Q1763.24 211.474 1769.31 211.474 Q1771.27 211.474 1773.15 211.891 Q1775.02 212.284 1776.78 213.094 Z\" fill=\"#000000\" fill-rule=\"evenodd\" fill-opacity=\"1\" /><path clip-path=\"url(#clip690)\" d=\"M1795.97 224.992 Q1790.81 224.992 1788.82 226.173 Q1786.83 227.353 1786.83 230.201 Q1786.83 232.469 1788.31 233.812 Q1789.82 235.131 1792.39 235.131 Q1795.93 235.131 1798.06 232.631 Q1800.21 230.108 1800.21 225.941 L1800.21 224.992 L1795.97 224.992 M1804.47 223.233 L1804.47 238.025 L1800.21 238.025 L1800.21 234.089 Q1798.75 236.451 1796.58 237.585 Q1794.4 238.696 1791.25 238.696 Q1787.27 238.696 1784.91 236.474 Q1782.57 234.228 1782.57 230.478 Q1782.57 226.103 1785.49 223.881 Q1788.43 221.659 1794.24 221.659 L1800.21 221.659 L1800.21 221.242 Q1800.21 218.303 1798.26 216.705 Q1796.34 215.085 1792.85 215.085 Q1790.63 215.085 1788.52 215.617 Q1786.41 216.15 1784.47 217.215 L1784.47 213.279 Q1786.81 212.377 1789.01 211.937 Q1791.2 211.474 1793.29 211.474 Q1798.91 211.474 1801.69 214.391 Q1804.47 217.307 1804.47 223.233 Z\" fill=\"#000000\" fill-rule=\"evenodd\" fill-opacity=\"1\" /><path clip-path=\"url(#clip690)\" d=\"M1813.24 202.006 L1817.5 202.006 L1817.5 238.025 L1813.24 238.025 L1813.24 202.006 Z\" fill=\"#000000\" fill-rule=\"evenodd\" fill-opacity=\"1\" /><path clip-path=\"url(#clip690)\" d=\"M1860.14 213.094 L1860.14 217.076 Q1858.33 216.08 1856.51 215.594 Q1854.7 215.085 1852.85 215.085 Q1848.7 215.085 1846.41 217.724 Q1844.12 220.34 1844.12 225.085 Q1844.12 229.83 1846.41 232.469 Q1848.7 235.085 1852.85 235.085 Q1854.7 235.085 1856.51 234.599 Q1858.33 234.089 1860.14 233.094 L1860.14 237.029 Q1858.36 237.863 1856.44 238.279 Q1854.54 238.696 1852.38 238.696 Q1846.53 238.696 1843.08 235.015 Q1839.63 231.335 1839.63 225.085 Q1839.63 218.742 1843.1 215.108 Q1846.6 211.474 1852.66 211.474 Q1854.63 211.474 1856.51 211.891 Q1858.38 212.284 1860.14 213.094 Z\" fill=\"#000000\" fill-rule=\"evenodd\" fill-opacity=\"1\" /><path clip-path=\"url(#clip690)\" d=\"M1877.59 215.085 Q1874.17 215.085 1872.18 217.77 Q1870.19 220.432 1870.19 225.085 Q1870.19 229.738 1872.15 232.423 Q1874.14 235.085 1877.59 235.085 Q1881 235.085 1882.99 232.4 Q1884.98 229.715 1884.98 225.085 Q1884.98 220.478 1882.99 217.793 Q1881 215.085 1877.59 215.085 M1877.59 211.474 Q1883.15 211.474 1886.32 215.085 Q1889.49 218.696 1889.49 225.085 Q1889.49 231.451 1886.32 235.085 Q1883.15 238.696 1877.59 238.696 Q1872.01 238.696 1868.84 235.085 Q1865.7 231.451 1865.7 225.085 Q1865.7 218.696 1868.84 215.085 Q1872.01 211.474 1877.59 211.474 Z\" fill=\"#000000\" fill-rule=\"evenodd\" fill-opacity=\"1\" /><path clip-path=\"url(#clip690)\" d=\"M1918.1 222.377 L1918.1 238.025 L1913.84 238.025 L1913.84 222.515 Q1913.84 218.835 1912.41 217.006 Q1910.97 215.178 1908.1 215.178 Q1904.65 215.178 1902.66 217.377 Q1900.67 219.576 1900.67 223.372 L1900.67 238.025 L1896.39 238.025 L1896.39 212.099 L1900.67 212.099 L1900.67 216.127 Q1902.2 213.789 1904.26 212.631 Q1906.34 211.474 1909.05 211.474 Q1913.52 211.474 1915.81 214.252 Q1918.1 217.006 1918.1 222.377 Z\" fill=\"#000000\" fill-rule=\"evenodd\" fill-opacity=\"1\" /><path clip-path=\"url(#clip690)\" d=\"M1930.81 204.738 L1930.81 212.099 L1939.58 212.099 L1939.58 215.409 L1930.81 215.409 L1930.81 229.483 Q1930.81 232.654 1931.67 233.557 Q1932.55 234.46 1935.21 234.46 L1939.58 234.46 L1939.58 238.025 L1935.21 238.025 Q1930.28 238.025 1928.4 236.196 Q1926.53 234.344 1926.53 229.483 L1926.53 215.409 L1923.4 215.409 L1923.4 212.099 L1926.53 212.099 L1926.53 204.738 L1930.81 204.738 Z\" fill=\"#000000\" fill-rule=\"evenodd\" fill-opacity=\"1\" /><path clip-path=\"url(#clip690)\" d=\"M1960.21 216.08 Q1959.49 215.664 1958.63 215.478 Q1957.8 215.27 1956.78 215.27 Q1953.17 215.27 1951.23 217.631 Q1949.31 219.969 1949.31 224.367 L1949.31 238.025 L1945.02 238.025 L1945.02 212.099 L1949.31 212.099 L1949.31 216.127 Q1950.65 213.766 1952.8 212.631 Q1954.95 211.474 1958.03 211.474 Q1958.47 211.474 1959 211.543 Q1959.54 211.59 1960.19 211.705 L1960.21 216.08 Z\" fill=\"#000000\" fill-rule=\"evenodd\" fill-opacity=\"1\" /><path clip-path=\"url(#clip690)\" d=\"M1973.68 215.085 Q1970.25 215.085 1968.26 217.77 Q1966.27 220.432 1966.27 225.085 Q1966.27 229.738 1968.24 232.423 Q1970.23 235.085 1973.68 235.085 Q1977.08 235.085 1979.07 232.4 Q1981.06 229.715 1981.06 225.085 Q1981.06 220.478 1979.07 217.793 Q1977.08 215.085 1973.68 215.085 M1973.68 211.474 Q1979.24 211.474 1982.41 215.085 Q1985.58 218.696 1985.58 225.085 Q1985.58 231.451 1982.41 235.085 Q1979.24 238.696 1973.68 238.696 Q1968.1 238.696 1964.93 235.085 Q1961.78 231.451 1961.78 225.085 Q1961.78 218.696 1964.93 215.085 Q1968.1 211.474 1973.68 211.474 Z\" fill=\"#000000\" fill-rule=\"evenodd\" fill-opacity=\"1\" /><path clip-path=\"url(#clip690)\" d=\"M1992.64 202.006 L1996.9 202.006 L1996.9 238.025 L1992.64 238.025 L1992.64 202.006 Z\" fill=\"#000000\" fill-rule=\"evenodd\" fill-opacity=\"1\" /><path clip-path=\"url(#clip690)\" d=\"M2025 234.136 L2025 247.886 L2020.72 247.886 L2020.72 212.099 L2025 212.099 L2025 216.034 Q2026.34 213.719 2028.38 212.608 Q2030.44 211.474 2033.29 211.474 Q2038.01 211.474 2040.95 215.224 Q2043.91 218.974 2043.91 225.085 Q2043.91 231.196 2040.95 234.946 Q2038.01 238.696 2033.29 238.696 Q2030.44 238.696 2028.38 237.585 Q2026.34 236.451 2025 234.136 M2039.49 225.085 Q2039.49 220.386 2037.55 217.724 Q2035.62 215.039 2032.25 215.039 Q2028.87 215.039 2026.92 217.724 Q2025 220.386 2025 225.085 Q2025 229.784 2026.92 232.469 Q2028.87 235.131 2032.25 235.131 Q2035.62 235.131 2037.55 232.469 Q2039.49 229.784 2039.49 225.085 Z\" fill=\"#000000\" fill-rule=\"evenodd\" fill-opacity=\"1\" /><path clip-path=\"url(#clip690)\" d=\"M2065.99 216.08 Q2065.28 215.664 2064.42 215.478 Q2063.59 215.27 2062.57 215.27 Q2058.96 215.27 2057.01 217.631 Q2055.09 219.969 2055.09 224.367 L2055.09 238.025 L2050.81 238.025 L2050.81 212.099 L2055.09 212.099 L2055.09 216.127 Q2056.43 213.766 2058.59 212.631 Q2060.74 211.474 2063.82 211.474 Q2064.26 211.474 2064.79 211.543 Q2065.32 211.59 2065.97 211.705 L2065.99 216.08 Z\" fill=\"#000000\" fill-rule=\"evenodd\" fill-opacity=\"1\" /><path clip-path=\"url(#clip690)\" d=\"M2079.47 215.085 Q2076.04 215.085 2074.05 217.77 Q2072.06 220.432 2072.06 225.085 Q2072.06 229.738 2074.03 232.423 Q2076.02 235.085 2079.47 235.085 Q2082.87 235.085 2084.86 232.4 Q2086.85 229.715 2086.85 225.085 Q2086.85 220.478 2084.86 217.793 Q2082.87 215.085 2079.47 215.085 M2079.47 211.474 Q2085.02 211.474 2088.19 215.085 Q2091.37 218.696 2091.37 225.085 Q2091.37 231.451 2088.19 235.085 Q2085.02 238.696 2079.47 238.696 Q2073.89 238.696 2070.72 235.085 Q2067.57 231.451 2067.57 225.085 Q2067.57 218.696 2070.72 215.085 Q2073.89 211.474 2079.47 211.474 Z\" fill=\"#000000\" fill-rule=\"evenodd\" fill-opacity=\"1\" /><path clip-path=\"url(#clip690)\" d=\"M2117.08 213.094 L2117.08 217.076 Q2115.28 216.08 2113.45 215.594 Q2111.64 215.085 2109.79 215.085 Q2105.65 215.085 2103.36 217.724 Q2101.06 220.34 2101.06 225.085 Q2101.06 229.83 2103.36 232.469 Q2105.65 235.085 2109.79 235.085 Q2111.64 235.085 2113.45 234.599 Q2115.28 234.089 2117.08 233.094 L2117.08 237.029 Q2115.3 237.863 2113.38 238.279 Q2111.48 238.696 2109.33 238.696 Q2103.47 238.696 2100.02 235.015 Q2096.57 231.335 2096.57 225.085 Q2096.57 218.742 2100.05 215.108 Q2103.54 211.474 2109.61 211.474 Q2111.57 211.474 2113.45 211.891 Q2115.32 212.284 2117.08 213.094 Z\" fill=\"#000000\" fill-rule=\"evenodd\" fill-opacity=\"1\" /><path clip-path=\"url(#clip690)\" d=\"M2146.67 223.997 L2146.67 226.08 L2127.08 226.08 Q2127.36 230.478 2129.72 232.793 Q2132.11 235.085 2136.34 235.085 Q2138.8 235.085 2141.09 234.483 Q2143.4 233.881 2145.67 232.677 L2145.67 236.705 Q2143.38 237.677 2140.97 238.187 Q2138.56 238.696 2136.09 238.696 Q2129.88 238.696 2126.25 235.085 Q2122.64 231.474 2122.64 225.316 Q2122.64 218.951 2126.06 215.224 Q2129.51 211.474 2135.35 211.474 Q2140.58 211.474 2143.61 214.853 Q2146.67 218.21 2146.67 223.997 M2142.41 222.747 Q2142.36 219.252 2140.44 217.168 Q2138.54 215.085 2135.39 215.085 Q2131.83 215.085 2129.68 217.099 Q2127.55 219.113 2127.22 222.77 L2142.41 222.747 Z\" fill=\"#000000\" fill-rule=\"evenodd\" fill-opacity=\"1\" /><path clip-path=\"url(#clip690)\" d=\"M2170.18 212.863 L2170.18 216.891 Q2168.38 215.965 2166.43 215.502 Q2164.49 215.039 2162.41 215.039 Q2159.24 215.039 2157.64 216.011 Q2156.06 216.983 2156.06 218.928 Q2156.06 220.409 2157.2 221.265 Q2158.33 222.099 2161.76 222.863 L2163.22 223.187 Q2167.75 224.159 2169.65 225.941 Q2171.57 227.701 2171.57 230.872 Q2171.57 234.483 2168.7 236.589 Q2165.86 238.696 2160.86 238.696 Q2158.77 238.696 2156.5 238.279 Q2154.26 237.886 2151.76 237.076 L2151.76 232.677 Q2154.12 233.904 2156.41 234.529 Q2158.7 235.131 2160.95 235.131 Q2163.96 235.131 2165.58 234.113 Q2167.2 233.071 2167.2 231.196 Q2167.2 229.46 2166.02 228.534 Q2164.86 227.608 2160.9 226.752 L2159.42 226.404 Q2155.46 225.571 2153.7 223.858 Q2151.94 222.122 2151.94 219.113 Q2151.94 215.455 2154.54 213.465 Q2157.13 211.474 2161.9 211.474 Q2164.26 211.474 2166.34 211.821 Q2168.42 212.168 2170.18 212.863 Z\" fill=\"#000000\" fill-rule=\"evenodd\" fill-opacity=\"1\" /><path clip-path=\"url(#clip690)\" d=\"M2194.88 212.863 L2194.88 216.891 Q2193.08 215.965 2191.13 215.502 Q2189.19 215.039 2187.11 215.039 Q2183.93 215.039 2182.34 216.011 Q2180.76 216.983 2180.76 218.928 Q2180.76 220.409 2181.9 221.265 Q2183.03 222.099 2186.46 222.863 L2187.92 223.187 Q2192.45 224.159 2194.35 225.941 Q2196.27 227.701 2196.27 230.872 Q2196.27 234.483 2193.4 236.589 Q2190.55 238.696 2185.55 238.696 Q2183.47 238.696 2181.2 238.279 Q2178.96 237.886 2176.46 237.076 L2176.46 232.677 Q2178.82 233.904 2181.11 234.529 Q2183.4 235.131 2185.65 235.131 Q2188.66 235.131 2190.28 234.113 Q2191.9 233.071 2191.9 231.196 Q2191.9 229.46 2190.72 228.534 Q2189.56 227.608 2185.6 226.752 L2184.12 226.404 Q2180.16 225.571 2178.4 223.858 Q2176.64 222.122 2176.64 219.113 Q2176.64 215.455 2179.24 213.465 Q2181.83 211.474 2186.6 211.474 Q2188.96 211.474 2191.04 211.821 Q2193.12 212.168 2194.88 212.863 Z\" fill=\"#000000\" fill-rule=\"evenodd\" fill-opacity=\"1\" /><line clip-path=\"url(#clip690)\" x1=\"1488.79\" y1=\"272.585\" x2=\"1463.19\" y2=\"246.985\" style=\"stroke:#0000ff; stroke-width:3.2; stroke-opacity:1\"/>\n",
       "<line clip-path=\"url(#clip690)\" x1=\"1488.79\" y1=\"272.585\" x2=\"1463.19\" y2=\"298.185\" style=\"stroke:#0000ff; stroke-width:3.2; stroke-opacity:1\"/>\n",
       "<line clip-path=\"url(#clip690)\" x1=\"1488.79\" y1=\"272.585\" x2=\"1514.39\" y2=\"298.185\" style=\"stroke:#0000ff; stroke-width:3.2; stroke-opacity:1\"/>\n",
       "<line clip-path=\"url(#clip690)\" x1=\"1488.79\" y1=\"272.585\" x2=\"1514.39\" y2=\"246.985\" style=\"stroke:#0000ff; stroke-width:3.2; stroke-opacity:1\"/>\n",
       "<path clip-path=\"url(#clip690)\" d=\"M1589.47 259.147 L1589.47 286.022 L1595.12 286.022 Q1602.27 286.022 1605.58 282.781 Q1608.91 279.541 1608.91 272.55 Q1608.91 265.606 1605.58 262.388 Q1602.27 259.147 1595.12 259.147 L1589.47 259.147 M1584.79 255.305 L1594.4 255.305 Q1604.45 255.305 1609.15 259.494 Q1613.84 263.661 1613.84 272.55 Q1613.84 281.485 1609.12 285.675 Q1604.4 289.865 1594.4 289.865 L1584.79 289.865 L1584.79 255.305 Z\" fill=\"#000000\" fill-rule=\"evenodd\" fill-opacity=\"1\" /><path clip-path=\"url(#clip690)\" d=\"M1632.9 276.832 Q1627.73 276.832 1625.74 278.013 Q1623.75 279.193 1623.75 282.041 Q1623.75 284.309 1625.23 285.652 Q1626.74 286.971 1629.31 286.971 Q1632.85 286.971 1634.98 284.471 Q1637.13 281.948 1637.13 277.781 L1637.13 276.832 L1632.9 276.832 M1641.39 275.073 L1641.39 289.865 L1637.13 289.865 L1637.13 285.929 Q1635.67 288.291 1633.5 289.425 Q1631.32 290.536 1628.17 290.536 Q1624.19 290.536 1621.83 288.314 Q1619.49 286.068 1619.49 282.318 Q1619.49 277.943 1622.41 275.721 Q1625.35 273.499 1631.16 273.499 L1637.13 273.499 L1637.13 273.082 Q1637.13 270.143 1635.19 268.545 Q1633.27 266.925 1629.77 266.925 Q1627.55 266.925 1625.44 267.457 Q1623.34 267.99 1621.39 269.055 L1621.39 265.119 Q1623.73 264.217 1625.93 263.777 Q1628.13 263.314 1630.21 263.314 Q1635.84 263.314 1638.61 266.231 Q1641.39 269.147 1641.39 275.073 Z\" fill=\"#000000\" fill-rule=\"evenodd\" fill-opacity=\"1\" /><path clip-path=\"url(#clip690)\" d=\"M1654.38 256.578 L1654.38 263.939 L1663.15 263.939 L1663.15 267.249 L1654.38 267.249 L1654.38 281.323 Q1654.38 284.494 1655.23 285.397 Q1656.11 286.3 1658.77 286.3 L1663.15 286.3 L1663.15 289.865 L1658.77 289.865 Q1653.84 289.865 1651.97 288.036 Q1650.09 286.184 1650.09 281.323 L1650.09 267.249 L1646.97 267.249 L1646.97 263.939 L1650.09 263.939 L1650.09 256.578 L1654.38 256.578 Z\" fill=\"#000000\" fill-rule=\"evenodd\" fill-opacity=\"1\" /><path clip-path=\"url(#clip690)\" d=\"M1680.53 276.832 Q1675.37 276.832 1673.38 278.013 Q1671.39 279.193 1671.39 282.041 Q1671.39 284.309 1672.87 285.652 Q1674.38 286.971 1676.95 286.971 Q1680.49 286.971 1682.62 284.471 Q1684.77 281.948 1684.77 277.781 L1684.77 276.832 L1680.53 276.832 M1689.03 275.073 L1689.03 289.865 L1684.77 289.865 L1684.77 285.929 Q1683.31 288.291 1681.14 289.425 Q1678.96 290.536 1675.81 290.536 Q1671.83 290.536 1669.47 288.314 Q1667.13 286.068 1667.13 282.318 Q1667.13 277.943 1670.05 275.721 Q1672.99 273.499 1678.8 273.499 L1684.77 273.499 L1684.77 273.082 Q1684.77 270.143 1682.83 268.545 Q1680.9 266.925 1677.41 266.925 Q1675.19 266.925 1673.08 267.457 Q1670.97 267.99 1669.03 269.055 L1669.03 265.119 Q1671.37 264.217 1673.57 263.777 Q1675.77 263.314 1677.85 263.314 Q1683.47 263.314 1686.25 266.231 Q1689.03 269.147 1689.03 275.073 Z\" fill=\"#000000\" fill-rule=\"evenodd\" fill-opacity=\"1\" /><path clip-path=\"url(#clip690)\" d=\"M1729.93 267.874 L1729.93 253.846 L1734.19 253.846 L1734.19 289.865 L1729.93 289.865 L1729.93 285.976 Q1728.59 288.291 1726.53 289.425 Q1724.49 290.536 1721.62 290.536 Q1716.92 290.536 1713.96 286.786 Q1711.02 283.036 1711.02 276.925 Q1711.02 270.814 1713.96 267.064 Q1716.92 263.314 1721.62 263.314 Q1724.49 263.314 1726.53 264.448 Q1728.59 265.559 1729.93 267.874 M1715.42 276.925 Q1715.42 281.624 1717.34 284.309 Q1719.28 286.971 1722.66 286.971 Q1726.04 286.971 1727.99 284.309 Q1729.93 281.624 1729.93 276.925 Q1729.93 272.226 1727.99 269.564 Q1726.04 266.879 1722.66 266.879 Q1719.28 266.879 1717.34 269.564 Q1715.42 272.226 1715.42 276.925 Z\" fill=\"#000000\" fill-rule=\"evenodd\" fill-opacity=\"1\" /><path clip-path=\"url(#clip690)\" d=\"M1757.99 267.92 Q1757.27 267.504 1756.41 267.318 Q1755.58 267.11 1754.56 267.11 Q1750.95 267.11 1749.01 269.471 Q1747.08 271.809 1747.08 276.207 L1747.08 289.865 L1742.8 289.865 L1742.8 263.939 L1747.08 263.939 L1747.08 267.967 Q1748.43 265.606 1750.58 264.471 Q1752.73 263.314 1755.81 263.314 Q1756.25 263.314 1756.78 263.383 Q1757.32 263.43 1757.96 263.545 L1757.99 267.92 Z\" fill=\"#000000\" fill-rule=\"evenodd\" fill-opacity=\"1\" /><path clip-path=\"url(#clip690)\" d=\"M1762.45 263.939 L1766.71 263.939 L1766.71 289.865 L1762.45 289.865 L1762.45 263.939 M1762.45 253.846 L1766.71 253.846 L1766.71 259.24 L1762.45 259.24 L1762.45 253.846 Z\" fill=\"#000000\" fill-rule=\"evenodd\" fill-opacity=\"1\" /><path clip-path=\"url(#clip690)\" d=\"M1772.57 263.939 L1777.08 263.939 L1785.19 285.698 L1793.29 263.939 L1797.8 263.939 L1788.08 289.865 L1782.29 289.865 L1772.57 263.939 Z\" fill=\"#000000\" fill-rule=\"evenodd\" fill-opacity=\"1\" /><path clip-path=\"url(#clip690)\" d=\"M1825.86 275.837 L1825.86 277.92 L1806.27 277.92 Q1806.55 282.318 1808.91 284.633 Q1811.3 286.925 1815.53 286.925 Q1817.99 286.925 1820.28 286.323 Q1822.59 285.721 1824.86 284.517 L1824.86 288.545 Q1822.57 289.517 1820.16 290.027 Q1817.76 290.536 1815.28 290.536 Q1809.08 290.536 1805.44 286.925 Q1801.83 283.314 1801.83 277.156 Q1801.83 270.791 1805.26 267.064 Q1808.7 263.314 1814.54 263.314 Q1819.77 263.314 1822.8 266.693 Q1825.86 270.05 1825.86 275.837 M1821.6 274.587 Q1821.55 271.092 1819.63 269.008 Q1817.73 266.925 1814.58 266.925 Q1811.02 266.925 1808.87 268.939 Q1806.74 270.953 1806.41 274.61 L1821.6 274.587 Z\" fill=\"#000000\" fill-rule=\"evenodd\" fill-opacity=\"1\" /><path clip-path=\"url(#clip690)\" d=\"M1854.4 274.217 L1854.4 289.865 L1850.14 289.865 L1850.14 274.355 Q1850.14 270.675 1848.7 268.846 Q1847.27 267.018 1844.4 267.018 Q1840.95 267.018 1838.96 269.217 Q1836.97 271.416 1836.97 275.212 L1836.97 289.865 L1832.69 289.865 L1832.69 263.939 L1836.97 263.939 L1836.97 267.967 Q1838.5 265.629 1840.56 264.471 Q1842.64 263.314 1845.35 263.314 Q1849.82 263.314 1852.11 266.092 Q1854.4 268.846 1854.4 274.217 Z\" fill=\"#000000\" fill-rule=\"evenodd\" fill-opacity=\"1\" /><path clip-path=\"url(#clip690)\" d=\"M1896.62 264.934 L1896.62 268.916 Q1894.82 267.92 1892.99 267.434 Q1891.18 266.925 1889.33 266.925 Q1885.19 266.925 1882.89 269.564 Q1880.6 272.18 1880.6 276.925 Q1880.6 281.67 1882.89 284.309 Q1885.19 286.925 1889.33 286.925 Q1891.18 286.925 1892.99 286.439 Q1894.82 285.929 1896.62 284.934 L1896.62 288.869 Q1894.84 289.703 1892.92 290.119 Q1891.02 290.536 1888.87 290.536 Q1883.01 290.536 1879.56 286.855 Q1876.11 283.175 1876.11 276.925 Q1876.11 270.582 1879.58 266.948 Q1883.08 263.314 1889.14 263.314 Q1891.11 263.314 1892.99 263.731 Q1894.86 264.124 1896.62 264.934 Z\" fill=\"#000000\" fill-rule=\"evenodd\" fill-opacity=\"1\" /><path clip-path=\"url(#clip690)\" d=\"M1914.07 266.925 Q1910.65 266.925 1908.66 269.61 Q1906.67 272.272 1906.67 276.925 Q1906.67 281.578 1908.63 284.263 Q1910.63 286.925 1914.07 286.925 Q1917.48 286.925 1919.47 284.24 Q1921.46 281.555 1921.46 276.925 Q1921.46 272.318 1919.47 269.633 Q1917.48 266.925 1914.07 266.925 M1914.07 263.314 Q1919.63 263.314 1922.8 266.925 Q1925.97 270.536 1925.97 276.925 Q1925.97 283.291 1922.8 286.925 Q1919.63 290.536 1914.07 290.536 Q1908.5 290.536 1905.32 286.925 Q1902.18 283.291 1902.18 276.925 Q1902.18 270.536 1905.32 266.925 Q1908.5 263.314 1914.07 263.314 Z\" fill=\"#000000\" fill-rule=\"evenodd\" fill-opacity=\"1\" /><path clip-path=\"url(#clip690)\" d=\"M1954.58 274.217 L1954.58 289.865 L1950.32 289.865 L1950.32 274.355 Q1950.32 270.675 1948.89 268.846 Q1947.45 267.018 1944.58 267.018 Q1941.13 267.018 1939.14 269.217 Q1937.15 271.416 1937.15 275.212 L1937.15 289.865 L1932.87 289.865 L1932.87 263.939 L1937.15 263.939 L1937.15 267.967 Q1938.68 265.629 1940.74 264.471 Q1942.82 263.314 1945.53 263.314 Q1950 263.314 1952.29 266.092 Q1954.58 268.846 1954.58 274.217 Z\" fill=\"#000000\" fill-rule=\"evenodd\" fill-opacity=\"1\" /><path clip-path=\"url(#clip690)\" d=\"M1967.29 256.578 L1967.29 263.939 L1976.06 263.939 L1976.06 267.249 L1967.29 267.249 L1967.29 281.323 Q1967.29 284.494 1968.15 285.397 Q1969.03 286.3 1971.69 286.3 L1976.06 286.3 L1976.06 289.865 L1971.69 289.865 Q1966.76 289.865 1964.88 288.036 Q1963.01 286.184 1963.01 281.323 L1963.01 267.249 L1959.88 267.249 L1959.88 263.939 L1963.01 263.939 L1963.01 256.578 L1967.29 256.578 Z\" fill=\"#000000\" fill-rule=\"evenodd\" fill-opacity=\"1\" /><path clip-path=\"url(#clip690)\" d=\"M1996.69 267.92 Q1995.97 267.504 1995.12 267.318 Q1994.28 267.11 1993.26 267.11 Q1989.65 267.11 1987.71 269.471 Q1985.79 271.809 1985.79 276.207 L1985.79 289.865 L1981.5 289.865 L1981.5 263.939 L1985.79 263.939 L1985.79 267.967 Q1987.13 265.606 1989.28 264.471 Q1991.44 263.314 1994.51 263.314 Q1994.95 263.314 1995.49 263.383 Q1996.02 263.43 1996.67 263.545 L1996.69 267.92 Z\" fill=\"#000000\" fill-rule=\"evenodd\" fill-opacity=\"1\" /><path clip-path=\"url(#clip690)\" d=\"M2010.16 266.925 Q2006.74 266.925 2004.75 269.61 Q2002.75 272.272 2002.75 276.925 Q2002.75 281.578 2004.72 284.263 Q2006.71 286.925 2010.16 286.925 Q2013.56 286.925 2015.56 284.24 Q2017.55 281.555 2017.55 276.925 Q2017.55 272.318 2015.56 269.633 Q2013.56 266.925 2010.16 266.925 M2010.16 263.314 Q2015.72 263.314 2018.89 266.925 Q2022.06 270.536 2022.06 276.925 Q2022.06 283.291 2018.89 286.925 Q2015.72 290.536 2010.16 290.536 Q2004.58 290.536 2001.41 286.925 Q1998.26 283.291 1998.26 276.925 Q1998.26 270.536 2001.41 266.925 Q2004.58 263.314 2010.16 263.314 Z\" fill=\"#000000\" fill-rule=\"evenodd\" fill-opacity=\"1\" /><path clip-path=\"url(#clip690)\" d=\"M2029.12 253.846 L2033.38 253.846 L2033.38 289.865 L2029.12 289.865 L2029.12 253.846 Z\" fill=\"#000000\" fill-rule=\"evenodd\" fill-opacity=\"1\" /><path clip-path=\"url(#clip690)\" d=\"M2061.48 285.976 L2061.48 299.726 L2057.2 299.726 L2057.2 263.939 L2061.48 263.939 L2061.48 267.874 Q2062.82 265.559 2064.86 264.448 Q2066.92 263.314 2069.77 263.314 Q2074.49 263.314 2077.43 267.064 Q2080.39 270.814 2080.39 276.925 Q2080.39 283.036 2077.43 286.786 Q2074.49 290.536 2069.77 290.536 Q2066.92 290.536 2064.86 289.425 Q2062.82 288.291 2061.48 285.976 M2075.97 276.925 Q2075.97 272.226 2074.03 269.564 Q2072.11 266.879 2068.73 266.879 Q2065.35 266.879 2063.4 269.564 Q2061.48 272.226 2061.48 276.925 Q2061.48 281.624 2063.4 284.309 Q2065.35 286.971 2068.73 286.971 Q2072.11 286.971 2074.03 284.309 Q2075.97 281.624 2075.97 276.925 Z\" fill=\"#000000\" fill-rule=\"evenodd\" fill-opacity=\"1\" /><path clip-path=\"url(#clip690)\" d=\"M2102.48 267.92 Q2101.76 267.504 2100.9 267.318 Q2100.07 267.11 2099.05 267.11 Q2095.44 267.11 2093.49 269.471 Q2091.57 271.809 2091.57 276.207 L2091.57 289.865 L2087.29 289.865 L2087.29 263.939 L2091.57 263.939 L2091.57 267.967 Q2092.92 265.606 2095.07 264.471 Q2097.22 263.314 2100.3 263.314 Q2100.74 263.314 2101.27 263.383 Q2101.8 263.43 2102.45 263.545 L2102.48 267.92 Z\" fill=\"#000000\" fill-rule=\"evenodd\" fill-opacity=\"1\" /><path clip-path=\"url(#clip690)\" d=\"M2115.95 266.925 Q2112.52 266.925 2110.53 269.61 Q2108.54 272.272 2108.54 276.925 Q2108.54 281.578 2110.51 284.263 Q2112.5 286.925 2115.95 286.925 Q2119.35 286.925 2121.34 284.24 Q2123.33 281.555 2123.33 276.925 Q2123.33 272.318 2121.34 269.633 Q2119.35 266.925 2115.95 266.925 M2115.95 263.314 Q2121.5 263.314 2124.68 266.925 Q2127.85 270.536 2127.85 276.925 Q2127.85 283.291 2124.68 286.925 Q2121.5 290.536 2115.95 290.536 Q2110.37 290.536 2107.2 286.925 Q2104.05 283.291 2104.05 276.925 Q2104.05 270.536 2107.2 266.925 Q2110.37 263.314 2115.95 263.314 Z\" fill=\"#000000\" fill-rule=\"evenodd\" fill-opacity=\"1\" /><path clip-path=\"url(#clip690)\" d=\"M2153.56 264.934 L2153.56 268.916 Q2151.76 267.92 2149.93 267.434 Q2148.12 266.925 2146.27 266.925 Q2142.13 266.925 2139.84 269.564 Q2137.55 272.18 2137.55 276.925 Q2137.55 281.67 2139.84 284.309 Q2142.13 286.925 2146.27 286.925 Q2148.12 286.925 2149.93 286.439 Q2151.76 285.929 2153.56 284.934 L2153.56 288.869 Q2151.78 289.703 2149.86 290.119 Q2147.96 290.536 2145.81 290.536 Q2139.95 290.536 2136.5 286.855 Q2133.05 283.175 2133.05 276.925 Q2133.05 270.582 2136.53 266.948 Q2140.02 263.314 2146.09 263.314 Q2148.05 263.314 2149.93 263.731 Q2151.8 264.124 2153.56 264.934 Z\" fill=\"#000000\" fill-rule=\"evenodd\" fill-opacity=\"1\" /><path clip-path=\"url(#clip690)\" d=\"M2183.15 275.837 L2183.15 277.92 L2163.56 277.92 Q2163.84 282.318 2166.2 284.633 Q2168.59 286.925 2172.82 286.925 Q2175.28 286.925 2177.57 286.323 Q2179.88 285.721 2182.15 284.517 L2182.15 288.545 Q2179.86 289.517 2177.45 290.027 Q2175.05 290.536 2172.57 290.536 Q2166.36 290.536 2162.73 286.925 Q2159.12 283.314 2159.12 277.156 Q2159.12 270.791 2162.55 267.064 Q2165.99 263.314 2171.83 263.314 Q2177.06 263.314 2180.09 266.693 Q2183.15 270.05 2183.15 275.837 M2178.89 274.587 Q2178.84 271.092 2176.92 269.008 Q2175.02 266.925 2171.87 266.925 Q2168.31 266.925 2166.16 268.939 Q2164.03 270.953 2163.7 274.61 L2178.89 274.587 Z\" fill=\"#000000\" fill-rule=\"evenodd\" fill-opacity=\"1\" /><path clip-path=\"url(#clip690)\" d=\"M2206.67 264.703 L2206.67 268.731 Q2204.86 267.805 2202.92 267.342 Q2200.97 266.879 2198.89 266.879 Q2195.72 266.879 2194.12 267.851 Q2192.55 268.823 2192.55 270.768 Q2192.55 272.249 2193.68 273.105 Q2194.81 273.939 2198.24 274.703 L2199.7 275.027 Q2204.23 275.999 2206.13 277.781 Q2208.05 279.541 2208.05 282.712 Q2208.05 286.323 2205.18 288.429 Q2202.34 290.536 2197.34 290.536 Q2195.25 290.536 2192.99 290.119 Q2190.74 289.726 2188.24 288.916 L2188.24 284.517 Q2190.6 285.744 2192.89 286.369 Q2195.18 286.971 2197.43 286.971 Q2200.44 286.971 2202.06 285.953 Q2203.68 284.911 2203.68 283.036 Q2203.68 281.3 2202.5 280.374 Q2201.34 279.448 2197.38 278.592 L2195.9 278.244 Q2191.94 277.411 2190.18 275.698 Q2188.42 273.962 2188.42 270.953 Q2188.42 267.295 2191.02 265.305 Q2193.61 263.314 2198.38 263.314 Q2200.74 263.314 2202.82 263.661 Q2204.91 264.008 2206.67 264.703 Z\" fill=\"#000000\" fill-rule=\"evenodd\" fill-opacity=\"1\" /><path clip-path=\"url(#clip690)\" d=\"M2231.36 264.703 L2231.36 268.731 Q2229.56 267.805 2227.61 267.342 Q2225.67 266.879 2223.59 266.879 Q2220.42 266.879 2218.82 267.851 Q2217.24 268.823 2217.24 270.768 Q2217.24 272.249 2218.38 273.105 Q2219.51 273.939 2222.94 274.703 L2224.4 275.027 Q2228.93 275.999 2230.83 277.781 Q2232.75 279.541 2232.75 282.712 Q2232.75 286.323 2229.88 288.429 Q2227.04 290.536 2222.04 290.536 Q2219.95 290.536 2217.68 290.119 Q2215.44 289.726 2212.94 288.916 L2212.94 284.517 Q2215.3 285.744 2217.59 286.369 Q2219.88 286.971 2222.13 286.971 Q2225.14 286.971 2226.76 285.953 Q2228.38 284.911 2228.38 283.036 Q2228.38 281.3 2227.2 280.374 Q2226.04 279.448 2222.08 278.592 L2220.6 278.244 Q2216.64 277.411 2214.88 275.698 Q2213.12 273.962 2213.12 270.953 Q2213.12 267.295 2215.72 265.305 Q2218.31 263.314 2223.08 263.314 Q2225.44 263.314 2227.52 263.661 Q2229.61 264.008 2231.36 264.703 Z\" fill=\"#000000\" fill-rule=\"evenodd\" fill-opacity=\"1\" /></svg>\n"
      ]
     },
     "execution_count": 16,
     "metadata": {},
     "output_type": "execute_result"
    }
   ],
   "source": [
    "pp=scatter(ccvec,color=\"red\",label=\"Numerical control process\")\n",
    "scatter!(pp,ctrlp1,markershape=:xcross,markercolor=\"blue\",label=\"Data driven control process\")\n",
    "title!(\"control plot\")"
   ]
  },
  {
   "cell_type": "code",
   "execution_count": null,
   "id": "0ab11fc9",
   "metadata": {},
   "outputs": [],
   "source": []
  },
  {
   "cell_type": "code",
   "execution_count": null,
   "id": "2da5ca91",
   "metadata": {},
   "outputs": [],
   "source": []
  },
  {
   "cell_type": "code",
   "execution_count": null,
   "id": "e71b6773",
   "metadata": {},
   "outputs": [],
   "source": []
  },
  {
   "cell_type": "code",
   "execution_count": null,
   "id": "363697ce",
   "metadata": {},
   "outputs": [],
   "source": []
  },
  {
   "cell_type": "code",
   "execution_count": null,
   "id": "2b127e10",
   "metadata": {},
   "outputs": [],
   "source": []
  }
 ],
 "metadata": {
  "kernelspec": {
   "display_name": "Julia 1.6.3",
   "language": "julia",
   "name": "julia-1.6"
  },
  "language_info": {
   "file_extension": ".jl",
   "mimetype": "application/julia",
   "name": "julia",
   "version": "1.6.3"
  }
 },
 "nbformat": 4,
 "nbformat_minor": 5
}
